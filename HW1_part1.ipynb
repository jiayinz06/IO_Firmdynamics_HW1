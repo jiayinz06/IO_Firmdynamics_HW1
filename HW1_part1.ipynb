{
 "cells": [
  {
   "cell_type": "code",
   "execution_count": 1,
   "metadata": {},
   "outputs": [],
   "source": [
    "using Random, Distributions\n",
    "using LinearAlgebra, Statistics\n",
    "using CSV, DataFrames\n",
    "using Plots"
   ]
  },
  {
   "cell_type": "code",
   "execution_count": 2,
   "metadata": {},
   "outputs": [
    {
     "data": {
      "text/html": [
       "<table class=\"data-frame\"><thead><tr><th></th><th>year</th><th>sector</th><th>fage</th><th>firms</th><th>estabs</th><th>emp</th><th>denom</th><th>estabs_entry</th></tr><tr><th></th><th>Int64</th><th>String</th><th>String</th><th>Int64</th><th>Int64</th><th>Int64</th><th>Int64</th><th>String</th></tr></thead><tbody><p>12 rows × 27 columns (omitted printing of 19 columns)</p><tr><th>1</th><td>2018</td><td>44-45</td><td>a) 0</td><td>43132</td><td>43449</td><td>193935</td><td>96968</td><td>43449</td></tr><tr><th>2</th><td>2018</td><td>44-45</td><td>b) 1</td><td>36043</td><td>36596</td><td>182127</td><td>185175</td><td>63</td></tr><tr><th>3</th><td>2018</td><td>44-45</td><td>c) 2</td><td>32769</td><td>33649</td><td>190511</td><td>192813</td><td>1189</td></tr><tr><th>4</th><td>2018</td><td>44-45</td><td>d) 3</td><td>28670</td><td>29817</td><td>188771</td><td>192942</td><td>1025</td></tr><tr><th>5</th><td>2018</td><td>44-45</td><td>e) 4</td><td>26064</td><td>27532</td><td>185633</td><td>187887</td><td>931</td></tr><tr><th>6</th><td>2018</td><td>44-45</td><td>f) 5</td><td>23174</td><td>24217</td><td>162477</td><td>165576</td><td>724</td></tr><tr><th>7</th><td>2018</td><td>44-45</td><td>g) 6 to 10</td><td>90776</td><td>97963</td><td>786885</td><td>802178</td><td>2477</td></tr><tr><th>8</th><td>2018</td><td>44-45</td><td>h) 11 to 15</td><td>74236</td><td>84918</td><td>763098</td><td>769537</td><td>1820</td></tr><tr><th>9</th><td>2018</td><td>44-45</td><td>i) 16 to 20</td><td>50111</td><td>63855</td><td>634190</td><td>644065</td><td>1500</td></tr><tr><th>10</th><td>2018</td><td>44-45</td><td>j) 21 to 25</td><td>41871</td><td>58039</td><td>829552</td><td>835156</td><td>1222</td></tr><tr><th>11</th><td>2018</td><td>44-45</td><td>k) 26+</td><td>82800</td><td>178698</td><td>3110897</td><td>3116104</td><td>3519</td></tr><tr><th>12</th><td>2018</td><td>44-45</td><td>l) Left Censored</td><td>49520</td><td>306038</td><td>8550769</td><td>8591602</td><td>8613</td></tr></tbody></table>"
      ],
      "text/latex": [
       "\\begin{tabular}{r|ccccccccc}\n",
       "\t& year & sector & fage & firms & estabs & emp & denom & estabs\\_entry & \\\\\n",
       "\t\\hline\n",
       "\t& Int64 & String & String & Int64 & Int64 & Int64 & Int64 & String & \\\\\n",
       "\t\\hline\n",
       "\t1 & 2018 & 44-45 & a) 0 & 43132 & 43449 & 193935 & 96968 & 43449 & $\\dots$ \\\\\n",
       "\t2 & 2018 & 44-45 & b) 1 & 36043 & 36596 & 182127 & 185175 & 63 & $\\dots$ \\\\\n",
       "\t3 & 2018 & 44-45 & c) 2 & 32769 & 33649 & 190511 & 192813 & 1189 & $\\dots$ \\\\\n",
       "\t4 & 2018 & 44-45 & d) 3 & 28670 & 29817 & 188771 & 192942 & 1025 & $\\dots$ \\\\\n",
       "\t5 & 2018 & 44-45 & e) 4 & 26064 & 27532 & 185633 & 187887 & 931 & $\\dots$ \\\\\n",
       "\t6 & 2018 & 44-45 & f) 5 & 23174 & 24217 & 162477 & 165576 & 724 & $\\dots$ \\\\\n",
       "\t7 & 2018 & 44-45 & g) 6 to 10 & 90776 & 97963 & 786885 & 802178 & 2477 & $\\dots$ \\\\\n",
       "\t8 & 2018 & 44-45 & h) 11 to 15 & 74236 & 84918 & 763098 & 769537 & 1820 & $\\dots$ \\\\\n",
       "\t9 & 2018 & 44-45 & i) 16 to 20 & 50111 & 63855 & 634190 & 644065 & 1500 & $\\dots$ \\\\\n",
       "\t10 & 2018 & 44-45 & j) 21 to 25 & 41871 & 58039 & 829552 & 835156 & 1222 & $\\dots$ \\\\\n",
       "\t11 & 2018 & 44-45 & k) 26+ & 82800 & 178698 & 3110897 & 3116104 & 3519 & $\\dots$ \\\\\n",
       "\t12 & 2018 & 44-45 & l) Left Censored & 49520 & 306038 & 8550769 & 8591602 & 8613 & $\\dots$ \\\\\n",
       "\\end{tabular}\n"
      ],
      "text/plain": [
       "\u001b[1m12×27 DataFrame\u001b[0m\n",
       "\u001b[1m Row \u001b[0m│\u001b[1m year  \u001b[0m\u001b[1m sector \u001b[0m\u001b[1m fage             \u001b[0m\u001b[1m firms \u001b[0m\u001b[1m estabs \u001b[0m\u001b[1m emp     \u001b[0m\u001b[1m denom   \u001b[0m\u001b[1m estab\u001b[0m ⋯\n",
       "\u001b[1m     \u001b[0m│\u001b[90m Int64 \u001b[0m\u001b[90m String \u001b[0m\u001b[90m String           \u001b[0m\u001b[90m Int64 \u001b[0m\u001b[90m Int64  \u001b[0m\u001b[90m Int64   \u001b[0m\u001b[90m Int64   \u001b[0m\u001b[90m Strin\u001b[0m ⋯\n",
       "─────┼──────────────────────────────────────────────────────────────────────────\n",
       "   1 │  2018  44-45   a) 0              43132   43449   193935    96968  43449 ⋯\n",
       "   2 │  2018  44-45   b) 1              36043   36596   182127   185175  63\n",
       "   3 │  2018  44-45   c) 2              32769   33649   190511   192813  1189\n",
       "   4 │  2018  44-45   d) 3              28670   29817   188771   192942  1025\n",
       "   5 │  2018  44-45   e) 4              26064   27532   185633   187887  931   ⋯\n",
       "   6 │  2018  44-45   f) 5              23174   24217   162477   165576  724\n",
       "   7 │  2018  44-45   g) 6 to 10        90776   97963   786885   802178  2477\n",
       "   8 │  2018  44-45   h) 11 to 15       74236   84918   763098   769537  1820\n",
       "   9 │  2018  44-45   i) 16 to 20       50111   63855   634190   644065  1500  ⋯\n",
       "  10 │  2018  44-45   j) 21 to 25       41871   58039   829552   835156  1222\n",
       "  11 │  2018  44-45   k) 26+            82800  178698  3110897  3116104  3519\n",
       "  12 │  2018  44-45   l) Left Censored  49520  306038  8550769  8591602  8613\n",
       "\u001b[36m                                                              20 columns omitted\u001b[0m"
      ]
     },
     "execution_count": 2,
     "metadata": {},
     "output_type": "execute_result"
    }
   ],
   "source": [
    "γ = 0.2\n",
    "β = 0.8 # 4% interest rate, 5 years\n",
    "\n",
    "df = DataFrame(CSV.File(\"/Users/yinyin/Documents/GitHub/Practice/firm_dynamics/bds2018_sector_fage.csv\",delim=','))\n",
    "d = filter([:year, :sector] => (year,sector) -> year==2018 && sector == \"44-45\" ,df)"
   ]
  },
  {
   "cell_type": "markdown",
   "metadata": {},
   "source": [
    "If we take variable cost to be wL and normalize w=1. Then log(VC)=log(L), meanwhile we have $$VC = \\frac{q^{1+\\gamma}}{(1+\\gamma)s}$$ \n",
    "so $$log(VC)= (1+\\gamma)log(q) - log(1+\\gamma) - log(s) $$,  \n",
    "\n",
    "Also, note that firms' optimal decision of $q$ is $q = (p*s)^(1/γ)$, so we have $log(q)= \\frac{1}{\\gamma}(log(p)+log(s))$, so we have\n",
    "\n",
    "$$ log(L) = \\frac{1+\\gamma}{\\gamma}(log(p)+log(s)) - log(1+\\gamma) - log(s) $$\n",
    "$$ log(L) = 1/\\gamma  log(s) + \\frac{1+\\gamma}{\\gamma}log(p) - log(1+\\gamma) $$\n",
    "$$ log(s) = \\gamma log(L) - (1+\\gamma)log(p) + \\gamma*log(1+\\gamma) $$\n",
    "\n",
    "Since we have $log(s_{t=1}) = \\rho log(s_{t}) + \\epsilon_{t}$, we have\n",
    "\n",
    "$$ \\gamma log(L_{t+1}) - (1+\\gamma)log(p) + \\gamma*log(1+\\gamma) = \\rho [\\gamma log(L_{t}) - (1+\\gamma)log(p) + \\gamma*log(1+\\gamma)]  + \\epsilon_{t+1}$$\n",
    "\n",
    "$$ log(L_{t+1}) = \\rho log(L_{t}) + A + \\frac{1}{\\gamma}\\epsilon_{t+1}  $$"
   ]
  },
  {
   "cell_type": "code",
   "execution_count": 3,
   "metadata": {},
   "outputs": [
    {
     "data": {
      "text/plain": [
       "StatsModels.TableRegressionModel{LinearModel{GLM.LmResp{Array{Float64,1}},GLM.DensePredChol{Float64,Cholesky{Float64,Array{Float64,2}}}},Array{Float64,2}}\n",
       "\n",
       "Y ~ 1 + X\n",
       "\n",
       "Coefficients:\n",
       "───────────────────────────────────────────────────────────────────────\n",
       "                Coef.  Std. Error     t  Pr(>|t|)  Lower 95%  Upper 95%\n",
       "───────────────────────────────────────────────────────────────────────\n",
       "(Intercept)  0.599082    0.417623  1.43    0.2469  -0.729981    1.92815\n",
       "X            0.865704    0.190756  4.54    0.0200   0.258635    1.47277\n",
       "───────────────────────────────────────────────────────────────────────"
      ]
     },
     "execution_count": 3,
     "metadata": {},
     "output_type": "execute_result"
    }
   ],
   "source": [
    "firms = zeros(6) # 6 age cohorts: entrants, 1-5, 6-10, 11-15, 16-20, 21-25\n",
    "emp = zeros(6)\n",
    "deaths = zeros(6)\n",
    "\n",
    "firms[1] = d.firms[1]*5\n",
    "emp[1] = d.emp[1]*5\n",
    "deaths[1] =0\n",
    "\n",
    "firms[2] = sum(d.firms[2:6])\n",
    "emp[2] = sum(d.emp[2:6])\n",
    "deaths[2] = sum(parse.(Int64, d.firmdeath_firms[2:6]))\n",
    "\n",
    "for i in 3:6\n",
    "    firms[i] = d.firms[4+i]\n",
    "    emp[i] = d.emp[4+i]\n",
    "    deaths[i] = parse(Int64, d.firmdeath_firms[4+i])\n",
    "end\n",
    "\n",
    "avg_emp = emp./(firms-deaths) # average employment for surviving firms\n",
    "lemp = log.(avg_emp)\n",
    "\n",
    "using GLM\n",
    "\n",
    "X = lemp[1:5]\n",
    "Y = lemp[2:6]\n",
    "\n",
    "# plot(X,Y)\n",
    "\n",
    "data = DataFrame(X=X,Y=Y)\n",
    "lm(@formula(Y ~ X), data)"
   ]
  },
  {
   "cell_type": "code",
   "execution_count": 4,
   "metadata": {},
   "outputs": [
    {
     "name": "stdout",
     "output_type": "stream",
     "text": [
      "σ:0.05911695387892896  σ_0:0.11822350454717888  m:0.08842190636328706"
     ]
    }
   ],
   "source": [
    "ρ = 0.866\n",
    "σ = γ*sqrt(var(lemp)*5/4*(1-ρ^2))# = 0.06\n",
    "σ_0 = sqrt(σ^2/(1 - ρ^2))# 0.12\n",
    "m = (0.6 - ρ *log(1+γ))*γ # assume p=1, m = 0.088\n",
    "print(\"σ:\",σ, \"  σ_0:\",σ_0, \"  m:\", m) \n",
    "\n",
    "# parameters left to calibrate: c_e, f, m_0"
   ]
  },
  {
   "cell_type": "code",
   "execution_count": 5,
   "metadata": {},
   "outputs": [],
   "source": [
    "σ = 0.059\n",
    "σ_0 = sqrt(σ^2/(1 - ρ^2)) # 0.12\n",
    "m = 0.088;"
   ]
  },
  {
   "cell_type": "code",
   "execution_count": 6,
   "metadata": {},
   "outputs": [],
   "source": [
    "# moments to match\n",
    "\n",
    "mom = zeros(5)\n",
    "for i in 1:5\n",
    "    mom[i] = (firms[i+1]-deaths[i+1])/firms[1]\n",
    "end\n",
    "\n",
    "# probability to survive till period 1, 2, 3, 4, 5: α_1 ~ α_5"
   ]
  },
  {
   "cell_type": "code",
   "execution_count": 7,
   "metadata": {},
   "outputs": [
    {
     "data": {
      "text/plain": [
       "tauchen (generic function with 4 methods)"
      ]
     },
     "execution_count": 7,
     "metadata": {},
     "output_type": "execute_result"
    }
   ],
   "source": [
    "# Discretize AR(1) - Tauchen Method\n",
    "\n",
    "function tauchen(m, σ, ρ=0.866, n_std = 7, N = 120)\n",
    "    # Discretize space\n",
    "    m_s = m/(1-ρ)\n",
    "    σ_s = σ/sqrt(1-ρ^2)\n",
    "    s_min = m_s - n_std * σ_s/2\n",
    "    s_max = m_s + n_std * σ_s\n",
    "    log_s = range(s_min, s_max, length = N)\n",
    "    s = exp.(log_s)\n",
    "    d = log_s[2] - log_s[1]\n",
    "    d_half = d/2\n",
    "    \n",
    "    # Tranformation matrix\n",
    "    P = zeros(N,N)\n",
    "    for i in eachindex(log_s) \n",
    "        P[i,1] = cdf(Normal(0,1), (s_min + d_half -ρ*log_s[i]-m)/σ)\n",
    "        P[i,N] = 1 - cdf(Normal(0,1), (s_max - d_half -ρ*log_s[i]-m)/σ)\n",
    "        for j in 2:N-1\n",
    "            P[i,j] = cdf(Normal(0,1), (log_s[j] + d_half -ρ*log_s[i]-m)/σ) - cdf(Normal(0,1), (log_s[j]  - d_half -ρ*log_s[i]-m)/σ)\n",
    "        end    \n",
    "    end\n",
    "    return P,s\n",
    "end"
   ]
  },
  {
   "cell_type": "code",
   "execution_count": 8,
   "metadata": {},
   "outputs": [],
   "source": [
    "(P,s) = tauchen(m, σ);"
   ]
  },
  {
   "cell_type": "code",
   "execution_count": 9,
   "metadata": {},
   "outputs": [
    {
     "data": {
      "text/plain": [
       "findV (generic function with 5 methods)"
      ]
     },
     "execution_count": 9,
     "metadata": {},
     "output_type": "execute_result"
    }
   ],
   "source": [
    "# Find Value Function\n",
    "\n",
    "function findV(p, V0, P, s, f, γ=0.2, β=0.8, max_it = 1e4, tol=1e-8)\n",
    "    i = 1 \n",
    "    dist = 1e3\n",
    "    V = V0\n",
    "    N = length(s)\n",
    "    \n",
    "    # optimal q\n",
    "    q = (p*s).^(1/γ)\n",
    "    # profit function\n",
    "    profit = p*q - (q.^(1+γ))./((1+γ)*s)-f*ones(N)\n",
    "    \n",
    "    while (i < max_it) & (dist > tol)\n",
    "        V1 =  max.(0, profit + β * P'*V)\n",
    "        dist = norm(V1 - V)\n",
    "        V = V1\n",
    "        i += 1\n",
    "    end\n",
    "    \n",
    "    return V\n",
    "    \n",
    "end"
   ]
  },
  {
   "cell_type": "code",
   "execution_count": 10,
   "metadata": {},
   "outputs": [
    {
     "data": {
      "text/plain": [
       "fr_entry (generic function with 1 method)"
      ]
     },
     "execution_count": 10,
     "metadata": {},
     "output_type": "execute_result"
    }
   ],
   "source": [
    "function fr_entry(p, P, s, c_e, g, f)\n",
    "    V0 = zeros(N)\n",
    "    V = findV(p, V0, P, s, f)\n",
    "    return  β*g'*V - c_e\n",
    "end"
   ]
  },
  {
   "cell_type": "code",
   "execution_count": 11,
   "metadata": {},
   "outputs": [
    {
     "data": {
      "text/plain": [
       "eqm_price (generic function with 3 methods)"
      ]
     },
     "execution_count": 11,
     "metadata": {},
     "output_type": "execute_result"
    }
   ],
   "source": [
    "function eqm_price(P, s, c_e, g, f, max_it = 1e3, tol=1e-8)\n",
    "    p_max = 100\n",
    "    p_min = 0\n",
    "    v_e = 1e3\n",
    "    i = 0\n",
    "    \n",
    "    while (i < max_it) & (p_max - p_min > tol)\n",
    "        p = (p_max + p_min)/2\n",
    "        v_e = fr_entry(p, P, s, c_e, g, f)\n",
    "        if v_e > 0\n",
    "            p_max = p\n",
    "        else\n",
    "            p_min = p\n",
    "        end\n",
    "        i +=1\n",
    "    end\n",
    "    \n",
    "    return p_min\n",
    "end"
   ]
  },
  {
   "cell_type": "code",
   "execution_count": 12,
   "metadata": {},
   "outputs": [
    {
     "data": {
      "text/plain": [
       "exit_s (generic function with 1 method)"
      ]
     },
     "execution_count": 12,
     "metadata": {},
     "output_type": "execute_result"
    }
   ],
   "source": [
    "# Exit threshold\n",
    "\n",
    "function exit_s(p, s, P, f)\n",
    "    v = -1\n",
    "    # optimal q\n",
    "    q = (p*s).^(1/γ)\n",
    "    # profit function\n",
    "    profit = p*q - (q.^(1+γ))./((1+γ)*s)-f*ones(N)\n",
    "    \n",
    "    V0 = zeros(N)\n",
    "    V = profit + β*P'*findV(p, V0, P, s, f)\n",
    "    \n",
    "    return sum(V.<0)\n",
    "end"
   ]
  },
  {
   "cell_type": "code",
   "execution_count": 13,
   "metadata": {},
   "outputs": [
    {
     "data": {
      "text/plain": [
       "Moments (generic function with 1 method)"
      ]
     },
     "execution_count": 13,
     "metadata": {},
     "output_type": "execute_result"
    }
   ],
   "source": [
    "# moments \n",
    "\n",
    "N = length(s)\n",
    "\n",
    "function Moments(f, c_e, m_0)\n",
    "    \n",
    "    # Initial distribution\n",
    "    G = cdf(LogNormal(m_0,σ_0),s)\n",
    "    g = zeros(N)\n",
    "    g[1] = G[1]\n",
    "\n",
    "    for i in 2:N\n",
    "        g[i] = G[i] - G[i-1]\n",
    "    end\n",
    "    g=round.(g/sum(g),digits=4);\n",
    "\n",
    "    \n",
    "    price = eqm_price(P, s, c_e, g, f)\n",
    "    # Exit rule\n",
    "    k = exit_s(price,s, P, f)\n",
    "    s_star = s[k+1]\n",
    "    \n",
    "    P_tilde = zeros(N,N)\n",
    "    # g_tilde = zeros(N)\n",
    "    for i in k+1:N\n",
    "        P_tilde[i,:] = P[i,:]\n",
    "        # g_tilde[i] = g[i]\n",
    "    end\n",
    "    \n",
    "    # Invariant distribution\n",
    "    μ=inv(I-P_tilde')*g\n",
    "    \n",
    "    α = zeros(5)\n",
    "    MU = zeros(5,N)\n",
    "\n",
    "    for i in eachindex(α)\n",
    "        MU[i,:] = (P_tilde')^(i) * g\n",
    "        α[i] = sum(MU[i,:])/sum(g)\n",
    "    end\n",
    "\n",
    "    return α  \n",
    "end"
   ]
  },
  {
   "cell_type": "code",
   "execution_count": 14,
   "metadata": {},
   "outputs": [
    {
     "data": {
      "text/plain": [
       "0.1:0.1:1.5"
      ]
     },
     "execution_count": 14,
     "metadata": {},
     "output_type": "execute_result"
    }
   ],
   "source": [
    "c_e = 5:5:100\n",
    "f = 5:5:100\n",
    "m_0 = 0.1:0.1:1.5"
   ]
  },
  {
   "cell_type": "code",
   "execution_count": 15,
   "metadata": {},
   "outputs": [
    {
     "name": "stdout",
     "output_type": "stream",
     "text": [
      "0.05301170288115419i4j3k9f:20 c_e:15 m_0:0.9"
     ]
    }
   ],
   "source": [
    "i_star = 1\n",
    "j_star = 1\n",
    "k_star = 1\n",
    "di = 1e3\n",
    "\n",
    "for i in eachindex(f)\n",
    "    for j in eachindex(c_e)\n",
    "        for k in eachindex(m_0)\n",
    "            # print(\"i\", i,\"j\",j,\"k\",k)\n",
    "            di_new = norm(Moments(f[i], c_e[j], m_0[k]) - mom)\n",
    "            if di_new < di\n",
    "                di = di_new\n",
    "                i_star = i\n",
    "                j_star = j\n",
    "                k_star = k\n",
    "            end  \n",
    "        end\n",
    "    end\n",
    "end\n",
    "\n",
    "print(di)\n",
    "print(\"i\",i_star,\"j\", j_star,\"k\", k_star)\n",
    "print(\"f:\", f[i_star],\" c_e:\", c_e[j_star],\" m_0:\", m_0[k_star])"
   ]
  },
  {
   "cell_type": "code",
   "execution_count": 16,
   "metadata": {},
   "outputs": [
    {
     "data": {
      "text/plain": [
       "5-element Array{Float64,1}:\n",
       " 0.5711072985254567\n",
       " 0.38122507650932025\n",
       " 0.31800055643141983\n",
       " 0.2167022164518223\n",
       " 0.18196234814059167"
      ]
     },
     "execution_count": 16,
     "metadata": {},
     "output_type": "execute_result"
    }
   ],
   "source": [
    "# Survival rate in data\n",
    "mom"
   ]
  },
  {
   "cell_type": "code",
   "execution_count": 17,
   "metadata": {},
   "outputs": [
    {
     "data": {
      "text/plain": [
       "5-element Array{Float64,1}:\n",
       " 0.571314262852569\n",
       " 0.42046365552025183\n",
       " 0.30360881270130824\n",
       " 0.21474941560777264\n",
       " 0.1494109118189756"
      ]
     },
     "execution_count": 17,
     "metadata": {},
     "output_type": "execute_result"
    }
   ],
   "source": [
    "# Survival rate in model\n",
    "α = Moments(f[i_star], c_e[j_star], m_0[k_star])"
   ]
  },
  {
   "cell_type": "code",
   "execution_count": 18,
   "metadata": {},
   "outputs": [
    {
     "data": {
      "text/plain": [
       "5-element Array{Float64,1}:\n",
       " 0.5500650195058504\n",
       " 0.42912778235423704\n",
       " 0.3376276246879788\n",
       " 0.2652079035609483\n",
       " 0.20768348941515205"
      ]
     },
     "execution_count": 18,
     "metadata": {},
     "output_type": "execute_result"
    }
   ],
   "source": [
    "Moments(f[5], c_e[5], m_0[8])"
   ]
  },
  {
   "cell_type": "code",
   "execution_count": 20,
   "metadata": {},
   "outputs": [
    {
     "data": {
      "text/plain": [
       "8.344987480293055"
      ]
     },
     "execution_count": 20,
     "metadata": {},
     "output_type": "execute_result"
    }
   ],
   "source": [
    "# Average firm age in data\n",
    "sum(mom)*5"
   ]
  },
  {
   "cell_type": "code",
   "execution_count": 19,
   "metadata": {},
   "outputs": [
    {
     "data": {
      "text/plain": [
       "8.297735292504386"
      ]
     },
     "execution_count": 19,
     "metadata": {},
     "output_type": "execute_result"
    }
   ],
   "source": [
    "# Average firm age in model\n",
    "sum(α)*5"
   ]
  },
  {
   "cell_type": "code",
   "execution_count": 21,
   "metadata": {},
   "outputs": [
    {
     "data": {
      "text/plain": [
       "0.599162073257468"
      ]
     },
     "execution_count": 21,
     "metadata": {},
     "output_type": "execute_result"
    }
   ],
   "source": [
    "# Turnover rate in data: Entry/All firms i.e. λ/μ(S)\n",
    "1/(sum(mom))"
   ]
  },
  {
   "cell_type": "code",
   "execution_count": 22,
   "metadata": {},
   "outputs": [
    {
     "data": {
      "text/plain": [
       "0.6025740546961846"
      ]
     },
     "execution_count": 22,
     "metadata": {},
     "output_type": "execute_result"
    }
   ],
   "source": [
    "# Turnover rate in model: Entry/All firms i.e. λ/μ(S)\n",
    "1/sum(α)"
   ]
  },
  {
   "cell_type": "code",
   "execution_count": 23,
   "metadata": {},
   "outputs": [],
   "source": [
    " # Initial distribution\n",
    "    G = cdf(LogNormal(m_0[k_star],σ_0),s)\n",
    "    g = zeros(N)\n",
    "    g[1] = G[1]\n",
    "\n",
    "    for i in 2:N\n",
    "        g[i] = G[i] - G[i-1]\n",
    "    end\n",
    "    g=round.(g/sum(g),digits=4);\n",
    "\n",
    "    \n",
    "    price = eqm_price(P, s, c_e[j_star], g, f[i_star])\n",
    "    # Exit rule\n",
    "    k = exit_s(price,s, P, f[i_star])\n",
    "    s_star = s[k+1]\n",
    "    \n",
    "    P_tilde = zeros(N,N)\n",
    "    # g_tilde = zeros(N)\n",
    "    for i in k+1:N\n",
    "        P_tilde[i,:] = P[i,:]\n",
    "        # g_tilde[i] = g[i]\n",
    "    end\n",
    "    \n",
    "    # Invariant distribution\n",
    "    μ=inv(I-P_tilde')*g\n",
    "bar_μ =  μ/sum(μ);\n",
    "\n"
   ]
  },
  {
   "cell_type": "code",
   "execution_count": 25,
   "metadata": {},
   "outputs": [
    {
     "data": {
      "image/svg+xml": [
       "<?xml version=\"1.0\" encoding=\"utf-8\"?>\n",
       "<svg xmlns=\"http://www.w3.org/2000/svg\" xmlns:xlink=\"http://www.w3.org/1999/xlink\" width=\"600\" height=\"400\" viewBox=\"0 0 2400 1600\">\n",
       "<defs>\n",
       "  <clipPath id=\"clip500\">\n",
       "    <rect x=\"0\" y=\"0\" width=\"2400\" height=\"1600\"/>\n",
       "  </clipPath>\n",
       "</defs>\n",
       "<path clip-path=\"url(#clip500)\" d=\"\n",
       "M0 1600 L2400 1600 L2400 0 L0 0  Z\n",
       "  \" fill=\"#ffffff\" fill-rule=\"evenodd\" fill-opacity=\"1\"/>\n",
       "<defs>\n",
       "  <clipPath id=\"clip501\">\n",
       "    <rect x=\"480\" y=\"0\" width=\"1681\" height=\"1600\"/>\n",
       "  </clipPath>\n",
       "</defs>\n",
       "<path clip-path=\"url(#clip500)\" d=\"\n",
       "M238.616 1423.18 L2352.76 1423.18 L2352.76 47.2441 L238.616 47.2441  Z\n",
       "  \" fill=\"#ffffff\" fill-rule=\"evenodd\" fill-opacity=\"1\"/>\n",
       "<defs>\n",
       "  <clipPath id=\"clip502\">\n",
       "    <rect x=\"238\" y=\"47\" width=\"2115\" height=\"1377\"/>\n",
       "  </clipPath>\n",
       "</defs>\n",
       "<polyline clip-path=\"url(#clip502)\" style=\"stroke:#000000; stroke-width:2; stroke-opacity:0.1; fill:none\" points=\"\n",
       "  492.617,1423.18 492.617,47.2441 \n",
       "  \"/>\n",
       "<polyline clip-path=\"url(#clip502)\" style=\"stroke:#000000; stroke-width:2; stroke-opacity:0.1; fill:none\" points=\"\n",
       "  926.081,1423.18 926.081,47.2441 \n",
       "  \"/>\n",
       "<polyline clip-path=\"url(#clip502)\" style=\"stroke:#000000; stroke-width:2; stroke-opacity:0.1; fill:none\" points=\"\n",
       "  1359.54,1423.18 1359.54,47.2441 \n",
       "  \"/>\n",
       "<polyline clip-path=\"url(#clip502)\" style=\"stroke:#000000; stroke-width:2; stroke-opacity:0.1; fill:none\" points=\"\n",
       "  1793.01,1423.18 1793.01,47.2441 \n",
       "  \"/>\n",
       "<polyline clip-path=\"url(#clip502)\" style=\"stroke:#000000; stroke-width:2; stroke-opacity:0.1; fill:none\" points=\"\n",
       "  2226.47,1423.18 2226.47,47.2441 \n",
       "  \"/>\n",
       "<polyline clip-path=\"url(#clip500)\" style=\"stroke:#000000; stroke-width:4; stroke-opacity:1; fill:none\" points=\"\n",
       "  238.616,1423.18 2352.76,1423.18 \n",
       "  \"/>\n",
       "<polyline clip-path=\"url(#clip500)\" style=\"stroke:#000000; stroke-width:4; stroke-opacity:1; fill:none\" points=\"\n",
       "  492.617,1423.18 492.617,1406.67 \n",
       "  \"/>\n",
       "<polyline clip-path=\"url(#clip500)\" style=\"stroke:#000000; stroke-width:4; stroke-opacity:1; fill:none\" points=\"\n",
       "  926.081,1423.18 926.081,1406.67 \n",
       "  \"/>\n",
       "<polyline clip-path=\"url(#clip500)\" style=\"stroke:#000000; stroke-width:4; stroke-opacity:1; fill:none\" points=\"\n",
       "  1359.54,1423.18 1359.54,1406.67 \n",
       "  \"/>\n",
       "<polyline clip-path=\"url(#clip500)\" style=\"stroke:#000000; stroke-width:4; stroke-opacity:1; fill:none\" points=\"\n",
       "  1793.01,1423.18 1793.01,1406.67 \n",
       "  \"/>\n",
       "<polyline clip-path=\"url(#clip500)\" style=\"stroke:#000000; stroke-width:4; stroke-opacity:1; fill:none\" points=\"\n",
       "  2226.47,1423.18 2226.47,1406.67 \n",
       "  \"/>\n",
       "<path clip-path=\"url(#clip500)\" d=\"M 0 0 M465.013 1479.92 L472.652 1479.92 L472.652 1453.55 L464.342 1455.22 L464.342 1450.96 L472.606 1449.29 L477.281 1449.29 L477.281 1479.92 L484.92 1479.92 L484.92 1483.85 L465.013 1483.85 L465.013 1479.92 Z\" fill=\"#000000\" fill-rule=\"evenodd\" fill-opacity=\"1\" /><path clip-path=\"url(#clip500)\" d=\"M 0 0 M489.99 1477.97 L494.874 1477.97 L494.874 1483.85 L489.99 1483.85 L489.99 1477.97 Z\" fill=\"#000000\" fill-rule=\"evenodd\" fill-opacity=\"1\" /><path clip-path=\"url(#clip500)\" d=\"M 0 0 M499.99 1449.29 L518.346 1449.29 L518.346 1453.23 L504.272 1453.23 L504.272 1461.7 Q505.291 1461.35 506.309 1461.19 Q507.328 1461 508.346 1461 Q514.133 1461 517.513 1464.18 Q520.892 1467.35 520.892 1472.76 Q520.892 1478.34 517.42 1481.44 Q513.948 1484.52 507.629 1484.52 Q505.453 1484.52 503.184 1484.15 Q500.939 1483.78 498.531 1483.04 L498.531 1478.34 Q500.615 1479.48 502.837 1480.03 Q505.059 1480.59 507.536 1480.59 Q511.541 1480.59 513.878 1478.48 Q516.216 1476.38 516.216 1472.76 Q516.216 1469.15 513.878 1467.05 Q511.541 1464.94 507.536 1464.94 Q505.661 1464.94 503.786 1465.36 Q501.934 1465.77 499.99 1466.65 L499.99 1449.29 Z\" fill=\"#000000\" fill-rule=\"evenodd\" fill-opacity=\"1\" /><path clip-path=\"url(#clip500)\" d=\"M 0 0 M902.25 1479.92 L918.569 1479.92 L918.569 1483.85 L896.625 1483.85 L896.625 1479.92 Q899.287 1477.16 903.87 1472.53 Q908.477 1467.88 909.657 1466.54 Q911.902 1464.01 912.782 1462.28 Q913.685 1460.52 913.685 1458.83 Q913.685 1456.07 911.74 1454.34 Q909.819 1452.6 906.717 1452.6 Q904.518 1452.6 902.065 1453.37 Q899.634 1454.13 896.856 1455.68 L896.856 1450.96 Q899.68 1449.82 902.134 1449.25 Q904.588 1448.67 906.625 1448.67 Q911.995 1448.67 915.189 1451.35 Q918.384 1454.04 918.384 1458.53 Q918.384 1460.66 917.574 1462.58 Q916.787 1464.48 914.68 1467.07 Q914.101 1467.74 911 1470.96 Q907.898 1474.15 902.25 1479.92 Z\" fill=\"#000000\" fill-rule=\"evenodd\" fill-opacity=\"1\" /><path clip-path=\"url(#clip500)\" d=\"M 0 0 M923.638 1477.97 L928.523 1477.97 L928.523 1483.85 L923.638 1483.85 L923.638 1477.97 Z\" fill=\"#000000\" fill-rule=\"evenodd\" fill-opacity=\"1\" /><path clip-path=\"url(#clip500)\" d=\"M 0 0 M943.592 1452.37 Q939.981 1452.37 938.152 1455.94 Q936.347 1459.48 936.347 1466.61 Q936.347 1473.71 938.152 1477.28 Q939.981 1480.82 943.592 1480.82 Q947.226 1480.82 949.032 1477.28 Q950.861 1473.71 950.861 1466.61 Q950.861 1459.48 949.032 1455.94 Q947.226 1452.37 943.592 1452.37 M943.592 1448.67 Q949.402 1448.67 952.458 1453.27 Q955.536 1457.86 955.536 1466.61 Q955.536 1475.33 952.458 1479.94 Q949.402 1484.52 943.592 1484.52 Q937.782 1484.52 934.703 1479.94 Q931.648 1475.33 931.648 1466.61 Q931.648 1457.86 934.703 1453.27 Q937.782 1448.67 943.592 1448.67 Z\" fill=\"#000000\" fill-rule=\"evenodd\" fill-opacity=\"1\" /><path clip-path=\"url(#clip500)\" d=\"M 0 0 M1336.21 1479.92 L1352.53 1479.92 L1352.53 1483.85 L1330.59 1483.85 L1330.59 1479.92 Q1333.25 1477.16 1337.83 1472.53 Q1342.44 1467.88 1343.62 1466.54 Q1345.86 1464.01 1346.74 1462.28 Q1347.65 1460.52 1347.65 1458.83 Q1347.65 1456.07 1345.7 1454.34 Q1343.78 1452.6 1340.68 1452.6 Q1338.48 1452.6 1336.03 1453.37 Q1333.6 1454.13 1330.82 1455.68 L1330.82 1450.96 Q1333.64 1449.82 1336.1 1449.25 Q1338.55 1448.67 1340.59 1448.67 Q1345.96 1448.67 1349.15 1451.35 Q1352.35 1454.04 1352.35 1458.53 Q1352.35 1460.66 1351.53 1462.58 Q1350.75 1464.48 1348.64 1467.07 Q1348.06 1467.74 1344.96 1470.96 Q1341.86 1474.15 1336.21 1479.92 Z\" fill=\"#000000\" fill-rule=\"evenodd\" fill-opacity=\"1\" /><path clip-path=\"url(#clip500)\" d=\"M 0 0 M1357.6 1477.97 L1362.48 1477.97 L1362.48 1483.85 L1357.6 1483.85 L1357.6 1477.97 Z\" fill=\"#000000\" fill-rule=\"evenodd\" fill-opacity=\"1\" /><path clip-path=\"url(#clip500)\" d=\"M 0 0 M1367.6 1449.29 L1385.96 1449.29 L1385.96 1453.23 L1371.88 1453.23 L1371.88 1461.7 Q1372.9 1461.35 1373.92 1461.19 Q1374.94 1461 1375.96 1461 Q1381.74 1461 1385.12 1464.18 Q1388.5 1467.35 1388.5 1472.76 Q1388.5 1478.34 1385.03 1481.44 Q1381.56 1484.52 1375.24 1484.52 Q1373.06 1484.52 1370.79 1484.15 Q1368.55 1483.78 1366.14 1483.04 L1366.14 1478.34 Q1368.22 1479.48 1370.45 1480.03 Q1372.67 1480.59 1375.15 1480.59 Q1379.15 1480.59 1381.49 1478.48 Q1383.83 1476.38 1383.83 1472.76 Q1383.83 1469.15 1381.49 1467.05 Q1379.15 1464.94 1375.15 1464.94 Q1373.27 1464.94 1371.4 1465.36 Q1369.54 1465.77 1367.6 1466.65 L1367.6 1449.29 Z\" fill=\"#000000\" fill-rule=\"evenodd\" fill-opacity=\"1\" /><path clip-path=\"url(#clip500)\" d=\"M 0 0 M1778.77 1465.22 Q1782.13 1465.94 1784 1468.2 Q1785.9 1470.47 1785.9 1473.81 Q1785.9 1478.92 1782.38 1481.72 Q1778.86 1484.52 1772.38 1484.52 Q1770.21 1484.52 1767.89 1484.08 Q1765.6 1483.67 1763.15 1482.81 L1763.15 1478.3 Q1765.09 1479.43 1767.41 1480.01 Q1769.72 1480.59 1772.24 1480.59 Q1776.64 1480.59 1778.93 1478.85 Q1781.25 1477.12 1781.25 1473.81 Q1781.25 1470.75 1779.1 1469.04 Q1776.97 1467.3 1773.15 1467.3 L1769.12 1467.3 L1769.12 1463.46 L1773.33 1463.46 Q1776.78 1463.46 1778.61 1462.09 Q1780.44 1460.7 1780.44 1458.11 Q1780.44 1455.45 1778.54 1454.04 Q1776.67 1452.6 1773.15 1452.6 Q1771.23 1452.6 1769.03 1453.02 Q1766.83 1453.44 1764.19 1454.31 L1764.19 1450.15 Q1766.85 1449.41 1769.17 1449.04 Q1771.5 1448.67 1773.56 1448.67 Q1778.89 1448.67 1781.99 1451.1 Q1785.09 1453.5 1785.09 1457.63 Q1785.09 1460.5 1783.45 1462.49 Q1781.8 1464.45 1778.77 1465.22 Z\" fill=\"#000000\" fill-rule=\"evenodd\" fill-opacity=\"1\" /><path clip-path=\"url(#clip500)\" d=\"M 0 0 M1790.97 1477.97 L1795.85 1477.97 L1795.85 1483.85 L1790.97 1483.85 L1790.97 1477.97 Z\" fill=\"#000000\" fill-rule=\"evenodd\" fill-opacity=\"1\" /><path clip-path=\"url(#clip500)\" d=\"M 0 0 M1810.92 1452.37 Q1807.31 1452.37 1805.48 1455.94 Q1803.68 1459.48 1803.68 1466.61 Q1803.68 1473.71 1805.48 1477.28 Q1807.31 1480.82 1810.92 1480.82 Q1814.56 1480.82 1816.36 1477.28 Q1818.19 1473.71 1818.19 1466.61 Q1818.19 1459.48 1816.36 1455.94 Q1814.56 1452.37 1810.92 1452.37 M1810.92 1448.67 Q1816.73 1448.67 1819.79 1453.27 Q1822.87 1457.86 1822.87 1466.61 Q1822.87 1475.33 1819.79 1479.94 Q1816.73 1484.52 1810.92 1484.52 Q1805.11 1484.52 1802.04 1479.94 Q1798.98 1475.33 1798.98 1466.61 Q1798.98 1457.86 1802.04 1453.27 Q1805.11 1448.67 1810.92 1448.67 Z\" fill=\"#000000\" fill-rule=\"evenodd\" fill-opacity=\"1\" /><path clip-path=\"url(#clip500)\" d=\"M 0 0 M2212.73 1465.22 Q2216.09 1465.94 2217.96 1468.2 Q2219.86 1470.47 2219.86 1473.81 Q2219.86 1478.92 2216.34 1481.72 Q2212.83 1484.52 2206.34 1484.52 Q2204.17 1484.52 2201.85 1484.08 Q2199.56 1483.67 2197.11 1482.81 L2197.11 1478.3 Q2199.05 1479.43 2201.37 1480.01 Q2203.68 1480.59 2206.21 1480.59 Q2210.6 1480.59 2212.89 1478.85 Q2215.21 1477.12 2215.21 1473.81 Q2215.21 1470.75 2213.06 1469.04 Q2210.93 1467.3 2207.11 1467.3 L2203.08 1467.3 L2203.08 1463.46 L2207.29 1463.46 Q2210.74 1463.46 2212.57 1462.09 Q2214.4 1460.7 2214.4 1458.11 Q2214.4 1455.45 2212.5 1454.04 Q2210.63 1452.6 2207.11 1452.6 Q2205.19 1452.6 2202.99 1453.02 Q2200.79 1453.44 2198.15 1454.31 L2198.15 1450.15 Q2200.81 1449.41 2203.13 1449.04 Q2205.46 1448.67 2207.52 1448.67 Q2212.85 1448.67 2215.95 1451.1 Q2219.05 1453.5 2219.05 1457.63 Q2219.05 1460.5 2217.41 1462.49 Q2215.77 1464.45 2212.73 1465.22 Z\" fill=\"#000000\" fill-rule=\"evenodd\" fill-opacity=\"1\" /><path clip-path=\"url(#clip500)\" d=\"M 0 0 M2224.93 1477.97 L2229.82 1477.97 L2229.82 1483.85 L2224.93 1483.85 L2224.93 1477.97 Z\" fill=\"#000000\" fill-rule=\"evenodd\" fill-opacity=\"1\" /><path clip-path=\"url(#clip500)\" d=\"M 0 0 M2234.93 1449.29 L2253.29 1449.29 L2253.29 1453.23 L2239.21 1453.23 L2239.21 1461.7 Q2240.23 1461.35 2241.25 1461.19 Q2242.27 1461 2243.29 1461 Q2249.08 1461 2252.45 1464.18 Q2255.83 1467.35 2255.83 1472.76 Q2255.83 1478.34 2252.36 1481.44 Q2248.89 1484.52 2242.57 1484.52 Q2240.39 1484.52 2238.13 1484.15 Q2235.88 1483.78 2233.47 1483.04 L2233.47 1478.34 Q2235.56 1479.48 2237.78 1480.03 Q2240 1480.59 2242.48 1480.59 Q2246.48 1480.59 2248.82 1478.48 Q2251.16 1476.38 2251.16 1472.76 Q2251.16 1469.15 2248.82 1467.05 Q2246.48 1464.94 2242.48 1464.94 Q2240.6 1464.94 2238.73 1465.36 Q2236.88 1465.77 2234.93 1466.65 L2234.93 1449.29 Z\" fill=\"#000000\" fill-rule=\"evenodd\" fill-opacity=\"1\" /><path clip-path=\"url(#clip500)\" d=\"M 0 0 M1132.55 1525.81 L1132.55 1543.66 L1140.63 1543.66 Q1145.12 1543.66 1147.57 1541.34 Q1150.02 1539.02 1150.02 1534.72 Q1150.02 1530.45 1147.57 1528.13 Q1145.12 1525.81 1140.63 1525.81 L1132.55 1525.81 M1126.12 1520.52 L1140.63 1520.52 Q1148.62 1520.52 1152.7 1524.15 Q1156.8 1527.75 1156.8 1534.72 Q1156.8 1541.75 1152.7 1545.35 Q1148.62 1548.95 1140.63 1548.95 L1132.55 1548.95 L1132.55 1568.04 L1126.12 1568.04 L1126.12 1520.52 Z\" fill=\"#000000\" fill-rule=\"evenodd\" fill-opacity=\"1\" /><path clip-path=\"url(#clip500)\" d=\"M 0 0 M1182.46 1537.87 Q1181.47 1537.3 1180.29 1537.04 Q1179.15 1536.76 1177.75 1536.76 Q1172.78 1536.76 1170.11 1540 Q1167.46 1543.22 1167.46 1549.27 L1167.46 1568.04 L1161.58 1568.04 L1161.58 1532.4 L1167.46 1532.4 L1167.46 1537.93 Q1169.31 1534.69 1172.27 1533.13 Q1175.23 1531.54 1179.46 1531.54 Q1180.07 1531.54 1180.8 1531.63 Q1181.53 1531.7 1182.42 1531.85 L1182.46 1537.87 Z\" fill=\"#000000\" fill-rule=\"evenodd\" fill-opacity=\"1\" /><path clip-path=\"url(#clip500)\" d=\"M 0 0 M1200.98 1536.5 Q1196.27 1536.5 1193.53 1540.19 Q1190.8 1543.85 1190.8 1550.25 Q1190.8 1556.65 1193.5 1560.34 Q1196.24 1564 1200.98 1564 Q1205.66 1564 1208.4 1560.31 Q1211.13 1556.62 1211.13 1550.25 Q1211.13 1543.92 1208.4 1540.23 Q1205.66 1536.5 1200.98 1536.5 M1200.98 1531.54 Q1208.62 1531.54 1212.98 1536.5 Q1217.34 1541.47 1217.34 1550.25 Q1217.34 1559 1212.98 1564 Q1208.62 1568.97 1200.98 1568.97 Q1193.31 1568.97 1188.95 1564 Q1184.62 1559 1184.62 1550.25 Q1184.62 1541.47 1188.95 1536.5 Q1193.31 1531.54 1200.98 1531.54 Z\" fill=\"#000000\" fill-rule=\"evenodd\" fill-opacity=\"1\" /><path clip-path=\"url(#clip500)\" d=\"M 0 0 M1246.94 1537.81 L1246.94 1518.52 L1252.8 1518.52 L1252.8 1568.04 L1246.94 1568.04 L1246.94 1562.7 Q1245.09 1565.88 1242.26 1567.44 Q1239.46 1568.97 1235.51 1568.97 Q1229.05 1568.97 1224.98 1563.81 Q1220.94 1558.65 1220.94 1550.25 Q1220.94 1541.85 1224.98 1536.69 Q1229.05 1531.54 1235.51 1531.54 Q1239.46 1531.54 1242.26 1533.1 Q1245.09 1534.62 1246.94 1537.81 M1226.98 1550.25 Q1226.98 1556.71 1229.63 1560.4 Q1232.3 1564.07 1236.95 1564.07 Q1241.59 1564.07 1244.27 1560.4 Q1246.94 1556.71 1246.94 1550.25 Q1246.94 1543.79 1244.27 1540.13 Q1241.59 1536.44 1236.95 1536.44 Q1232.3 1536.44 1229.63 1540.13 Q1226.98 1543.79 1226.98 1550.25 Z\" fill=\"#000000\" fill-rule=\"evenodd\" fill-opacity=\"1\" /><path clip-path=\"url(#clip500)\" d=\"M 0 0 M1258.34 1553.98 L1258.34 1532.4 L1264.19 1532.4 L1264.19 1553.75 Q1264.19 1558.81 1266.17 1561.36 Q1268.14 1563.87 1272.09 1563.87 Q1276.83 1563.87 1279.56 1560.85 Q1282.33 1557.83 1282.33 1552.61 L1282.33 1532.4 L1288.19 1532.4 L1288.19 1568.04 L1282.33 1568.04 L1282.33 1562.57 Q1280.2 1565.82 1277.37 1567.41 Q1274.57 1568.97 1270.84 1568.97 Q1264.7 1568.97 1261.52 1565.15 Q1258.34 1561.33 1258.34 1553.98 M1273.07 1531.54 L1273.07 1531.54 Z\" fill=\"#000000\" fill-rule=\"evenodd\" fill-opacity=\"1\" /><path clip-path=\"url(#clip500)\" d=\"M 0 0 M1319.99 1533.76 L1319.99 1539.24 Q1317.5 1537.87 1314.99 1537.2 Q1312.51 1536.5 1309.96 1536.5 Q1304.26 1536.5 1301.11 1540.13 Q1297.96 1543.73 1297.96 1550.25 Q1297.96 1556.78 1301.11 1560.4 Q1304.26 1564 1309.96 1564 Q1312.51 1564 1314.99 1563.33 Q1317.5 1562.63 1319.99 1561.26 L1319.99 1566.68 Q1317.54 1567.82 1314.89 1568.39 Q1312.28 1568.97 1309.32 1568.97 Q1301.27 1568.97 1296.53 1563.91 Q1291.79 1558.85 1291.79 1550.25 Q1291.79 1541.53 1296.56 1536.53 Q1301.37 1531.54 1309.71 1531.54 Q1312.41 1531.54 1314.99 1532.11 Q1317.57 1532.65 1319.99 1533.76 Z\" fill=\"#000000\" fill-rule=\"evenodd\" fill-opacity=\"1\" /><path clip-path=\"url(#clip500)\" d=\"M 0 0 M1331.92 1522.27 L1331.92 1532.4 L1343.99 1532.4 L1343.99 1536.95 L1331.92 1536.95 L1331.92 1556.3 Q1331.92 1560.66 1333.1 1561.9 Q1334.31 1563.14 1337.97 1563.14 L1343.99 1563.14 L1343.99 1568.04 L1337.97 1568.04 Q1331.19 1568.04 1328.61 1565.53 Q1326.03 1562.98 1326.03 1556.3 L1326.03 1536.95 L1321.74 1536.95 L1321.74 1532.4 L1326.03 1532.4 L1326.03 1522.27 L1331.92 1522.27 Z\" fill=\"#000000\" fill-rule=\"evenodd\" fill-opacity=\"1\" /><path clip-path=\"url(#clip500)\" d=\"M 0 0 M1350.13 1532.4 L1355.99 1532.4 L1355.99 1568.04 L1350.13 1568.04 L1350.13 1532.4 M1350.13 1518.52 L1355.99 1518.52 L1355.99 1525.93 L1350.13 1525.93 L1350.13 1518.52 Z\" fill=\"#000000\" fill-rule=\"evenodd\" fill-opacity=\"1\" /><path clip-path=\"url(#clip500)\" d=\"M 0 0 M1357.93 1532.4 L1364.13 1532.4 L1375.27 1562.31 L1386.41 1532.4 L1392.62 1532.4 L1379.25 1568.04 L1371.29 1568.04 L1357.93 1532.4 Z\" fill=\"#000000\" fill-rule=\"evenodd\" fill-opacity=\"1\" /><path clip-path=\"url(#clip500)\" d=\"M 0 0 M1398.76 1532.4 L1404.62 1532.4 L1404.62 1568.04 L1398.76 1568.04 L1398.76 1532.4 M1398.76 1518.52 L1404.62 1518.52 L1404.62 1525.93 L1398.76 1525.93 L1398.76 1518.52 Z\" fill=\"#000000\" fill-rule=\"evenodd\" fill-opacity=\"1\" /><path clip-path=\"url(#clip500)\" d=\"M 0 0 M1416.55 1522.27 L1416.55 1532.4 L1428.62 1532.4 L1428.62 1536.95 L1416.55 1536.95 L1416.55 1556.3 Q1416.55 1560.66 1417.73 1561.9 Q1418.94 1563.14 1422.6 1563.14 L1428.62 1563.14 L1428.62 1568.04 L1422.6 1568.04 Q1415.82 1568.04 1413.24 1565.53 Q1410.67 1562.98 1410.67 1556.3 L1410.67 1536.95 L1406.37 1536.95 L1406.37 1532.4 L1410.67 1532.4 L1410.67 1522.27 L1416.55 1522.27 Z\" fill=\"#000000\" fill-rule=\"evenodd\" fill-opacity=\"1\" /><path clip-path=\"url(#clip500)\" d=\"M 0 0 M1449.59 1571.35 Q1447.11 1577.72 1444.75 1579.66 Q1442.4 1581.6 1438.45 1581.6 L1433.77 1581.6 L1433.77 1576.7 L1437.21 1576.7 Q1439.63 1576.7 1440.97 1575.56 Q1442.3 1574.41 1443.93 1570.14 L1444.98 1567.47 L1430.56 1532.4 L1436.77 1532.4 L1447.91 1560.28 L1459.05 1532.4 L1465.25 1532.4 L1449.59 1571.35 Z\" fill=\"#000000\" fill-rule=\"evenodd\" fill-opacity=\"1\" /><polyline clip-path=\"url(#clip502)\" style=\"stroke:#000000; stroke-width:2; stroke-opacity:0.1; fill:none\" points=\"\n",
       "  238.616,1384.24 2352.76,1384.24 \n",
       "  \"/>\n",
       "<polyline clip-path=\"url(#clip502)\" style=\"stroke:#000000; stroke-width:2; stroke-opacity:0.1; fill:none\" points=\"\n",
       "  238.616,1100.94 2352.76,1100.94 \n",
       "  \"/>\n",
       "<polyline clip-path=\"url(#clip502)\" style=\"stroke:#000000; stroke-width:2; stroke-opacity:0.1; fill:none\" points=\"\n",
       "  238.616,817.637 2352.76,817.637 \n",
       "  \"/>\n",
       "<polyline clip-path=\"url(#clip502)\" style=\"stroke:#000000; stroke-width:2; stroke-opacity:0.1; fill:none\" points=\"\n",
       "  238.616,534.336 2352.76,534.336 \n",
       "  \"/>\n",
       "<polyline clip-path=\"url(#clip502)\" style=\"stroke:#000000; stroke-width:2; stroke-opacity:0.1; fill:none\" points=\"\n",
       "  238.616,251.036 2352.76,251.036 \n",
       "  \"/>\n",
       "<polyline clip-path=\"url(#clip500)\" style=\"stroke:#000000; stroke-width:4; stroke-opacity:1; fill:none\" points=\"\n",
       "  238.616,1423.18 238.616,47.2441 \n",
       "  \"/>\n",
       "<polyline clip-path=\"url(#clip500)\" style=\"stroke:#000000; stroke-width:4; stroke-opacity:1; fill:none\" points=\"\n",
       "  238.616,1384.24 263.986,1384.24 \n",
       "  \"/>\n",
       "<polyline clip-path=\"url(#clip500)\" style=\"stroke:#000000; stroke-width:4; stroke-opacity:1; fill:none\" points=\"\n",
       "  238.616,1100.94 263.986,1100.94 \n",
       "  \"/>\n",
       "<polyline clip-path=\"url(#clip500)\" style=\"stroke:#000000; stroke-width:4; stroke-opacity:1; fill:none\" points=\"\n",
       "  238.616,817.637 263.986,817.637 \n",
       "  \"/>\n",
       "<polyline clip-path=\"url(#clip500)\" style=\"stroke:#000000; stroke-width:4; stroke-opacity:1; fill:none\" points=\"\n",
       "  238.616,534.336 263.986,534.336 \n",
       "  \"/>\n",
       "<polyline clip-path=\"url(#clip500)\" style=\"stroke:#000000; stroke-width:4; stroke-opacity:1; fill:none\" points=\"\n",
       "  238.616,251.036 263.986,251.036 \n",
       "  \"/>\n",
       "<path clip-path=\"url(#clip500)\" d=\"M 0 0 M126.691 1370.04 Q123.08 1370.04 121.251 1373.6 Q119.445 1377.14 119.445 1384.27 Q119.445 1391.38 121.251 1394.94 Q123.08 1398.49 126.691 1398.49 Q130.325 1398.49 132.13 1394.94 Q133.959 1391.38 133.959 1384.27 Q133.959 1377.14 132.13 1373.6 Q130.325 1370.04 126.691 1370.04 M126.691 1366.33 Q132.501 1366.33 135.556 1370.94 Q138.635 1375.52 138.635 1384.27 Q138.635 1393 135.556 1397.61 Q132.501 1402.19 126.691 1402.19 Q120.88 1402.19 117.802 1397.61 Q114.746 1393 114.746 1384.27 Q114.746 1375.52 117.802 1370.94 Q120.88 1366.33 126.691 1366.33 Z\" fill=\"#000000\" fill-rule=\"evenodd\" fill-opacity=\"1\" /><path clip-path=\"url(#clip500)\" d=\"M 0 0 M143.704 1395.64 L148.589 1395.64 L148.589 1401.52 L143.704 1401.52 L143.704 1395.64 Z\" fill=\"#000000\" fill-rule=\"evenodd\" fill-opacity=\"1\" /><path clip-path=\"url(#clip500)\" d=\"M 0 0 M163.658 1370.04 Q160.047 1370.04 158.218 1373.6 Q156.413 1377.14 156.413 1384.27 Q156.413 1391.38 158.218 1394.94 Q160.047 1398.49 163.658 1398.49 Q167.292 1398.49 169.098 1394.94 Q170.927 1391.38 170.927 1384.27 Q170.927 1377.14 169.098 1373.6 Q167.292 1370.04 163.658 1370.04 M163.658 1366.33 Q169.468 1366.33 172.524 1370.94 Q175.602 1375.52 175.602 1384.27 Q175.602 1393 172.524 1397.61 Q169.468 1402.19 163.658 1402.19 Q157.848 1402.19 154.769 1397.61 Q151.714 1393 151.714 1384.27 Q151.714 1375.52 154.769 1370.94 Q157.848 1366.33 163.658 1366.33 Z\" fill=\"#000000\" fill-rule=\"evenodd\" fill-opacity=\"1\" /><path clip-path=\"url(#clip500)\" d=\"M 0 0 M190.672 1370.04 Q187.061 1370.04 185.232 1373.6 Q183.426 1377.14 183.426 1384.27 Q183.426 1391.38 185.232 1394.94 Q187.061 1398.49 190.672 1398.49 Q194.306 1398.49 196.112 1394.94 Q197.94 1391.38 197.94 1384.27 Q197.94 1377.14 196.112 1373.6 Q194.306 1370.04 190.672 1370.04 M190.672 1366.33 Q196.482 1366.33 199.537 1370.94 Q202.616 1375.52 202.616 1384.27 Q202.616 1393 199.537 1397.61 Q196.482 1402.19 190.672 1402.19 Q184.862 1402.19 181.783 1397.61 Q178.727 1393 178.727 1384.27 Q178.727 1375.52 181.783 1370.94 Q184.862 1366.33 190.672 1366.33 Z\" fill=\"#000000\" fill-rule=\"evenodd\" fill-opacity=\"1\" /><path clip-path=\"url(#clip500)\" d=\"M 0 0 M127.917 1086.74 Q124.306 1086.74 122.478 1090.3 Q120.672 1093.84 120.672 1100.97 Q120.672 1108.08 122.478 1111.64 Q124.306 1115.19 127.917 1115.19 Q131.552 1115.19 133.357 1111.64 Q135.186 1108.08 135.186 1100.97 Q135.186 1093.84 133.357 1090.3 Q131.552 1086.74 127.917 1086.74 M127.917 1083.03 Q133.728 1083.03 136.783 1087.64 Q139.862 1092.22 139.862 1100.97 Q139.862 1109.7 136.783 1114.31 Q133.728 1118.89 127.917 1118.89 Q122.107 1118.89 119.029 1114.31 Q115.973 1109.7 115.973 1100.97 Q115.973 1092.22 119.029 1087.64 Q122.107 1083.03 127.917 1083.03 Z\" fill=\"#000000\" fill-rule=\"evenodd\" fill-opacity=\"1\" /><path clip-path=\"url(#clip500)\" d=\"M 0 0 M144.931 1112.34 L149.816 1112.34 L149.816 1118.22 L144.931 1118.22 L144.931 1112.34 Z\" fill=\"#000000\" fill-rule=\"evenodd\" fill-opacity=\"1\" /><path clip-path=\"url(#clip500)\" d=\"M 0 0 M164.885 1086.74 Q161.274 1086.74 159.445 1090.3 Q157.64 1093.84 157.64 1100.97 Q157.64 1108.08 159.445 1111.64 Q161.274 1115.19 164.885 1115.19 Q168.519 1115.19 170.325 1111.64 Q172.153 1108.08 172.153 1100.97 Q172.153 1093.84 170.325 1090.3 Q168.519 1086.74 164.885 1086.74 M164.885 1083.03 Q170.695 1083.03 173.751 1087.64 Q176.829 1092.22 176.829 1100.97 Q176.829 1109.7 173.751 1114.31 Q170.695 1118.89 164.885 1118.89 Q159.075 1118.89 155.996 1114.31 Q152.941 1109.7 152.941 1100.97 Q152.941 1092.22 155.996 1087.64 Q159.075 1083.03 164.885 1083.03 Z\" fill=\"#000000\" fill-rule=\"evenodd\" fill-opacity=\"1\" /><path clip-path=\"url(#clip500)\" d=\"M 0 0 M182.709 1114.28 L190.348 1114.28 L190.348 1087.92 L182.038 1089.58 L182.038 1085.32 L190.301 1083.66 L194.977 1083.66 L194.977 1114.28 L202.616 1114.28 L202.616 1118.22 L182.709 1118.22 L182.709 1114.28 Z\" fill=\"#000000\" fill-rule=\"evenodd\" fill-opacity=\"1\" /><path clip-path=\"url(#clip500)\" d=\"M 0 0 M128.288 803.436 Q124.677 803.436 122.848 807 Q121.043 810.542 121.043 817.672 Q121.043 824.778 122.848 828.343 Q124.677 831.885 128.288 831.885 Q131.922 831.885 133.728 828.343 Q135.556 824.778 135.556 817.672 Q135.556 810.542 133.728 807 Q131.922 803.436 128.288 803.436 M128.288 799.732 Q134.098 799.732 137.154 804.338 Q140.232 808.922 140.232 817.672 Q140.232 826.398 137.154 831.005 Q134.098 835.588 128.288 835.588 Q122.478 835.588 119.399 831.005 Q116.343 826.398 116.343 817.672 Q116.343 808.922 119.399 804.338 Q122.478 799.732 128.288 799.732 Z\" fill=\"#000000\" fill-rule=\"evenodd\" fill-opacity=\"1\" /><path clip-path=\"url(#clip500)\" d=\"M 0 0 M145.302 829.037 L150.186 829.037 L150.186 834.917 L145.302 834.917 L145.302 829.037 Z\" fill=\"#000000\" fill-rule=\"evenodd\" fill-opacity=\"1\" /><path clip-path=\"url(#clip500)\" d=\"M 0 0 M165.255 803.436 Q161.644 803.436 159.815 807 Q158.01 810.542 158.01 817.672 Q158.01 824.778 159.815 828.343 Q161.644 831.885 165.255 831.885 Q168.889 831.885 170.695 828.343 Q172.524 824.778 172.524 817.672 Q172.524 810.542 170.695 807 Q168.889 803.436 165.255 803.436 M165.255 799.732 Q171.065 799.732 174.121 804.338 Q177.2 808.922 177.2 817.672 Q177.2 826.398 174.121 831.005 Q171.065 835.588 165.255 835.588 Q159.445 835.588 156.366 831.005 Q153.311 826.398 153.311 817.672 Q153.311 808.922 156.366 804.338 Q159.445 799.732 165.255 799.732 Z\" fill=\"#000000\" fill-rule=\"evenodd\" fill-opacity=\"1\" /><path clip-path=\"url(#clip500)\" d=\"M 0 0 M186.297 830.982 L202.616 830.982 L202.616 834.917 L180.672 834.917 L180.672 830.982 Q183.334 828.227 187.917 823.598 Q192.524 818.945 193.704 817.602 Q195.95 815.079 196.829 813.343 Q197.732 811.584 197.732 809.894 Q197.732 807.139 195.787 805.403 Q193.866 803.667 190.764 803.667 Q188.565 803.667 186.112 804.431 Q183.681 805.195 180.903 806.746 L180.903 802.024 Q183.727 800.889 186.181 800.311 Q188.635 799.732 190.672 799.732 Q196.042 799.732 199.237 802.417 Q202.431 805.102 202.431 809.593 Q202.431 811.723 201.621 813.644 Q200.834 815.542 198.727 818.135 Q198.149 818.806 195.047 822.023 Q191.945 825.218 186.297 830.982 Z\" fill=\"#000000\" fill-rule=\"evenodd\" fill-opacity=\"1\" /><path clip-path=\"url(#clip500)\" d=\"M 0 0 M127.339 520.135 Q123.728 520.135 121.899 523.7 Q120.093 527.241 120.093 534.371 Q120.093 541.477 121.899 545.042 Q123.728 548.584 127.339 548.584 Q130.973 548.584 132.779 545.042 Q134.607 541.477 134.607 534.371 Q134.607 527.241 132.779 523.7 Q130.973 520.135 127.339 520.135 M127.339 516.431 Q133.149 516.431 136.204 521.038 Q139.283 525.621 139.283 534.371 Q139.283 543.098 136.204 547.704 Q133.149 552.288 127.339 552.288 Q121.529 552.288 118.45 547.704 Q115.394 543.098 115.394 534.371 Q115.394 525.621 118.45 521.038 Q121.529 516.431 127.339 516.431 Z\" fill=\"#000000\" fill-rule=\"evenodd\" fill-opacity=\"1\" /><path clip-path=\"url(#clip500)\" d=\"M 0 0 M144.353 545.737 L149.237 545.737 L149.237 551.616 L144.353 551.616 L144.353 545.737 Z\" fill=\"#000000\" fill-rule=\"evenodd\" fill-opacity=\"1\" /><path clip-path=\"url(#clip500)\" d=\"M 0 0 M164.306 520.135 Q160.695 520.135 158.866 523.7 Q157.061 527.241 157.061 534.371 Q157.061 541.477 158.866 545.042 Q160.695 548.584 164.306 548.584 Q167.94 548.584 169.746 545.042 Q171.575 541.477 171.575 534.371 Q171.575 527.241 169.746 523.7 Q167.94 520.135 164.306 520.135 M164.306 516.431 Q170.116 516.431 173.172 521.038 Q176.251 525.621 176.251 534.371 Q176.251 543.098 173.172 547.704 Q170.116 552.288 164.306 552.288 Q158.496 552.288 155.417 547.704 Q152.362 543.098 152.362 534.371 Q152.362 525.621 155.417 521.038 Q158.496 516.431 164.306 516.431 Z\" fill=\"#000000\" fill-rule=\"evenodd\" fill-opacity=\"1\" /><path clip-path=\"url(#clip500)\" d=\"M 0 0 M195.487 532.982 Q198.843 533.7 200.718 535.968 Q202.616 538.237 202.616 541.57 Q202.616 546.686 199.098 549.487 Q195.579 552.288 189.098 552.288 Q186.922 552.288 184.607 551.848 Q182.315 551.431 179.862 550.575 L179.862 546.061 Q181.806 547.195 184.121 547.774 Q186.436 548.352 188.959 548.352 Q193.357 548.352 195.649 546.616 Q197.963 544.88 197.963 541.57 Q197.963 538.514 195.811 536.801 Q193.681 535.065 189.862 535.065 L185.834 535.065 L185.834 531.223 L190.047 531.223 Q193.496 531.223 195.325 529.857 Q197.153 528.468 197.153 525.876 Q197.153 523.214 195.255 521.802 Q193.38 520.366 189.862 520.366 Q187.94 520.366 185.741 520.783 Q183.542 521.2 180.903 522.079 L180.903 517.913 Q183.565 517.172 185.88 516.802 Q188.218 516.431 190.278 516.431 Q195.602 516.431 198.704 518.862 Q201.806 521.269 201.806 525.389 Q201.806 528.26 200.162 530.251 Q198.519 532.218 195.487 532.982 Z\" fill=\"#000000\" fill-rule=\"evenodd\" fill-opacity=\"1\" /><path clip-path=\"url(#clip500)\" d=\"M 0 0 M126.205 236.834 Q122.593 236.834 120.765 240.399 Q118.959 243.941 118.959 251.07 Q118.959 258.177 120.765 261.741 Q122.593 265.283 126.205 265.283 Q129.839 265.283 131.644 261.741 Q133.473 258.177 133.473 251.07 Q133.473 243.941 131.644 240.399 Q129.839 236.834 126.205 236.834 M126.205 233.131 Q132.015 233.131 135.07 237.737 Q138.149 242.32 138.149 251.07 Q138.149 259.797 135.07 264.404 Q132.015 268.987 126.205 268.987 Q120.394 268.987 117.316 264.404 Q114.26 259.797 114.26 251.07 Q114.26 242.32 117.316 237.737 Q120.394 233.131 126.205 233.131 Z\" fill=\"#000000\" fill-rule=\"evenodd\" fill-opacity=\"1\" /><path clip-path=\"url(#clip500)\" d=\"M 0 0 M143.218 262.436 L148.103 262.436 L148.103 268.316 L143.218 268.316 L143.218 262.436 Z\" fill=\"#000000\" fill-rule=\"evenodd\" fill-opacity=\"1\" /><path clip-path=\"url(#clip500)\" d=\"M 0 0 M163.172 236.834 Q159.561 236.834 157.732 240.399 Q155.927 243.941 155.927 251.07 Q155.927 258.177 157.732 261.741 Q159.561 265.283 163.172 265.283 Q166.806 265.283 168.612 261.741 Q170.44 258.177 170.44 251.07 Q170.44 243.941 168.612 240.399 Q166.806 236.834 163.172 236.834 M163.172 233.131 Q168.982 233.131 172.038 237.737 Q175.116 242.32 175.116 251.07 Q175.116 259.797 172.038 264.404 Q168.982 268.987 163.172 268.987 Q157.362 268.987 154.283 264.404 Q151.228 259.797 151.228 251.07 Q151.228 242.32 154.283 237.737 Q157.362 233.131 163.172 233.131 Z\" fill=\"#000000\" fill-rule=\"evenodd\" fill-opacity=\"1\" /><path clip-path=\"url(#clip500)\" d=\"M 0 0 M193.033 237.83 L181.227 256.279 L193.033 256.279 L193.033 237.83 M191.806 233.756 L197.686 233.756 L197.686 256.279 L202.616 256.279 L202.616 260.167 L197.686 260.167 L197.686 268.316 L193.033 268.316 L193.033 260.167 L177.431 260.167 L177.431 255.654 L191.806 233.756 Z\" fill=\"#000000\" fill-rule=\"evenodd\" fill-opacity=\"1\" /><path clip-path=\"url(#clip500)\" d=\"M 0 0 M16.4842 917.032 L16.4842 910.603 L64.0042 910.603 L64.0042 917.032 L16.4842 917.032 Z\" fill=\"#000000\" fill-rule=\"evenodd\" fill-opacity=\"1\" /><path clip-path=\"url(#clip500)\" d=\"M 0 0 M42.4881 874.828 L64.0042 874.828 L64.0042 880.684 L42.679 880.684 Q37.6183 880.684 35.1038 882.658 Q32.5894 884.631 32.5894 888.578 Q32.5894 893.32 35.6131 896.057 Q38.6368 898.795 43.8567 898.795 L64.0042 898.795 L64.0042 904.683 L28.3562 904.683 L28.3562 898.795 L33.8944 898.795 Q30.6797 896.694 29.0883 893.861 Q27.4968 890.997 27.4968 887.273 Q27.4968 881.13 31.3163 877.979 Q35.1038 874.828 42.4881 874.828 Z\" fill=\"#000000\" fill-rule=\"evenodd\" fill-opacity=\"1\" /><path clip-path=\"url(#clip500)\" d=\"M 0 0 M28.3562 872.886 L28.3562 866.68 L58.275 855.54 L28.3562 844.4 L28.3562 838.193 L64.0042 851.561 L64.0042 859.518 L28.3562 872.886 Z\" fill=\"#000000\" fill-rule=\"evenodd\" fill-opacity=\"1\" /><path clip-path=\"url(#clip500)\" d=\"M 0 0 M46.0847 815.85 Q46.0847 822.947 47.7079 825.685 Q49.3312 828.422 53.2461 828.422 Q56.3653 828.422 58.2114 826.385 Q60.0256 824.316 60.0256 820.783 Q60.0256 815.913 56.5881 812.985 Q53.1188 810.025 47.3897 810.025 L46.0847 810.025 L46.0847 815.85 M43.6657 804.168 L64.0042 804.168 L64.0042 810.025 L58.5933 810.025 Q61.8398 812.03 63.3994 815.022 Q64.9272 818.014 64.9272 822.343 Q64.9272 827.817 61.8716 831.064 Q58.7843 834.278 53.6281 834.278 Q47.6125 834.278 44.5569 830.268 Q41.5014 826.226 41.5014 818.237 L41.5014 810.025 L40.9285 810.025 Q36.8862 810.025 34.6901 812.699 Q32.4621 815.34 32.4621 820.146 Q32.4621 823.202 33.1941 826.098 Q33.9262 828.995 35.3903 831.668 L29.9795 831.668 Q28.7381 828.454 28.1334 825.43 Q27.4968 822.406 27.4968 819.542 Q27.4968 811.807 31.5072 807.988 Q35.5176 804.168 43.6657 804.168 Z\" fill=\"#000000\" fill-rule=\"evenodd\" fill-opacity=\"1\" /><path clip-path=\"url(#clip500)\" d=\"M 0 0 M33.8307 777.369 Q33.2578 778.356 33.0032 779.533 Q32.7167 780.679 32.7167 782.079 Q32.7167 787.045 35.9632 789.718 Q39.1779 792.36 45.2253 792.36 L64.0042 792.36 L64.0042 798.248 L28.3562 798.248 L28.3562 792.36 L33.8944 792.36 Q30.6479 790.514 29.0883 787.554 Q27.4968 784.594 27.4968 780.361 Q27.4968 779.756 27.5923 779.024 Q27.656 778.292 27.8151 777.401 L33.8307 777.369 Z\" fill=\"#000000\" fill-rule=\"evenodd\" fill-opacity=\"1\" /><path clip-path=\"url(#clip500)\" d=\"M 0 0 M28.3562 771.226 L28.3562 765.37 L64.0042 765.37 L64.0042 771.226 L28.3562 771.226 M14.479 771.226 L14.479 765.37 L21.895 765.37 L21.895 771.226 L14.479 771.226 Z\" fill=\"#000000\" fill-rule=\"evenodd\" fill-opacity=\"1\" /><path clip-path=\"url(#clip500)\" d=\"M 0 0 M46.0847 743.026 Q46.0847 750.124 47.7079 752.861 Q49.3312 755.598 53.2461 755.598 Q56.3653 755.598 58.2114 753.561 Q60.0256 751.492 60.0256 747.959 Q60.0256 743.09 56.5881 740.161 Q53.1188 737.201 47.3897 737.201 L46.0847 737.201 L46.0847 743.026 M43.6657 731.345 L64.0042 731.345 L64.0042 737.201 L58.5933 737.201 Q61.8398 739.206 63.3994 742.198 Q64.9272 745.19 64.9272 749.519 Q64.9272 754.993 61.8716 758.24 Q58.7843 761.455 53.6281 761.455 Q47.6125 761.455 44.5569 757.444 Q41.5014 753.402 41.5014 745.413 L41.5014 737.201 L40.9285 737.201 Q36.8862 737.201 34.6901 739.875 Q32.4621 742.517 32.4621 747.323 Q32.4621 750.378 33.1941 753.275 Q33.9262 756.171 35.3903 758.845 L29.9795 758.845 Q28.7381 755.63 28.1334 752.606 Q27.4968 749.583 27.4968 746.718 Q27.4968 738.984 31.5072 735.164 Q35.5176 731.345 43.6657 731.345 Z\" fill=\"#000000\" fill-rule=\"evenodd\" fill-opacity=\"1\" /><path clip-path=\"url(#clip500)\" d=\"M 0 0 M42.4881 695.57 L64.0042 695.57 L64.0042 701.426 L42.679 701.426 Q37.6183 701.426 35.1038 703.399 Q32.5894 705.373 32.5894 709.319 Q32.5894 714.062 35.6131 716.799 Q38.6368 719.536 43.8567 719.536 L64.0042 719.536 L64.0042 725.425 L28.3562 725.425 L28.3562 719.536 L33.8944 719.536 Q30.6797 717.436 29.0883 714.603 Q27.4968 711.738 27.4968 708.014 Q27.4968 701.872 31.3163 698.721 Q35.1038 695.57 42.4881 695.57 Z\" fill=\"#000000\" fill-rule=\"evenodd\" fill-opacity=\"1\" /><path clip-path=\"url(#clip500)\" d=\"M 0 0 M18.2347 683.634 L28.3562 683.634 L28.3562 671.571 L32.9077 671.571 L32.9077 683.634 L52.2594 683.634 Q56.6199 683.634 57.8613 682.456 Q59.1026 681.247 59.1026 677.586 L59.1026 671.571 L64.0042 671.571 L64.0042 677.586 Q64.0042 684.366 61.4897 686.944 Q58.9434 689.522 52.2594 689.522 L32.9077 689.522 L32.9077 693.819 L28.3562 693.819 L28.3562 689.522 L18.2347 689.522 L18.2347 683.634 Z\" fill=\"#000000\" fill-rule=\"evenodd\" fill-opacity=\"1\" /><path clip-path=\"url(#clip500)\" d=\"M 0 0 M58.657 639.042 L77.5631 639.042 L77.5631 644.93 L28.3562 644.93 L28.3562 639.042 L33.7671 639.042 Q30.5842 637.196 29.0564 634.395 Q27.4968 631.562 27.4968 627.647 Q27.4968 621.154 32.6531 617.112 Q37.8093 613.038 46.212 613.038 Q54.6147 613.038 59.771 617.112 Q64.9272 621.154 64.9272 627.647 Q64.9272 631.562 63.3994 634.395 Q61.8398 637.196 58.657 639.042 M46.212 619.117 Q39.7508 619.117 36.0905 621.791 Q32.3984 624.433 32.3984 629.08 Q32.3984 633.727 36.0905 636.4 Q39.7508 639.042 46.212 639.042 Q52.6732 639.042 56.3653 636.4 Q60.0256 633.727 60.0256 629.08 Q60.0256 624.433 56.3653 621.791 Q52.6732 619.117 46.212 619.117 Z\" fill=\"#000000\" fill-rule=\"evenodd\" fill-opacity=\"1\" /><path clip-path=\"url(#clip500)\" d=\"M 0 0 M33.7671 583.438 L14.479 583.438 L14.479 577.581 L64.0042 577.581 L64.0042 583.438 L58.657 583.438 Q61.8398 585.284 63.3994 588.116 Q64.9272 590.917 64.9272 594.864 Q64.9272 601.325 59.771 605.399 Q54.6147 609.442 46.212 609.442 Q37.8093 609.442 32.6531 605.399 Q27.4968 601.325 27.4968 594.864 Q27.4968 590.917 29.0564 588.116 Q30.5842 585.284 33.7671 583.438 M46.212 603.394 Q52.6732 603.394 56.3653 600.752 Q60.0256 598.079 60.0256 593.432 Q60.0256 588.785 56.3653 586.111 Q52.6732 583.438 46.212 583.438 Q39.7508 583.438 36.0905 586.111 Q32.3984 588.785 32.3984 593.432 Q32.3984 598.079 36.0905 600.752 Q39.7508 603.394 46.212 603.394 Z\" fill=\"#000000\" fill-rule=\"evenodd\" fill-opacity=\"1\" /><path clip-path=\"url(#clip500)\" d=\"M 0 0 M14.479 553.391 L19.3487 553.391 L19.3487 558.993 Q19.3487 562.144 20.6219 563.386 Q21.895 564.595 25.2052 564.595 L28.3562 564.595 L28.3562 554.951 L32.9077 554.951 L32.9077 564.595 L64.0042 564.595 L64.0042 570.483 L32.9077 570.483 L32.9077 576.085 L28.3562 576.085 L28.3562 570.483 L25.8736 570.483 Q19.9216 570.483 17.2162 567.714 Q14.479 564.945 14.479 558.93 L14.479 553.391 Z\" fill=\"#000000\" fill-rule=\"evenodd\" fill-opacity=\"1\" /><polyline clip-path=\"url(#clip502)\" style=\"stroke:#009af9; stroke-width:4; stroke-opacity:1; fill:none\" points=\"\n",
       "  298.45,1384.24 310.027,1384.24 321.725,1384.24 333.546,1384.24 345.49,1384.24 357.559,1384.24 369.755,1384.24 382.078,1384.24 394.53,1384.24 407.112,1384.24 \n",
       "  419.826,1384.24 432.673,1384.24 445.655,1384.24 458.772,1384.24 472.027,1384.24 485.42,1384.24 498.954,1384.24 512.629,1384.24 526.447,1384.24 540.41,1384.24 \n",
       "  554.519,1384.24 568.776,1384.24 583.182,1384.24 597.739,1383.29 612.448,1383.29 627.311,1383.29 642.329,1383.29 657.505,1382.33 672.839,1381.38 688.334,1381.38 \n",
       "  703.991,1380.43 719.812,1378.53 735.799,1377.57 751.953,1375.67 768.276,1372.8 784.769,1369.93 801.436,1367.05 818.276,1362.24 835.293,1357.37 852.488,1351.47 \n",
       "  869.863,1344.44 887.42,1336.18 905.161,1326.51 923.087,1315.13 941.201,1300.71 959.504,1284.57 977.999,1264.07 996.688,1239.21 1015.57,1207.93 1034.65,1170.84 \n",
       "  1053.94,1125.7 1073.42,1072.22 1093.11,1008.49 1113,934.95 1133.1,852.681 1153.41,761.646 1173.94,664.571 1194.68,564.064 1215.63,464.381 1236.81,368.329 \n",
       "  1258.2,281.709 1279.82,207.251 1301.67,148.089 1323.75,107.486 1346.05,86.7616 1368.59,86.1857 1391.37,104.086 1414.39,139.857 1437.64,190.365 1461.14,254 \n",
       "  1484.88,326.148 1508.88,405.104 1533.12,487.47 1557.62,571.115 1582.37,653.324 1607.39,733.67 1632.66,810.191 1658.2,881.257 1684.01,947.431 1710.09,1007.61 \n",
       "  1736.44,1061.82 1763.06,1111.19 1789.97,1154.11 1817.15,1190.91 1844.62,1223.89 1872.38,1251.55 1900.43,1276.2 1928.77,1296.33 1957.41,1313.24 1986.35,1327.28 \n",
       "  2015.59,1338.76 2045.14,1347.93 2074.99,1356 2105.16,1362.2 2135.65,1366.72 2166.45,1371.6 2197.58,1374.1 2229.03,1376.23 2260.81,1379.02 2292.92,1379.69 \n",
       "  \n",
       "  \"/>\n",
       "</svg>\n"
      ]
     },
     "execution_count": 25,
     "metadata": {},
     "output_type": "execute_result"
    }
   ],
   "source": [
    "# Invariant distribution of productivity\n",
    "plot1 = plot(s[1:100],bar_μ[1:100],legend = false)\n",
    "xlabel!(\"Productivity\")\n",
    "ylabel!(\"Invariant pdf\")\n",
    "#savefig(plot1,\"plot1.png\")"
   ]
  },
  {
   "cell_type": "code",
   "execution_count": 27,
   "metadata": {},
   "outputs": [
    {
     "data": {
      "image/svg+xml": [
       "<?xml version=\"1.0\" encoding=\"utf-8\"?>\n",
       "<svg xmlns=\"http://www.w3.org/2000/svg\" xmlns:xlink=\"http://www.w3.org/1999/xlink\" width=\"600\" height=\"400\" viewBox=\"0 0 2400 1600\">\n",
       "<defs>\n",
       "  <clipPath id=\"clip550\">\n",
       "    <rect x=\"0\" y=\"0\" width=\"2400\" height=\"1600\"/>\n",
       "  </clipPath>\n",
       "</defs>\n",
       "<path clip-path=\"url(#clip550)\" d=\"\n",
       "M0 1600 L2400 1600 L2400 0 L0 0  Z\n",
       "  \" fill=\"#ffffff\" fill-rule=\"evenodd\" fill-opacity=\"1\"/>\n",
       "<defs>\n",
       "  <clipPath id=\"clip551\">\n",
       "    <rect x=\"480\" y=\"0\" width=\"1681\" height=\"1600\"/>\n",
       "  </clipPath>\n",
       "</defs>\n",
       "<path clip-path=\"url(#clip550)\" d=\"\n",
       "M238.616 1423.18 L2352.76 1423.18 L2352.76 47.2441 L238.616 47.2441  Z\n",
       "  \" fill=\"#ffffff\" fill-rule=\"evenodd\" fill-opacity=\"1\"/>\n",
       "<defs>\n",
       "  <clipPath id=\"clip552\">\n",
       "    <rect x=\"238\" y=\"47\" width=\"2115\" height=\"1377\"/>\n",
       "  </clipPath>\n",
       "</defs>\n",
       "<polyline clip-path=\"url(#clip552)\" style=\"stroke:#000000; stroke-width:2; stroke-opacity:0.1; fill:none\" points=\"\n",
       "  286.855,1423.18 286.855,47.2441 \n",
       "  \"/>\n",
       "<polyline clip-path=\"url(#clip552)\" style=\"stroke:#000000; stroke-width:2; stroke-opacity:0.1; fill:none\" points=\"\n",
       "  667.618,1423.18 667.618,47.2441 \n",
       "  \"/>\n",
       "<polyline clip-path=\"url(#clip552)\" style=\"stroke:#000000; stroke-width:2; stroke-opacity:0.1; fill:none\" points=\"\n",
       "  1048.38,1423.18 1048.38,47.2441 \n",
       "  \"/>\n",
       "<polyline clip-path=\"url(#clip552)\" style=\"stroke:#000000; stroke-width:2; stroke-opacity:0.1; fill:none\" points=\"\n",
       "  1429.14,1423.18 1429.14,47.2441 \n",
       "  \"/>\n",
       "<polyline clip-path=\"url(#clip552)\" style=\"stroke:#000000; stroke-width:2; stroke-opacity:0.1; fill:none\" points=\"\n",
       "  1809.9,1423.18 1809.9,47.2441 \n",
       "  \"/>\n",
       "<polyline clip-path=\"url(#clip552)\" style=\"stroke:#000000; stroke-width:2; stroke-opacity:0.1; fill:none\" points=\"\n",
       "  2190.67,1423.18 2190.67,47.2441 \n",
       "  \"/>\n",
       "<polyline clip-path=\"url(#clip550)\" style=\"stroke:#000000; stroke-width:4; stroke-opacity:1; fill:none\" points=\"\n",
       "  238.616,1423.18 2352.76,1423.18 \n",
       "  \"/>\n",
       "<polyline clip-path=\"url(#clip550)\" style=\"stroke:#000000; stroke-width:4; stroke-opacity:1; fill:none\" points=\"\n",
       "  286.855,1423.18 286.855,1406.67 \n",
       "  \"/>\n",
       "<polyline clip-path=\"url(#clip550)\" style=\"stroke:#000000; stroke-width:4; stroke-opacity:1; fill:none\" points=\"\n",
       "  667.618,1423.18 667.618,1406.67 \n",
       "  \"/>\n",
       "<polyline clip-path=\"url(#clip550)\" style=\"stroke:#000000; stroke-width:4; stroke-opacity:1; fill:none\" points=\"\n",
       "  1048.38,1423.18 1048.38,1406.67 \n",
       "  \"/>\n",
       "<polyline clip-path=\"url(#clip550)\" style=\"stroke:#000000; stroke-width:4; stroke-opacity:1; fill:none\" points=\"\n",
       "  1429.14,1423.18 1429.14,1406.67 \n",
       "  \"/>\n",
       "<polyline clip-path=\"url(#clip550)\" style=\"stroke:#000000; stroke-width:4; stroke-opacity:1; fill:none\" points=\"\n",
       "  1809.9,1423.18 1809.9,1406.67 \n",
       "  \"/>\n",
       "<polyline clip-path=\"url(#clip550)\" style=\"stroke:#000000; stroke-width:4; stroke-opacity:1; fill:none\" points=\"\n",
       "  2190.67,1423.18 2190.67,1406.67 \n",
       "  \"/>\n",
       "<path clip-path=\"url(#clip550)\" d=\"M 0 0 M286.855 1452.37 Q283.244 1452.37 281.416 1455.94 Q279.61 1459.48 279.61 1466.61 Q279.61 1473.71 281.416 1477.28 Q283.244 1480.82 286.855 1480.82 Q290.49 1480.82 292.295 1477.28 Q294.124 1473.71 294.124 1466.61 Q294.124 1459.48 292.295 1455.94 Q290.49 1452.37 286.855 1452.37 M286.855 1448.67 Q292.666 1448.67 295.721 1453.27 Q298.8 1457.86 298.8 1466.61 Q298.8 1475.33 295.721 1479.94 Q292.666 1484.52 286.855 1484.52 Q281.045 1484.52 277.967 1479.94 Q274.911 1475.33 274.911 1466.61 Q274.911 1457.86 277.967 1453.27 Q281.045 1448.67 286.855 1448.67 Z\" fill=\"#000000\" fill-rule=\"evenodd\" fill-opacity=\"1\" /><path clip-path=\"url(#clip550)\" d=\"M 0 0 M644.389 1449.29 L662.745 1449.29 L662.745 1453.23 L648.671 1453.23 L648.671 1461.7 Q649.69 1461.35 650.708 1461.19 Q651.727 1461 652.745 1461 Q658.532 1461 661.912 1464.18 Q665.291 1467.35 665.291 1472.76 Q665.291 1478.34 661.819 1481.44 Q658.347 1484.52 652.028 1484.52 Q649.852 1484.52 647.583 1484.15 Q645.338 1483.78 642.93 1483.04 L642.93 1478.34 Q645.014 1479.48 647.236 1480.03 Q649.458 1480.59 651.935 1480.59 Q655.94 1480.59 658.278 1478.48 Q660.616 1476.38 660.616 1472.76 Q660.616 1469.15 658.278 1467.05 Q655.94 1464.94 651.935 1464.94 Q650.06 1464.94 648.185 1465.36 Q646.333 1465.77 644.389 1466.65 L644.389 1449.29 Z\" fill=\"#000000\" fill-rule=\"evenodd\" fill-opacity=\"1\" /><path clip-path=\"url(#clip550)\" d=\"M 0 0 M680.361 1452.37 Q676.75 1452.37 674.921 1455.94 Q673.115 1459.48 673.115 1466.61 Q673.115 1473.71 674.921 1477.28 Q676.75 1480.82 680.361 1480.82 Q683.995 1480.82 685.801 1477.28 Q687.629 1473.71 687.629 1466.61 Q687.629 1459.48 685.801 1455.94 Q683.995 1452.37 680.361 1452.37 M680.361 1448.67 Q686.171 1448.67 689.226 1453.27 Q692.305 1457.86 692.305 1466.61 Q692.305 1475.33 689.226 1479.94 Q686.171 1484.52 680.361 1484.52 Q674.551 1484.52 671.472 1479.94 Q668.416 1475.33 668.416 1466.61 Q668.416 1457.86 671.472 1453.27 Q674.551 1448.67 680.361 1448.67 Z\" fill=\"#000000\" fill-rule=\"evenodd\" fill-opacity=\"1\" /><path clip-path=\"url(#clip550)\" d=\"M 0 0 M1011.75 1479.92 L1019.39 1479.92 L1019.39 1453.55 L1011.08 1455.22 L1011.08 1450.96 L1019.34 1449.29 L1024.02 1449.29 L1024.02 1479.92 L1031.66 1479.92 L1031.66 1483.85 L1011.75 1483.85 L1011.75 1479.92 Z\" fill=\"#000000\" fill-rule=\"evenodd\" fill-opacity=\"1\" /><path clip-path=\"url(#clip550)\" d=\"M 0 0 M1046.73 1452.37 Q1043.11 1452.37 1041.29 1455.94 Q1039.48 1459.48 1039.48 1466.61 Q1039.48 1473.71 1041.29 1477.28 Q1043.11 1480.82 1046.73 1480.82 Q1050.36 1480.82 1052.16 1477.28 Q1053.99 1473.71 1053.99 1466.61 Q1053.99 1459.48 1052.16 1455.94 Q1050.36 1452.37 1046.73 1452.37 M1046.73 1448.67 Q1052.54 1448.67 1055.59 1453.27 Q1058.67 1457.86 1058.67 1466.61 Q1058.67 1475.33 1055.59 1479.94 Q1052.54 1484.52 1046.73 1484.52 Q1040.91 1484.52 1037.84 1479.94 Q1034.78 1475.33 1034.78 1466.61 Q1034.78 1457.86 1037.84 1453.27 Q1040.91 1448.67 1046.73 1448.67 Z\" fill=\"#000000\" fill-rule=\"evenodd\" fill-opacity=\"1\" /><path clip-path=\"url(#clip550)\" d=\"M 0 0 M1073.74 1452.37 Q1070.13 1452.37 1068.3 1455.94 Q1066.49 1459.48 1066.49 1466.61 Q1066.49 1473.71 1068.3 1477.28 Q1070.13 1480.82 1073.74 1480.82 Q1077.37 1480.82 1079.18 1477.28 Q1081.01 1473.71 1081.01 1466.61 Q1081.01 1459.48 1079.18 1455.94 Q1077.37 1452.37 1073.74 1452.37 M1073.74 1448.67 Q1079.55 1448.67 1082.6 1453.27 Q1085.68 1457.86 1085.68 1466.61 Q1085.68 1475.33 1082.6 1479.94 Q1079.55 1484.52 1073.74 1484.52 Q1067.93 1484.52 1064.85 1479.94 Q1061.79 1475.33 1061.79 1466.61 Q1061.79 1457.86 1064.85 1453.27 Q1067.93 1448.67 1073.74 1448.67 Z\" fill=\"#000000\" fill-rule=\"evenodd\" fill-opacity=\"1\" /><path clip-path=\"url(#clip550)\" d=\"M 0 0 M1393.01 1479.92 L1400.65 1479.92 L1400.65 1453.55 L1392.34 1455.22 L1392.34 1450.96 L1400.6 1449.29 L1405.28 1449.29 L1405.28 1479.92 L1412.92 1479.92 L1412.92 1483.85 L1393.01 1483.85 L1393.01 1479.92 Z\" fill=\"#000000\" fill-rule=\"evenodd\" fill-opacity=\"1\" /><path clip-path=\"url(#clip550)\" d=\"M 0 0 M1418.03 1449.29 L1436.39 1449.29 L1436.39 1453.23 L1422.31 1453.23 L1422.31 1461.7 Q1423.33 1461.35 1424.35 1461.19 Q1425.37 1461 1426.39 1461 Q1432.17 1461 1435.55 1464.18 Q1438.93 1467.35 1438.93 1472.76 Q1438.93 1478.34 1435.46 1481.44 Q1431.99 1484.52 1425.67 1484.52 Q1423.49 1484.52 1421.23 1484.15 Q1418.98 1483.78 1416.57 1483.04 L1416.57 1478.34 Q1418.66 1479.48 1420.88 1480.03 Q1423.1 1480.59 1425.58 1480.59 Q1429.58 1480.59 1431.92 1478.48 Q1434.26 1476.38 1434.26 1472.76 Q1434.26 1469.15 1431.92 1467.05 Q1429.58 1464.94 1425.58 1464.94 Q1423.7 1464.94 1421.83 1465.36 Q1419.98 1465.77 1418.03 1466.65 L1418.03 1449.29 Z\" fill=\"#000000\" fill-rule=\"evenodd\" fill-opacity=\"1\" /><path clip-path=\"url(#clip550)\" d=\"M 0 0 M1454 1452.37 Q1450.39 1452.37 1448.56 1455.94 Q1446.76 1459.48 1446.76 1466.61 Q1446.76 1473.71 1448.56 1477.28 Q1450.39 1480.82 1454 1480.82 Q1457.64 1480.82 1459.44 1477.28 Q1461.27 1473.71 1461.27 1466.61 Q1461.27 1459.48 1459.44 1455.94 Q1457.64 1452.37 1454 1452.37 M1454 1448.67 Q1459.81 1448.67 1462.87 1453.27 Q1465.95 1457.86 1465.95 1466.61 Q1465.95 1475.33 1462.87 1479.94 Q1459.81 1484.52 1454 1484.52 Q1448.19 1484.52 1445.11 1479.94 Q1442.06 1475.33 1442.06 1466.61 Q1442.06 1457.86 1445.11 1453.27 Q1448.19 1448.67 1454 1448.67 Z\" fill=\"#000000\" fill-rule=\"evenodd\" fill-opacity=\"1\" /><path clip-path=\"url(#clip550)\" d=\"M 0 0 M1777.54 1479.92 L1793.86 1479.92 L1793.86 1483.85 L1771.92 1483.85 L1771.92 1479.92 Q1774.58 1477.16 1779.16 1472.53 Q1783.77 1467.88 1784.95 1466.54 Q1787.2 1464.01 1788.08 1462.28 Q1788.98 1460.52 1788.98 1458.83 Q1788.98 1456.07 1787.03 1454.34 Q1785.11 1452.6 1782.01 1452.6 Q1779.81 1452.6 1777.36 1453.37 Q1774.93 1454.13 1772.15 1455.68 L1772.15 1450.96 Q1774.97 1449.82 1777.43 1449.25 Q1779.88 1448.67 1781.92 1448.67 Q1787.29 1448.67 1790.48 1451.35 Q1793.68 1454.04 1793.68 1458.53 Q1793.68 1460.66 1792.87 1462.58 Q1792.08 1464.48 1789.97 1467.07 Q1789.4 1467.74 1786.29 1470.96 Q1783.19 1474.15 1777.54 1479.92 Z\" fill=\"#000000\" fill-rule=\"evenodd\" fill-opacity=\"1\" /><path clip-path=\"url(#clip550)\" d=\"M 0 0 M1808.93 1452.37 Q1805.32 1452.37 1803.49 1455.94 Q1801.69 1459.48 1801.69 1466.61 Q1801.69 1473.71 1803.49 1477.28 Q1805.32 1480.82 1808.93 1480.82 Q1812.57 1480.82 1814.37 1477.28 Q1816.2 1473.71 1816.2 1466.61 Q1816.2 1459.48 1814.37 1455.94 Q1812.57 1452.37 1808.93 1452.37 M1808.93 1448.67 Q1814.74 1448.67 1817.8 1453.27 Q1820.88 1457.86 1820.88 1466.61 Q1820.88 1475.33 1817.8 1479.94 Q1814.74 1484.52 1808.93 1484.52 Q1803.12 1484.52 1800.04 1479.94 Q1796.99 1475.33 1796.99 1466.61 Q1796.99 1457.86 1800.04 1453.27 Q1803.12 1448.67 1808.93 1448.67 Z\" fill=\"#000000\" fill-rule=\"evenodd\" fill-opacity=\"1\" /><path clip-path=\"url(#clip550)\" d=\"M 0 0 M1835.95 1452.37 Q1832.34 1452.37 1830.51 1455.94 Q1828.7 1459.48 1828.7 1466.61 Q1828.7 1473.71 1830.51 1477.28 Q1832.34 1480.82 1835.95 1480.82 Q1839.58 1480.82 1841.39 1477.28 Q1843.21 1473.71 1843.21 1466.61 Q1843.21 1459.48 1841.39 1455.94 Q1839.58 1452.37 1835.95 1452.37 M1835.95 1448.67 Q1841.76 1448.67 1844.81 1453.27 Q1847.89 1457.86 1847.89 1466.61 Q1847.89 1475.33 1844.81 1479.94 Q1841.76 1484.52 1835.95 1484.52 Q1830.14 1484.52 1827.06 1479.94 Q1824 1475.33 1824 1466.61 Q1824 1457.86 1827.06 1453.27 Q1830.14 1448.67 1835.95 1448.67 Z\" fill=\"#000000\" fill-rule=\"evenodd\" fill-opacity=\"1\" /><path clip-path=\"url(#clip550)\" d=\"M 0 0 M2158.8 1479.92 L2175.12 1479.92 L2175.12 1483.85 L2153.18 1483.85 L2153.18 1479.92 Q2155.84 1477.16 2160.42 1472.53 Q2165.03 1467.88 2166.21 1466.54 Q2168.46 1464.01 2169.34 1462.28 Q2170.24 1460.52 2170.24 1458.83 Q2170.24 1456.07 2168.29 1454.34 Q2166.37 1452.6 2163.27 1452.6 Q2161.07 1452.6 2158.62 1453.37 Q2156.19 1454.13 2153.41 1455.68 L2153.41 1450.96 Q2156.23 1449.82 2158.69 1449.25 Q2161.14 1448.67 2163.18 1448.67 Q2168.55 1448.67 2171.74 1451.35 Q2174.94 1454.04 2174.94 1458.53 Q2174.94 1460.66 2174.13 1462.58 Q2173.34 1464.48 2171.23 1467.07 Q2170.66 1467.74 2167.55 1470.96 Q2164.45 1474.15 2158.8 1479.92 Z\" fill=\"#000000\" fill-rule=\"evenodd\" fill-opacity=\"1\" /><path clip-path=\"url(#clip550)\" d=\"M 0 0 M2180.24 1449.29 L2198.6 1449.29 L2198.6 1453.23 L2184.52 1453.23 L2184.52 1461.7 Q2185.54 1461.35 2186.56 1461.19 Q2187.58 1461 2188.6 1461 Q2194.38 1461 2197.76 1464.18 Q2201.14 1467.35 2201.14 1472.76 Q2201.14 1478.34 2197.67 1481.44 Q2194.2 1484.52 2187.88 1484.52 Q2185.7 1484.52 2183.43 1484.15 Q2181.19 1483.78 2178.78 1483.04 L2178.78 1478.34 Q2180.86 1479.48 2183.09 1480.03 Q2185.31 1480.59 2187.79 1480.59 Q2191.79 1480.59 2194.13 1478.48 Q2196.47 1476.38 2196.47 1472.76 Q2196.47 1469.15 2194.13 1467.05 Q2191.79 1464.94 2187.79 1464.94 Q2185.91 1464.94 2184.04 1465.36 Q2182.18 1465.77 2180.24 1466.65 L2180.24 1449.29 Z\" fill=\"#000000\" fill-rule=\"evenodd\" fill-opacity=\"1\" /><path clip-path=\"url(#clip550)\" d=\"M 0 0 M2216.21 1452.37 Q2212.6 1452.37 2210.77 1455.94 Q2208.97 1459.48 2208.97 1466.61 Q2208.97 1473.71 2210.77 1477.28 Q2212.6 1480.82 2216.21 1480.82 Q2219.85 1480.82 2221.65 1477.28 Q2223.48 1473.71 2223.48 1466.61 Q2223.48 1459.48 2221.65 1455.94 Q2219.85 1452.37 2216.21 1452.37 M2216.21 1448.67 Q2222.02 1448.67 2225.08 1453.27 Q2228.16 1457.86 2228.16 1466.61 Q2228.16 1475.33 2225.08 1479.94 Q2222.02 1484.52 2216.21 1484.52 Q2210.4 1484.52 2207.32 1479.94 Q2204.27 1475.33 2204.27 1466.61 Q2204.27 1457.86 2207.32 1453.27 Q2210.4 1448.67 2216.21 1448.67 Z\" fill=\"#000000\" fill-rule=\"evenodd\" fill-opacity=\"1\" /><path clip-path=\"url(#clip550)\" d=\"M 0 0 M1217.42 1524.88 Q1210.42 1524.88 1206.28 1530.1 Q1202.17 1535.32 1202.17 1544.33 Q1202.17 1553.31 1206.28 1558.53 Q1210.42 1563.75 1217.42 1563.75 Q1224.42 1563.75 1228.5 1558.53 Q1232.6 1553.31 1232.6 1544.33 Q1232.6 1535.32 1228.5 1530.1 Q1224.42 1524.88 1217.42 1524.88 M1217.42 1519.66 Q1227.41 1519.66 1233.4 1526.38 Q1239.38 1533.06 1239.38 1544.33 Q1239.38 1555.57 1233.4 1562.28 Q1227.41 1568.97 1217.42 1568.97 Q1207.39 1568.97 1201.38 1562.28 Q1195.39 1555.6 1195.39 1544.33 Q1195.39 1533.06 1201.38 1526.38 Q1207.39 1519.66 1217.42 1519.66 Z\" fill=\"#000000\" fill-rule=\"evenodd\" fill-opacity=\"1\" /><path clip-path=\"url(#clip550)\" d=\"M 0 0 M1244.92 1553.98 L1244.92 1532.4 L1250.78 1532.4 L1250.78 1553.75 Q1250.78 1558.81 1252.75 1561.36 Q1254.72 1563.87 1258.67 1563.87 Q1263.41 1563.87 1266.15 1560.85 Q1268.92 1557.83 1268.92 1552.61 L1268.92 1532.4 L1274.77 1532.4 L1274.77 1568.04 L1268.92 1568.04 L1268.92 1562.57 Q1266.79 1565.82 1263.95 1567.41 Q1261.15 1568.97 1257.43 1568.97 Q1251.29 1568.97 1248.1 1565.15 Q1244.92 1561.33 1244.92 1553.98 M1259.66 1531.54 L1259.66 1531.54 Z\" fill=\"#000000\" fill-rule=\"evenodd\" fill-opacity=\"1\" /><path clip-path=\"url(#clip550)\" d=\"M 0 0 M1286.71 1522.27 L1286.71 1532.4 L1298.77 1532.4 L1298.77 1536.95 L1286.71 1536.95 L1286.71 1556.3 Q1286.71 1560.66 1287.89 1561.9 Q1289.1 1563.14 1292.76 1563.14 L1298.77 1563.14 L1298.77 1568.04 L1292.76 1568.04 Q1285.98 1568.04 1283.4 1565.53 Q1280.82 1562.98 1280.82 1556.3 L1280.82 1536.95 L1276.53 1536.95 L1276.53 1532.4 L1280.82 1532.4 L1280.82 1522.27 L1286.71 1522.27 Z\" fill=\"#000000\" fill-rule=\"evenodd\" fill-opacity=\"1\" /><path clip-path=\"url(#clip550)\" d=\"M 0 0 M1310.58 1562.7 L1310.58 1581.6 L1304.69 1581.6 L1304.69 1532.4 L1310.58 1532.4 L1310.58 1537.81 Q1312.43 1534.62 1315.23 1533.1 Q1318.06 1531.54 1321.98 1531.54 Q1328.47 1531.54 1332.51 1536.69 Q1336.59 1541.85 1336.59 1550.25 Q1336.59 1558.65 1332.51 1563.81 Q1328.47 1568.97 1321.98 1568.97 Q1318.06 1568.97 1315.23 1567.44 Q1312.43 1565.88 1310.58 1562.7 M1330.51 1550.25 Q1330.51 1543.79 1327.83 1540.13 Q1325.19 1536.44 1320.54 1536.44 Q1315.9 1536.44 1313.22 1540.13 Q1310.58 1543.79 1310.58 1550.25 Q1310.58 1556.71 1313.22 1560.4 Q1315.9 1564.07 1320.54 1564.07 Q1325.19 1564.07 1327.83 1560.4 Q1330.51 1556.71 1330.51 1550.25 Z\" fill=\"#000000\" fill-rule=\"evenodd\" fill-opacity=\"1\" /><path clip-path=\"url(#clip550)\" d=\"M 0 0 M1342.12 1553.98 L1342.12 1532.4 L1347.98 1532.4 L1347.98 1553.75 Q1347.98 1558.81 1349.95 1561.36 Q1351.93 1563.87 1355.87 1563.87 Q1360.62 1563.87 1363.35 1560.85 Q1366.12 1557.83 1366.12 1552.61 L1366.12 1532.4 L1371.98 1532.4 L1371.98 1568.04 L1366.12 1568.04 L1366.12 1562.57 Q1363.99 1565.82 1361.16 1567.41 Q1358.36 1568.97 1354.63 1568.97 Q1348.49 1568.97 1345.31 1565.15 Q1342.12 1561.33 1342.12 1553.98 M1356.86 1531.54 L1356.86 1531.54 Z\" fill=\"#000000\" fill-rule=\"evenodd\" fill-opacity=\"1\" /><path clip-path=\"url(#clip550)\" d=\"M 0 0 M1383.91 1522.27 L1383.91 1532.4 L1395.98 1532.4 L1395.98 1536.95 L1383.91 1536.95 L1383.91 1556.3 Q1383.91 1560.66 1385.09 1561.9 Q1386.3 1563.14 1389.96 1563.14 L1395.98 1563.14 L1395.98 1568.04 L1389.96 1568.04 Q1383.18 1568.04 1380.6 1565.53 Q1378.03 1562.98 1378.03 1556.3 L1378.03 1536.95 L1373.73 1536.95 L1373.73 1532.4 L1378.03 1532.4 L1378.03 1522.27 L1383.91 1522.27 Z\" fill=\"#000000\" fill-rule=\"evenodd\" fill-opacity=\"1\" /><polyline clip-path=\"url(#clip552)\" style=\"stroke:#000000; stroke-width:2; stroke-opacity:0.1; fill:none\" points=\"\n",
       "  238.616,1384.24 2352.76,1384.24 \n",
       "  \"/>\n",
       "<polyline clip-path=\"url(#clip552)\" style=\"stroke:#000000; stroke-width:2; stroke-opacity:0.1; fill:none\" points=\"\n",
       "  238.616,1100.94 2352.76,1100.94 \n",
       "  \"/>\n",
       "<polyline clip-path=\"url(#clip552)\" style=\"stroke:#000000; stroke-width:2; stroke-opacity:0.1; fill:none\" points=\"\n",
       "  238.616,817.637 2352.76,817.637 \n",
       "  \"/>\n",
       "<polyline clip-path=\"url(#clip552)\" style=\"stroke:#000000; stroke-width:2; stroke-opacity:0.1; fill:none\" points=\"\n",
       "  238.616,534.336 2352.76,534.336 \n",
       "  \"/>\n",
       "<polyline clip-path=\"url(#clip552)\" style=\"stroke:#000000; stroke-width:2; stroke-opacity:0.1; fill:none\" points=\"\n",
       "  238.616,251.036 2352.76,251.036 \n",
       "  \"/>\n",
       "<polyline clip-path=\"url(#clip550)\" style=\"stroke:#000000; stroke-width:4; stroke-opacity:1; fill:none\" points=\"\n",
       "  238.616,1423.18 238.616,47.2441 \n",
       "  \"/>\n",
       "<polyline clip-path=\"url(#clip550)\" style=\"stroke:#000000; stroke-width:4; stroke-opacity:1; fill:none\" points=\"\n",
       "  238.616,1384.24 263.986,1384.24 \n",
       "  \"/>\n",
       "<polyline clip-path=\"url(#clip550)\" style=\"stroke:#000000; stroke-width:4; stroke-opacity:1; fill:none\" points=\"\n",
       "  238.616,1100.94 263.986,1100.94 \n",
       "  \"/>\n",
       "<polyline clip-path=\"url(#clip550)\" style=\"stroke:#000000; stroke-width:4; stroke-opacity:1; fill:none\" points=\"\n",
       "  238.616,817.637 263.986,817.637 \n",
       "  \"/>\n",
       "<polyline clip-path=\"url(#clip550)\" style=\"stroke:#000000; stroke-width:4; stroke-opacity:1; fill:none\" points=\"\n",
       "  238.616,534.336 263.986,534.336 \n",
       "  \"/>\n",
       "<polyline clip-path=\"url(#clip550)\" style=\"stroke:#000000; stroke-width:4; stroke-opacity:1; fill:none\" points=\"\n",
       "  238.616,251.036 263.986,251.036 \n",
       "  \"/>\n",
       "<path clip-path=\"url(#clip550)\" d=\"M 0 0 M126.691 1370.04 Q123.08 1370.04 121.251 1373.6 Q119.445 1377.14 119.445 1384.27 Q119.445 1391.38 121.251 1394.94 Q123.08 1398.49 126.691 1398.49 Q130.325 1398.49 132.13 1394.94 Q133.959 1391.38 133.959 1384.27 Q133.959 1377.14 132.13 1373.6 Q130.325 1370.04 126.691 1370.04 M126.691 1366.33 Q132.501 1366.33 135.556 1370.94 Q138.635 1375.52 138.635 1384.27 Q138.635 1393 135.556 1397.61 Q132.501 1402.19 126.691 1402.19 Q120.88 1402.19 117.802 1397.61 Q114.746 1393 114.746 1384.27 Q114.746 1375.52 117.802 1370.94 Q120.88 1366.33 126.691 1366.33 Z\" fill=\"#000000\" fill-rule=\"evenodd\" fill-opacity=\"1\" /><path clip-path=\"url(#clip550)\" d=\"M 0 0 M143.704 1395.64 L148.589 1395.64 L148.589 1401.52 L143.704 1401.52 L143.704 1395.64 Z\" fill=\"#000000\" fill-rule=\"evenodd\" fill-opacity=\"1\" /><path clip-path=\"url(#clip550)\" d=\"M 0 0 M163.658 1370.04 Q160.047 1370.04 158.218 1373.6 Q156.413 1377.14 156.413 1384.27 Q156.413 1391.38 158.218 1394.94 Q160.047 1398.49 163.658 1398.49 Q167.292 1398.49 169.098 1394.94 Q170.927 1391.38 170.927 1384.27 Q170.927 1377.14 169.098 1373.6 Q167.292 1370.04 163.658 1370.04 M163.658 1366.33 Q169.468 1366.33 172.524 1370.94 Q175.602 1375.52 175.602 1384.27 Q175.602 1393 172.524 1397.61 Q169.468 1402.19 163.658 1402.19 Q157.848 1402.19 154.769 1397.61 Q151.714 1393 151.714 1384.27 Q151.714 1375.52 154.769 1370.94 Q157.848 1366.33 163.658 1366.33 Z\" fill=\"#000000\" fill-rule=\"evenodd\" fill-opacity=\"1\" /><path clip-path=\"url(#clip550)\" d=\"M 0 0 M190.672 1370.04 Q187.061 1370.04 185.232 1373.6 Q183.426 1377.14 183.426 1384.27 Q183.426 1391.38 185.232 1394.94 Q187.061 1398.49 190.672 1398.49 Q194.306 1398.49 196.112 1394.94 Q197.94 1391.38 197.94 1384.27 Q197.94 1377.14 196.112 1373.6 Q194.306 1370.04 190.672 1370.04 M190.672 1366.33 Q196.482 1366.33 199.537 1370.94 Q202.616 1375.52 202.616 1384.27 Q202.616 1393 199.537 1397.61 Q196.482 1402.19 190.672 1402.19 Q184.862 1402.19 181.783 1397.61 Q178.727 1393 178.727 1384.27 Q178.727 1375.52 181.783 1370.94 Q184.862 1366.33 190.672 1366.33 Z\" fill=\"#000000\" fill-rule=\"evenodd\" fill-opacity=\"1\" /><path clip-path=\"url(#clip550)\" d=\"M 0 0 M127.917 1086.74 Q124.306 1086.74 122.478 1090.3 Q120.672 1093.84 120.672 1100.97 Q120.672 1108.08 122.478 1111.64 Q124.306 1115.19 127.917 1115.19 Q131.552 1115.19 133.357 1111.64 Q135.186 1108.08 135.186 1100.97 Q135.186 1093.84 133.357 1090.3 Q131.552 1086.74 127.917 1086.74 M127.917 1083.03 Q133.728 1083.03 136.783 1087.64 Q139.862 1092.22 139.862 1100.97 Q139.862 1109.7 136.783 1114.31 Q133.728 1118.89 127.917 1118.89 Q122.107 1118.89 119.029 1114.31 Q115.973 1109.7 115.973 1100.97 Q115.973 1092.22 119.029 1087.64 Q122.107 1083.03 127.917 1083.03 Z\" fill=\"#000000\" fill-rule=\"evenodd\" fill-opacity=\"1\" /><path clip-path=\"url(#clip550)\" d=\"M 0 0 M144.931 1112.34 L149.816 1112.34 L149.816 1118.22 L144.931 1118.22 L144.931 1112.34 Z\" fill=\"#000000\" fill-rule=\"evenodd\" fill-opacity=\"1\" /><path clip-path=\"url(#clip550)\" d=\"M 0 0 M164.885 1086.74 Q161.274 1086.74 159.445 1090.3 Q157.64 1093.84 157.64 1100.97 Q157.64 1108.08 159.445 1111.64 Q161.274 1115.19 164.885 1115.19 Q168.519 1115.19 170.325 1111.64 Q172.153 1108.08 172.153 1100.97 Q172.153 1093.84 170.325 1090.3 Q168.519 1086.74 164.885 1086.74 M164.885 1083.03 Q170.695 1083.03 173.751 1087.64 Q176.829 1092.22 176.829 1100.97 Q176.829 1109.7 173.751 1114.31 Q170.695 1118.89 164.885 1118.89 Q159.075 1118.89 155.996 1114.31 Q152.941 1109.7 152.941 1100.97 Q152.941 1092.22 155.996 1087.64 Q159.075 1083.03 164.885 1083.03 Z\" fill=\"#000000\" fill-rule=\"evenodd\" fill-opacity=\"1\" /><path clip-path=\"url(#clip550)\" d=\"M 0 0 M182.709 1114.28 L190.348 1114.28 L190.348 1087.92 L182.038 1089.58 L182.038 1085.32 L190.301 1083.66 L194.977 1083.66 L194.977 1114.28 L202.616 1114.28 L202.616 1118.22 L182.709 1118.22 L182.709 1114.28 Z\" fill=\"#000000\" fill-rule=\"evenodd\" fill-opacity=\"1\" /><path clip-path=\"url(#clip550)\" d=\"M 0 0 M128.288 803.436 Q124.677 803.436 122.848 807 Q121.043 810.542 121.043 817.672 Q121.043 824.778 122.848 828.343 Q124.677 831.885 128.288 831.885 Q131.922 831.885 133.728 828.343 Q135.556 824.778 135.556 817.672 Q135.556 810.542 133.728 807 Q131.922 803.436 128.288 803.436 M128.288 799.732 Q134.098 799.732 137.154 804.338 Q140.232 808.922 140.232 817.672 Q140.232 826.398 137.154 831.005 Q134.098 835.588 128.288 835.588 Q122.478 835.588 119.399 831.005 Q116.343 826.398 116.343 817.672 Q116.343 808.922 119.399 804.338 Q122.478 799.732 128.288 799.732 Z\" fill=\"#000000\" fill-rule=\"evenodd\" fill-opacity=\"1\" /><path clip-path=\"url(#clip550)\" d=\"M 0 0 M145.302 829.037 L150.186 829.037 L150.186 834.917 L145.302 834.917 L145.302 829.037 Z\" fill=\"#000000\" fill-rule=\"evenodd\" fill-opacity=\"1\" /><path clip-path=\"url(#clip550)\" d=\"M 0 0 M165.255 803.436 Q161.644 803.436 159.815 807 Q158.01 810.542 158.01 817.672 Q158.01 824.778 159.815 828.343 Q161.644 831.885 165.255 831.885 Q168.889 831.885 170.695 828.343 Q172.524 824.778 172.524 817.672 Q172.524 810.542 170.695 807 Q168.889 803.436 165.255 803.436 M165.255 799.732 Q171.065 799.732 174.121 804.338 Q177.2 808.922 177.2 817.672 Q177.2 826.398 174.121 831.005 Q171.065 835.588 165.255 835.588 Q159.445 835.588 156.366 831.005 Q153.311 826.398 153.311 817.672 Q153.311 808.922 156.366 804.338 Q159.445 799.732 165.255 799.732 Z\" fill=\"#000000\" fill-rule=\"evenodd\" fill-opacity=\"1\" /><path clip-path=\"url(#clip550)\" d=\"M 0 0 M186.297 830.982 L202.616 830.982 L202.616 834.917 L180.672 834.917 L180.672 830.982 Q183.334 828.227 187.917 823.598 Q192.524 818.945 193.704 817.602 Q195.95 815.079 196.829 813.343 Q197.732 811.584 197.732 809.894 Q197.732 807.139 195.787 805.403 Q193.866 803.667 190.764 803.667 Q188.565 803.667 186.112 804.431 Q183.681 805.195 180.903 806.746 L180.903 802.024 Q183.727 800.889 186.181 800.311 Q188.635 799.732 190.672 799.732 Q196.042 799.732 199.237 802.417 Q202.431 805.102 202.431 809.593 Q202.431 811.723 201.621 813.644 Q200.834 815.542 198.727 818.135 Q198.149 818.806 195.047 822.023 Q191.945 825.218 186.297 830.982 Z\" fill=\"#000000\" fill-rule=\"evenodd\" fill-opacity=\"1\" /><path clip-path=\"url(#clip550)\" d=\"M 0 0 M127.339 520.135 Q123.728 520.135 121.899 523.7 Q120.093 527.241 120.093 534.371 Q120.093 541.477 121.899 545.042 Q123.728 548.584 127.339 548.584 Q130.973 548.584 132.779 545.042 Q134.607 541.477 134.607 534.371 Q134.607 527.241 132.779 523.7 Q130.973 520.135 127.339 520.135 M127.339 516.431 Q133.149 516.431 136.204 521.038 Q139.283 525.621 139.283 534.371 Q139.283 543.098 136.204 547.704 Q133.149 552.288 127.339 552.288 Q121.529 552.288 118.45 547.704 Q115.394 543.098 115.394 534.371 Q115.394 525.621 118.45 521.038 Q121.529 516.431 127.339 516.431 Z\" fill=\"#000000\" fill-rule=\"evenodd\" fill-opacity=\"1\" /><path clip-path=\"url(#clip550)\" d=\"M 0 0 M144.353 545.737 L149.237 545.737 L149.237 551.616 L144.353 551.616 L144.353 545.737 Z\" fill=\"#000000\" fill-rule=\"evenodd\" fill-opacity=\"1\" /><path clip-path=\"url(#clip550)\" d=\"M 0 0 M164.306 520.135 Q160.695 520.135 158.866 523.7 Q157.061 527.241 157.061 534.371 Q157.061 541.477 158.866 545.042 Q160.695 548.584 164.306 548.584 Q167.94 548.584 169.746 545.042 Q171.575 541.477 171.575 534.371 Q171.575 527.241 169.746 523.7 Q167.94 520.135 164.306 520.135 M164.306 516.431 Q170.116 516.431 173.172 521.038 Q176.251 525.621 176.251 534.371 Q176.251 543.098 173.172 547.704 Q170.116 552.288 164.306 552.288 Q158.496 552.288 155.417 547.704 Q152.362 543.098 152.362 534.371 Q152.362 525.621 155.417 521.038 Q158.496 516.431 164.306 516.431 Z\" fill=\"#000000\" fill-rule=\"evenodd\" fill-opacity=\"1\" /><path clip-path=\"url(#clip550)\" d=\"M 0 0 M195.487 532.982 Q198.843 533.7 200.718 535.968 Q202.616 538.237 202.616 541.57 Q202.616 546.686 199.098 549.487 Q195.579 552.288 189.098 552.288 Q186.922 552.288 184.607 551.848 Q182.315 551.431 179.862 550.575 L179.862 546.061 Q181.806 547.195 184.121 547.774 Q186.436 548.352 188.959 548.352 Q193.357 548.352 195.649 546.616 Q197.963 544.88 197.963 541.57 Q197.963 538.514 195.811 536.801 Q193.681 535.065 189.862 535.065 L185.834 535.065 L185.834 531.223 L190.047 531.223 Q193.496 531.223 195.325 529.857 Q197.153 528.468 197.153 525.876 Q197.153 523.214 195.255 521.802 Q193.38 520.366 189.862 520.366 Q187.94 520.366 185.741 520.783 Q183.542 521.2 180.903 522.079 L180.903 517.913 Q183.565 517.172 185.88 516.802 Q188.218 516.431 190.278 516.431 Q195.602 516.431 198.704 518.862 Q201.806 521.269 201.806 525.389 Q201.806 528.26 200.162 530.251 Q198.519 532.218 195.487 532.982 Z\" fill=\"#000000\" fill-rule=\"evenodd\" fill-opacity=\"1\" /><path clip-path=\"url(#clip550)\" d=\"M 0 0 M126.205 236.834 Q122.593 236.834 120.765 240.399 Q118.959 243.941 118.959 251.07 Q118.959 258.177 120.765 261.741 Q122.593 265.283 126.205 265.283 Q129.839 265.283 131.644 261.741 Q133.473 258.177 133.473 251.07 Q133.473 243.941 131.644 240.399 Q129.839 236.834 126.205 236.834 M126.205 233.131 Q132.015 233.131 135.07 237.737 Q138.149 242.32 138.149 251.07 Q138.149 259.797 135.07 264.404 Q132.015 268.987 126.205 268.987 Q120.394 268.987 117.316 264.404 Q114.26 259.797 114.26 251.07 Q114.26 242.32 117.316 237.737 Q120.394 233.131 126.205 233.131 Z\" fill=\"#000000\" fill-rule=\"evenodd\" fill-opacity=\"1\" /><path clip-path=\"url(#clip550)\" d=\"M 0 0 M143.218 262.436 L148.103 262.436 L148.103 268.316 L143.218 268.316 L143.218 262.436 Z\" fill=\"#000000\" fill-rule=\"evenodd\" fill-opacity=\"1\" /><path clip-path=\"url(#clip550)\" d=\"M 0 0 M163.172 236.834 Q159.561 236.834 157.732 240.399 Q155.927 243.941 155.927 251.07 Q155.927 258.177 157.732 261.741 Q159.561 265.283 163.172 265.283 Q166.806 265.283 168.612 261.741 Q170.44 258.177 170.44 251.07 Q170.44 243.941 168.612 240.399 Q166.806 236.834 163.172 236.834 M163.172 233.131 Q168.982 233.131 172.038 237.737 Q175.116 242.32 175.116 251.07 Q175.116 259.797 172.038 264.404 Q168.982 268.987 163.172 268.987 Q157.362 268.987 154.283 264.404 Q151.228 259.797 151.228 251.07 Q151.228 242.32 154.283 237.737 Q157.362 233.131 163.172 233.131 Z\" fill=\"#000000\" fill-rule=\"evenodd\" fill-opacity=\"1\" /><path clip-path=\"url(#clip550)\" d=\"M 0 0 M193.033 237.83 L181.227 256.279 L193.033 256.279 L193.033 237.83 M191.806 233.756 L197.686 233.756 L197.686 256.279 L202.616 256.279 L202.616 260.167 L197.686 260.167 L197.686 268.316 L193.033 268.316 L193.033 260.167 L177.431 260.167 L177.431 255.654 L191.806 233.756 Z\" fill=\"#000000\" fill-rule=\"evenodd\" fill-opacity=\"1\" /><path clip-path=\"url(#clip550)\" d=\"M 0 0 M16.4842 917.032 L16.4842 910.603 L64.0042 910.603 L64.0042 917.032 L16.4842 917.032 Z\" fill=\"#000000\" fill-rule=\"evenodd\" fill-opacity=\"1\" /><path clip-path=\"url(#clip550)\" d=\"M 0 0 M42.4881 874.828 L64.0042 874.828 L64.0042 880.684 L42.679 880.684 Q37.6183 880.684 35.1038 882.658 Q32.5894 884.631 32.5894 888.578 Q32.5894 893.32 35.6131 896.057 Q38.6368 898.795 43.8567 898.795 L64.0042 898.795 L64.0042 904.683 L28.3562 904.683 L28.3562 898.795 L33.8944 898.795 Q30.6797 896.694 29.0883 893.861 Q27.4968 890.997 27.4968 887.273 Q27.4968 881.13 31.3163 877.979 Q35.1038 874.828 42.4881 874.828 Z\" fill=\"#000000\" fill-rule=\"evenodd\" fill-opacity=\"1\" /><path clip-path=\"url(#clip550)\" d=\"M 0 0 M28.3562 872.886 L28.3562 866.68 L58.275 855.54 L28.3562 844.4 L28.3562 838.193 L64.0042 851.561 L64.0042 859.518 L28.3562 872.886 Z\" fill=\"#000000\" fill-rule=\"evenodd\" fill-opacity=\"1\" /><path clip-path=\"url(#clip550)\" d=\"M 0 0 M46.0847 815.85 Q46.0847 822.947 47.7079 825.685 Q49.3312 828.422 53.2461 828.422 Q56.3653 828.422 58.2114 826.385 Q60.0256 824.316 60.0256 820.783 Q60.0256 815.913 56.5881 812.985 Q53.1188 810.025 47.3897 810.025 L46.0847 810.025 L46.0847 815.85 M43.6657 804.168 L64.0042 804.168 L64.0042 810.025 L58.5933 810.025 Q61.8398 812.03 63.3994 815.022 Q64.9272 818.014 64.9272 822.343 Q64.9272 827.817 61.8716 831.064 Q58.7843 834.278 53.6281 834.278 Q47.6125 834.278 44.5569 830.268 Q41.5014 826.226 41.5014 818.237 L41.5014 810.025 L40.9285 810.025 Q36.8862 810.025 34.6901 812.699 Q32.4621 815.34 32.4621 820.146 Q32.4621 823.202 33.1941 826.098 Q33.9262 828.995 35.3903 831.668 L29.9795 831.668 Q28.7381 828.454 28.1334 825.43 Q27.4968 822.406 27.4968 819.542 Q27.4968 811.807 31.5072 807.988 Q35.5176 804.168 43.6657 804.168 Z\" fill=\"#000000\" fill-rule=\"evenodd\" fill-opacity=\"1\" /><path clip-path=\"url(#clip550)\" d=\"M 0 0 M33.8307 777.369 Q33.2578 778.356 33.0032 779.533 Q32.7167 780.679 32.7167 782.079 Q32.7167 787.045 35.9632 789.718 Q39.1779 792.36 45.2253 792.36 L64.0042 792.36 L64.0042 798.248 L28.3562 798.248 L28.3562 792.36 L33.8944 792.36 Q30.6479 790.514 29.0883 787.554 Q27.4968 784.594 27.4968 780.361 Q27.4968 779.756 27.5923 779.024 Q27.656 778.292 27.8151 777.401 L33.8307 777.369 Z\" fill=\"#000000\" fill-rule=\"evenodd\" fill-opacity=\"1\" /><path clip-path=\"url(#clip550)\" d=\"M 0 0 M28.3562 771.226 L28.3562 765.37 L64.0042 765.37 L64.0042 771.226 L28.3562 771.226 M14.479 771.226 L14.479 765.37 L21.895 765.37 L21.895 771.226 L14.479 771.226 Z\" fill=\"#000000\" fill-rule=\"evenodd\" fill-opacity=\"1\" /><path clip-path=\"url(#clip550)\" d=\"M 0 0 M46.0847 743.026 Q46.0847 750.124 47.7079 752.861 Q49.3312 755.598 53.2461 755.598 Q56.3653 755.598 58.2114 753.561 Q60.0256 751.492 60.0256 747.959 Q60.0256 743.09 56.5881 740.161 Q53.1188 737.201 47.3897 737.201 L46.0847 737.201 L46.0847 743.026 M43.6657 731.345 L64.0042 731.345 L64.0042 737.201 L58.5933 737.201 Q61.8398 739.206 63.3994 742.198 Q64.9272 745.19 64.9272 749.519 Q64.9272 754.993 61.8716 758.24 Q58.7843 761.455 53.6281 761.455 Q47.6125 761.455 44.5569 757.444 Q41.5014 753.402 41.5014 745.413 L41.5014 737.201 L40.9285 737.201 Q36.8862 737.201 34.6901 739.875 Q32.4621 742.517 32.4621 747.323 Q32.4621 750.378 33.1941 753.275 Q33.9262 756.171 35.3903 758.845 L29.9795 758.845 Q28.7381 755.63 28.1334 752.606 Q27.4968 749.583 27.4968 746.718 Q27.4968 738.984 31.5072 735.164 Q35.5176 731.345 43.6657 731.345 Z\" fill=\"#000000\" fill-rule=\"evenodd\" fill-opacity=\"1\" /><path clip-path=\"url(#clip550)\" d=\"M 0 0 M42.4881 695.57 L64.0042 695.57 L64.0042 701.426 L42.679 701.426 Q37.6183 701.426 35.1038 703.399 Q32.5894 705.373 32.5894 709.319 Q32.5894 714.062 35.6131 716.799 Q38.6368 719.536 43.8567 719.536 L64.0042 719.536 L64.0042 725.425 L28.3562 725.425 L28.3562 719.536 L33.8944 719.536 Q30.6797 717.436 29.0883 714.603 Q27.4968 711.738 27.4968 708.014 Q27.4968 701.872 31.3163 698.721 Q35.1038 695.57 42.4881 695.57 Z\" fill=\"#000000\" fill-rule=\"evenodd\" fill-opacity=\"1\" /><path clip-path=\"url(#clip550)\" d=\"M 0 0 M18.2347 683.634 L28.3562 683.634 L28.3562 671.571 L32.9077 671.571 L32.9077 683.634 L52.2594 683.634 Q56.6199 683.634 57.8613 682.456 Q59.1026 681.247 59.1026 677.586 L59.1026 671.571 L64.0042 671.571 L64.0042 677.586 Q64.0042 684.366 61.4897 686.944 Q58.9434 689.522 52.2594 689.522 L32.9077 689.522 L32.9077 693.819 L28.3562 693.819 L28.3562 689.522 L18.2347 689.522 L18.2347 683.634 Z\" fill=\"#000000\" fill-rule=\"evenodd\" fill-opacity=\"1\" /><path clip-path=\"url(#clip550)\" d=\"M 0 0 M58.657 639.042 L77.5631 639.042 L77.5631 644.93 L28.3562 644.93 L28.3562 639.042 L33.7671 639.042 Q30.5842 637.196 29.0564 634.395 Q27.4968 631.562 27.4968 627.647 Q27.4968 621.154 32.6531 617.112 Q37.8093 613.038 46.212 613.038 Q54.6147 613.038 59.771 617.112 Q64.9272 621.154 64.9272 627.647 Q64.9272 631.562 63.3994 634.395 Q61.8398 637.196 58.657 639.042 M46.212 619.117 Q39.7508 619.117 36.0905 621.791 Q32.3984 624.433 32.3984 629.08 Q32.3984 633.727 36.0905 636.4 Q39.7508 639.042 46.212 639.042 Q52.6732 639.042 56.3653 636.4 Q60.0256 633.727 60.0256 629.08 Q60.0256 624.433 56.3653 621.791 Q52.6732 619.117 46.212 619.117 Z\" fill=\"#000000\" fill-rule=\"evenodd\" fill-opacity=\"1\" /><path clip-path=\"url(#clip550)\" d=\"M 0 0 M33.7671 583.438 L14.479 583.438 L14.479 577.581 L64.0042 577.581 L64.0042 583.438 L58.657 583.438 Q61.8398 585.284 63.3994 588.116 Q64.9272 590.917 64.9272 594.864 Q64.9272 601.325 59.771 605.399 Q54.6147 609.442 46.212 609.442 Q37.8093 609.442 32.6531 605.399 Q27.4968 601.325 27.4968 594.864 Q27.4968 590.917 29.0564 588.116 Q30.5842 585.284 33.7671 583.438 M46.212 603.394 Q52.6732 603.394 56.3653 600.752 Q60.0256 598.079 60.0256 593.432 Q60.0256 588.785 56.3653 586.111 Q52.6732 583.438 46.212 583.438 Q39.7508 583.438 36.0905 586.111 Q32.3984 588.785 32.3984 593.432 Q32.3984 598.079 36.0905 600.752 Q39.7508 603.394 46.212 603.394 Z\" fill=\"#000000\" fill-rule=\"evenodd\" fill-opacity=\"1\" /><path clip-path=\"url(#clip550)\" d=\"M 0 0 M14.479 553.391 L19.3487 553.391 L19.3487 558.993 Q19.3487 562.144 20.6219 563.386 Q21.895 564.595 25.2052 564.595 L28.3562 564.595 L28.3562 554.951 L32.9077 554.951 L32.9077 564.595 L64.0042 564.595 L64.0042 570.483 L32.9077 570.483 L32.9077 576.085 L28.3562 576.085 L28.3562 570.483 L25.8736 570.483 Q19.9216 570.483 17.2162 567.714 Q14.479 564.945 14.479 558.93 L14.479 553.391 Z\" fill=\"#000000\" fill-rule=\"evenodd\" fill-opacity=\"1\" /><polyline clip-path=\"url(#clip552)\" style=\"stroke:#009af9; stroke-width:4; stroke-opacity:1; fill:none\" points=\"\n",
       "  298.45,1384.24 299.07,1384.24 299.723,1384.24 300.41,1384.24 301.134,1384.24 301.897,1384.24 302.701,1384.24 303.548,1384.24 304.44,1384.24 305.379,1384.24 \n",
       "  306.369,1384.24 307.412,1384.24 308.51,1384.24 309.667,1384.24 310.886,1384.24 312.17,1384.24 313.523,1384.24 314.947,1384.24 316.448,1384.24 318.03,1384.24 \n",
       "  319.695,1384.24 321.45,1384.24 323.299,1384.24 325.246,1383.29 327.297,1383.29 329.458,1383.29 331.735,1383.29 334.133,1382.33 336.659,1381.38 339.32,1381.38 \n",
       "  342.123,1380.43 345.076,1378.53 348.187,1377.57 351.464,1375.67 354.917,1372.8 358.553,1369.93 362.384,1367.05 366.42,1362.24 370.671,1357.37 375.15,1351.47 \n",
       "  379.868,1344.44 384.838,1336.18 390.073,1326.51 395.588,1315.13 401.398,1300.71 407.519,1284.57 413.966,1264.07 420.758,1239.21 427.913,1207.93 435.45,1170.84 \n",
       "  443.389,1125.7 451.754,1072.22 460.564,1008.49 469.846,934.95 479.624,852.681 489.924,761.646 500.775,664.571 512.205,564.064 524.246,464.381 536.931,368.329 \n",
       "  550.293,281.709 564.369,207.251 579.197,148.089 594.818,107.486 611.273,86.7616 628.608,86.1857 646.869,104.086 666.105,139.857 686.37,190.365 707.717,254 \n",
       "  730.205,326.148 753.894,405.104 778.849,487.47 805.138,571.115 832.831,653.324 862.004,733.67 892.736,810.191 925.11,881.257 959.214,947.431 995.14,1007.61 \n",
       "  1032.99,1061.82 1072.85,1111.19 1114.85,1154.11 1159.09,1190.91 1205.7,1223.89 1254.8,1251.55 1306.52,1276.2 1361,1296.33 1418.39,1313.24 1478.86,1327.28 \n",
       "  1542.55,1338.76 1609.64,1347.93 1680.32,1356 1754.78,1362.2 1833.22,1366.72 1915.84,1371.6 2002.88,1374.1 2094.58,1376.23 2191.17,1379.02 2292.92,1379.69 \n",
       "  \n",
       "  \"/>\n",
       "</svg>\n"
      ]
     },
     "execution_count": 27,
     "metadata": {},
     "output_type": "execute_result"
    }
   ],
   "source": [
    "# Invariant distribution of firm size (in terms of output)\n",
    "\n",
    "q = (price*s).^(1/γ)\n",
    "plot2 = plot(q[1:100],bar_μ[1:100],legend = false) \n",
    "xlabel!(\"Output\")\n",
    "ylabel!(\"Invariant pdf\")\n",
    "#savefig(plot2,\"plot2.png\")"
   ]
  },
  {
   "cell_type": "code",
   "execution_count": 28,
   "metadata": {},
   "outputs": [
    {
     "data": {
      "text/plain": [
       "62"
      ]
     },
     "execution_count": 28,
     "metadata": {},
     "output_type": "execute_result"
    }
   ],
   "source": [
    "k"
   ]
  },
  {
   "cell_type": "code",
   "execution_count": null,
   "metadata": {},
   "outputs": [],
   "source": []
  }
 ],
 "metadata": {
  "kernelspec": {
   "display_name": "Julia 1.5.3",
   "language": "julia",
   "name": "julia-1.5"
  },
  "language_info": {
   "file_extension": ".jl",
   "mimetype": "application/julia",
   "name": "julia",
   "version": "1.5.3"
  }
 },
 "nbformat": 4,
 "nbformat_minor": 4
}
