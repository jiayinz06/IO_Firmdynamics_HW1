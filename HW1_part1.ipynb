{
 "cells": [
  {
   "cell_type": "code",
   "execution_count": 1,
   "metadata": {},
   "outputs": [],
   "source": [
    "using Random, Distributions\n",
    "using LinearAlgebra, Statistics\n",
    "using CSV, DataFrames\n",
    "using Plots"
   ]
  },
  {
   "cell_type": "code",
   "execution_count": 2,
   "metadata": {},
   "outputs": [
    {
     "data": {
      "text/html": [
       "<table class=\"data-frame\"><thead><tr><th></th><th>year</th><th>sector</th><th>fage</th><th>firms</th><th>estabs</th><th>emp</th><th>denom</th><th>estabs_entry</th></tr><tr><th></th><th>Int64</th><th>String</th><th>String</th><th>Int64</th><th>Int64</th><th>Int64</th><th>Int64</th><th>String</th></tr></thead><tbody><p>12 rows × 27 columns (omitted printing of 19 columns)</p><tr><th>1</th><td>2018</td><td>44-45</td><td>a) 0</td><td>43132</td><td>43449</td><td>193935</td><td>96968</td><td>43449</td></tr><tr><th>2</th><td>2018</td><td>44-45</td><td>b) 1</td><td>36043</td><td>36596</td><td>182127</td><td>185175</td><td>63</td></tr><tr><th>3</th><td>2018</td><td>44-45</td><td>c) 2</td><td>32769</td><td>33649</td><td>190511</td><td>192813</td><td>1189</td></tr><tr><th>4</th><td>2018</td><td>44-45</td><td>d) 3</td><td>28670</td><td>29817</td><td>188771</td><td>192942</td><td>1025</td></tr><tr><th>5</th><td>2018</td><td>44-45</td><td>e) 4</td><td>26064</td><td>27532</td><td>185633</td><td>187887</td><td>931</td></tr><tr><th>6</th><td>2018</td><td>44-45</td><td>f) 5</td><td>23174</td><td>24217</td><td>162477</td><td>165576</td><td>724</td></tr><tr><th>7</th><td>2018</td><td>44-45</td><td>g) 6 to 10</td><td>90776</td><td>97963</td><td>786885</td><td>802178</td><td>2477</td></tr><tr><th>8</th><td>2018</td><td>44-45</td><td>h) 11 to 15</td><td>74236</td><td>84918</td><td>763098</td><td>769537</td><td>1820</td></tr><tr><th>9</th><td>2018</td><td>44-45</td><td>i) 16 to 20</td><td>50111</td><td>63855</td><td>634190</td><td>644065</td><td>1500</td></tr><tr><th>10</th><td>2018</td><td>44-45</td><td>j) 21 to 25</td><td>41871</td><td>58039</td><td>829552</td><td>835156</td><td>1222</td></tr><tr><th>11</th><td>2018</td><td>44-45</td><td>k) 26+</td><td>82800</td><td>178698</td><td>3110897</td><td>3116104</td><td>3519</td></tr><tr><th>12</th><td>2018</td><td>44-45</td><td>l) Left Censored</td><td>49520</td><td>306038</td><td>8550769</td><td>8591602</td><td>8613</td></tr></tbody></table>"
      ],
      "text/latex": [
       "\\begin{tabular}{r|ccccccccc}\n",
       "\t& year & sector & fage & firms & estabs & emp & denom & estabs\\_entry & \\\\\n",
       "\t\\hline\n",
       "\t& Int64 & String & String & Int64 & Int64 & Int64 & Int64 & String & \\\\\n",
       "\t\\hline\n",
       "\t1 & 2018 & 44-45 & a) 0 & 43132 & 43449 & 193935 & 96968 & 43449 & $\\dots$ \\\\\n",
       "\t2 & 2018 & 44-45 & b) 1 & 36043 & 36596 & 182127 & 185175 & 63 & $\\dots$ \\\\\n",
       "\t3 & 2018 & 44-45 & c) 2 & 32769 & 33649 & 190511 & 192813 & 1189 & $\\dots$ \\\\\n",
       "\t4 & 2018 & 44-45 & d) 3 & 28670 & 29817 & 188771 & 192942 & 1025 & $\\dots$ \\\\\n",
       "\t5 & 2018 & 44-45 & e) 4 & 26064 & 27532 & 185633 & 187887 & 931 & $\\dots$ \\\\\n",
       "\t6 & 2018 & 44-45 & f) 5 & 23174 & 24217 & 162477 & 165576 & 724 & $\\dots$ \\\\\n",
       "\t7 & 2018 & 44-45 & g) 6 to 10 & 90776 & 97963 & 786885 & 802178 & 2477 & $\\dots$ \\\\\n",
       "\t8 & 2018 & 44-45 & h) 11 to 15 & 74236 & 84918 & 763098 & 769537 & 1820 & $\\dots$ \\\\\n",
       "\t9 & 2018 & 44-45 & i) 16 to 20 & 50111 & 63855 & 634190 & 644065 & 1500 & $\\dots$ \\\\\n",
       "\t10 & 2018 & 44-45 & j) 21 to 25 & 41871 & 58039 & 829552 & 835156 & 1222 & $\\dots$ \\\\\n",
       "\t11 & 2018 & 44-45 & k) 26+ & 82800 & 178698 & 3110897 & 3116104 & 3519 & $\\dots$ \\\\\n",
       "\t12 & 2018 & 44-45 & l) Left Censored & 49520 & 306038 & 8550769 & 8591602 & 8613 & $\\dots$ \\\\\n",
       "\\end{tabular}\n"
      ],
      "text/plain": [
       "\u001b[1m12×27 DataFrame\u001b[0m\n",
       "\u001b[1m Row \u001b[0m│\u001b[1m year  \u001b[0m\u001b[1m sector \u001b[0m\u001b[1m fage             \u001b[0m\u001b[1m firms \u001b[0m\u001b[1m estabs \u001b[0m\u001b[1m emp     \u001b[0m\u001b[1m denom   \u001b[0m\u001b[1m estab\u001b[0m ⋯\n",
       "\u001b[1m     \u001b[0m│\u001b[90m Int64 \u001b[0m\u001b[90m String \u001b[0m\u001b[90m String           \u001b[0m\u001b[90m Int64 \u001b[0m\u001b[90m Int64  \u001b[0m\u001b[90m Int64   \u001b[0m\u001b[90m Int64   \u001b[0m\u001b[90m Strin\u001b[0m ⋯\n",
       "─────┼──────────────────────────────────────────────────────────────────────────\n",
       "   1 │  2018  44-45   a) 0              43132   43449   193935    96968  43449 ⋯\n",
       "   2 │  2018  44-45   b) 1              36043   36596   182127   185175  63\n",
       "   3 │  2018  44-45   c) 2              32769   33649   190511   192813  1189\n",
       "   4 │  2018  44-45   d) 3              28670   29817   188771   192942  1025\n",
       "   5 │  2018  44-45   e) 4              26064   27532   185633   187887  931   ⋯\n",
       "   6 │  2018  44-45   f) 5              23174   24217   162477   165576  724\n",
       "   7 │  2018  44-45   g) 6 to 10        90776   97963   786885   802178  2477\n",
       "   8 │  2018  44-45   h) 11 to 15       74236   84918   763098   769537  1820\n",
       "   9 │  2018  44-45   i) 16 to 20       50111   63855   634190   644065  1500  ⋯\n",
       "  10 │  2018  44-45   j) 21 to 25       41871   58039   829552   835156  1222\n",
       "  11 │  2018  44-45   k) 26+            82800  178698  3110897  3116104  3519\n",
       "  12 │  2018  44-45   l) Left Censored  49520  306038  8550769  8591602  8613\n",
       "\u001b[36m                                                              20 columns omitted\u001b[0m"
      ]
     },
     "execution_count": 2,
     "metadata": {},
     "output_type": "execute_result"
    }
   ],
   "source": [
    "γ = 0.2\n",
    "β = 0.8 # 4% interest rate, 5 years\n",
    "\n",
    "df = DataFrame(CSV.File(\"/Users/yinyin/Documents/GitHub/Practice/firm_dynamics/bds2018_sector_fage.csv\",delim=','))\n",
    "d = filter([:year, :sector] => (year,sector) -> year==2018 && sector == \"44-45\" ,df)"
   ]
  },
  {
   "cell_type": "markdown",
   "metadata": {},
   "source": [
    "If we take variable cost to be wL and normalize w=1. Then log(VC)=log(L), meanwhile we have $$VC = \\frac{q^{1+\\gamma}}{(1+\\gamma)s}$$ \n",
    "so $$log(VC)= (1+\\gamma)log(q) - log(1+\\gamma) - log(s) $$,  \n",
    "\n",
    "Also, note that firms' optimal decision of $q$ is $q = (p*s)^(1/γ)$, so we have $log(q)= \\frac{1}{\\gamma}(log(p)+log(s))$, so we have\n",
    "\n",
    "$$ log(L) = \\frac{1+\\gamma}{\\gamma}(log(p)+log(s)) - log(1+\\gamma) - log(s) $$\n",
    "$$ log(L) = 1/\\gamma  log(s) + \\frac{1+\\gamma}{\\gamma}log(p) - log(1+\\gamma) $$\n",
    "$$ log(s) = \\gamma log(L) - (1+\\gamma)log(p) + \\gamma*log(1+\\gamma) $$\n",
    "\n",
    "Since we have $log(s_{t=1}) = \\rho log(s_{t}) + \\epsilon_{t}$, we have\n",
    "\n",
    "$$ \\gamma log(L_{t+1}) - (1+\\gamma)log(p) + \\gamma*log(1+\\gamma) = \\rho [\\gamma log(L_{t}) - (1+\\gamma)log(p) + \\gamma*log(1+\\gamma)]  + \\epsilon_{t+1}$$\n",
    "\n",
    "$$ log(L_{t+1}) = \\rho log(L_{t}) + A + \\frac{1}{\\gamma}\\epsilon_{t+1}  $$"
   ]
  },
  {
   "cell_type": "code",
   "execution_count": 3,
   "metadata": {},
   "outputs": [
    {
     "data": {
      "text/plain": [
       "StatsModels.TableRegressionModel{LinearModel{GLM.LmResp{Array{Float64,1}},GLM.DensePredChol{Float64,Cholesky{Float64,Array{Float64,2}}}},Array{Float64,2}}\n",
       "\n",
       "Y ~ 1 + X\n",
       "\n",
       "Coefficients:\n",
       "───────────────────────────────────────────────────────────────────────\n",
       "                Coef.  Std. Error     t  Pr(>|t|)  Lower 95%  Upper 95%\n",
       "───────────────────────────────────────────────────────────────────────\n",
       "(Intercept)  0.599082    0.417623  1.43    0.2469  -0.729981    1.92815\n",
       "X            0.865704    0.190756  4.54    0.0200   0.258635    1.47277\n",
       "───────────────────────────────────────────────────────────────────────"
      ]
     },
     "execution_count": 3,
     "metadata": {},
     "output_type": "execute_result"
    }
   ],
   "source": [
    "firms = zeros(6) # 6 age cohorts: entrants, 1-5, 6-10, 11-15, 16-20, 21-25\n",
    "emp = zeros(6)\n",
    "deaths = zeros(6)\n",
    "\n",
    "firms[1] = d.firms[1]*5\n",
    "emp[1] = d.emp[1]*5\n",
    "deaths[1] =0\n",
    "\n",
    "firms[2] = sum(d.firms[2:6])\n",
    "emp[2] = sum(d.emp[2:6])\n",
    "deaths[2] = sum(parse.(Int64, d.firmdeath_firms[2:6]))\n",
    "\n",
    "for i in 3:6\n",
    "    firms[i] = d.firms[4+i]\n",
    "    emp[i] = d.emp[4+i]\n",
    "    deaths[i] = parse(Int64, d.firmdeath_firms[4+i])\n",
    "end\n",
    "\n",
    "avg_emp = emp./(firms-deaths) # average employment for surviving firms\n",
    "lemp = log.(avg_emp)\n",
    "\n",
    "using GLM\n",
    "\n",
    "X = lemp[1:5]\n",
    "Y = lemp[2:6]\n",
    "\n",
    "# plot(X,Y)\n",
    "\n",
    "data = DataFrame(X=X,Y=Y)\n",
    "lm(@formula(Y ~ X), data)"
   ]
  },
  {
   "cell_type": "code",
   "execution_count": 4,
   "metadata": {},
   "outputs": [
    {
     "data": {
      "text/plain": [
       "0.08842190636328706"
      ]
     },
     "execution_count": 4,
     "metadata": {},
     "output_type": "execute_result"
    }
   ],
   "source": [
    "ρ = 0.866\n",
    "σ = γ*sqrt(var(lemp)*5/4*(1-ρ^2)) # = 0.06\n",
    "σ_0 = sqrt(σ^2/(1 - ρ^2)) # 0.12\n",
    "m = (0.6 - ρ *log(1+γ))*γ # assume p=1, m = 0.09\n",
    "\n",
    "# parameters left to calibrate: c_e, f, m_0"
   ]
  },
  {
   "cell_type": "code",
   "execution_count": 5,
   "metadata": {},
   "outputs": [],
   "source": [
    "# moments to match\n",
    "\n",
    "mom = zeros(5)\n",
    "for i in 1:5\n",
    "    mom[i] = (firms[i+1]-deaths[i+1])/firms[1]\n",
    "end\n",
    "\n",
    "# probability to survive till age 1, 2, 3: α_1,  α_3,  α_5"
   ]
  },
  {
   "cell_type": "code",
   "execution_count": 6,
   "metadata": {},
   "outputs": [
    {
     "data": {
      "text/plain": [
       "tauchen (generic function with 4 methods)"
      ]
     },
     "execution_count": 6,
     "metadata": {},
     "output_type": "execute_result"
    }
   ],
   "source": [
    "# Discretize AR(1) - Tauchen Method\n",
    "\n",
    "function tauchen(m, σ, ρ=0.866, n_std = 8, N = 120)\n",
    "    # Discretize space\n",
    "    m_s = m/(1-ρ)\n",
    "    σ_s = σ/sqrt(1-ρ^2)\n",
    "    s_min = m_s - n_std * σ_s/2\n",
    "    s_max = m_s + n_std * σ_s\n",
    "    log_s = range(s_min, s_max, length = N)\n",
    "    s = exp.(log_s)\n",
    "    d = log_s[2] - log_s[1]\n",
    "    d_half = d/2\n",
    "    \n",
    "    # Tranformation matrix\n",
    "    P = zeros(N,N)\n",
    "    for i in eachindex(log_s) \n",
    "        P[i,1] = cdf(Normal(0,1), (s_min + d_half -ρ*log_s[i]-m)/σ)\n",
    "        P[i,N] = 1 - cdf(Normal(0,1), (s_max - d_half -ρ*log_s[i]-m)/σ)\n",
    "        for j in 2:N-1\n",
    "            P[i,j] = cdf(Normal(0,1), (log_s[j] + d_half -ρ*log_s[i]-m)/σ) - cdf(Normal(0,1), (log_s[j]  - d_half -ρ*log_s[i]-m)/σ)\n",
    "        end    \n",
    "    end\n",
    "    return P,s\n",
    "end"
   ]
  },
  {
   "cell_type": "code",
   "execution_count": 7,
   "metadata": {},
   "outputs": [],
   "source": [
    "(P,s) = tauchen(m, σ);"
   ]
  },
  {
   "cell_type": "code",
   "execution_count": 8,
   "metadata": {},
   "outputs": [
    {
     "data": {
      "text/plain": [
       "findV (generic function with 5 methods)"
      ]
     },
     "execution_count": 8,
     "metadata": {},
     "output_type": "execute_result"
    }
   ],
   "source": [
    "# Find Value Function\n",
    "\n",
    "function findV(p, V0, P, s, f, γ=0.2, β=0.8, max_it = 1e4, tol=1e-8)\n",
    "    i = 1 \n",
    "    dist = 1e3\n",
    "    V = V0\n",
    "    N = length(s)\n",
    "    \n",
    "    # optimal q\n",
    "    q = (p*s).^(1/γ)\n",
    "    # profit function\n",
    "    profit = p*q - (q.^(1+γ))./((1+γ)*s)-f*ones(N)\n",
    "    \n",
    "    while (i < max_it) & (dist > tol)\n",
    "        V1 =  max.(0, profit + β * P'*V)\n",
    "        dist = norm(V1 - V)\n",
    "        V = V1\n",
    "        i += 1\n",
    "    end\n",
    "    \n",
    "    return V\n",
    "    \n",
    "end"
   ]
  },
  {
   "cell_type": "code",
   "execution_count": 9,
   "metadata": {},
   "outputs": [
    {
     "data": {
      "text/plain": [
       "fr_entry (generic function with 1 method)"
      ]
     },
     "execution_count": 9,
     "metadata": {},
     "output_type": "execute_result"
    }
   ],
   "source": [
    "function fr_entry(p, P, s, c_e, g, f)\n",
    "    V0 = zeros(N)\n",
    "    V = findV(p, V0, P, s, f)\n",
    "    return  β*g'*V - c_e\n",
    "end"
   ]
  },
  {
   "cell_type": "code",
   "execution_count": 10,
   "metadata": {},
   "outputs": [
    {
     "data": {
      "text/plain": [
       "eqm_price (generic function with 3 methods)"
      ]
     },
     "execution_count": 10,
     "metadata": {},
     "output_type": "execute_result"
    }
   ],
   "source": [
    "function eqm_price(P, s, c_e, g, f, max_it = 1e3, tol=1e-8)\n",
    "    p_max = 100\n",
    "    p_min = 0\n",
    "    v_e = 1e3\n",
    "    i = 0\n",
    "    \n",
    "    while (i < max_it) & (p_max - p_min > tol)\n",
    "        p = (p_max + p_min)/2\n",
    "        v_e = fr_entry(p, P, s, c_e, g, f)\n",
    "        if v_e > 0\n",
    "            p_max = p\n",
    "        else\n",
    "            p_min = p\n",
    "        end\n",
    "        i +=1\n",
    "    end\n",
    "    \n",
    "    return p_min\n",
    "end"
   ]
  },
  {
   "cell_type": "code",
   "execution_count": 11,
   "metadata": {},
   "outputs": [
    {
     "data": {
      "text/plain": [
       "exit_s (generic function with 1 method)"
      ]
     },
     "execution_count": 11,
     "metadata": {},
     "output_type": "execute_result"
    }
   ],
   "source": [
    "# Exit threshold\n",
    "\n",
    "function exit_s(p, s, P, f)\n",
    "    v = -1\n",
    "    # optimal q\n",
    "    q = (p*s).^(1/γ)\n",
    "    # profit function\n",
    "    profit = p*q - (q.^(1+γ))./((1+γ)*s)-f*ones(N)\n",
    "    \n",
    "    V0 = zeros(N)\n",
    "    V = profit + β*P'*findV(p, V0, P, s, f)\n",
    "    \n",
    "    return sum(V.<0)\n",
    "end"
   ]
  },
  {
   "cell_type": "code",
   "execution_count": 12,
   "metadata": {},
   "outputs": [
    {
     "data": {
      "text/plain": [
       "Moments (generic function with 1 method)"
      ]
     },
     "execution_count": 12,
     "metadata": {},
     "output_type": "execute_result"
    }
   ],
   "source": [
    "# moments \n",
    "\n",
    "N = length(s)\n",
    "\n",
    "function Moments(f, c_e, m_0)\n",
    "    \n",
    "    # Initial distribution\n",
    "    G = cdf(LogNormal(m_0,σ_0),s)\n",
    "    g = zeros(N)\n",
    "    g[1] = G[1]\n",
    "\n",
    "    for i in 2:N\n",
    "        g[i] = G[i] - G[i-1]\n",
    "    end\n",
    "    g=round.(g/sum(g),digits=4);\n",
    "\n",
    "    \n",
    "    price = eqm_price(P, s, c_e, g, f)\n",
    "    # Exit rule\n",
    "    k = exit_s(price,s, P, f)\n",
    "    s_star = s[k+1]\n",
    "    \n",
    "    P_tilde = zeros(N,N)\n",
    "    # g_tilde = zeros(N)\n",
    "    for i in k+1:N\n",
    "        P_tilde[i,:] = P[i,:]\n",
    "        # g_tilde[i] = g[i]\n",
    "    end\n",
    "    \n",
    "    # Invariant distribution\n",
    "    μ=inv(I-P_tilde')*g\n",
    "    \n",
    "    α = zeros(5)\n",
    "    MU = zeros(5,N)\n",
    "\n",
    "    for i in eachindex(α)\n",
    "        MU[i,:] = (P_tilde')^(i) * g\n",
    "        α[i] = sum(MU[i,:])/sum(g)\n",
    "    end\n",
    "\n",
    "    return α  \n",
    "end"
   ]
  },
  {
   "cell_type": "code",
   "execution_count": 13,
   "metadata": {},
   "outputs": [
    {
     "data": {
      "text/plain": [
       "0.1:0.1:1.5"
      ]
     },
     "execution_count": 13,
     "metadata": {},
     "output_type": "execute_result"
    }
   ],
   "source": [
    "c_e = 5:5:100\n",
    "f = 5:5:100\n",
    "m_0 = 0.1:0.1:1.5"
   ]
  },
  {
   "cell_type": "code",
   "execution_count": 14,
   "metadata": {},
   "outputs": [
    {
     "name": "stdout",
     "output_type": "stream",
     "text": [
      "0.05233569465286742i5j4k9f:25 c_e:20 m_0:0.9"
     ]
    }
   ],
   "source": [
    "i_star = 1\n",
    "j_star = 1\n",
    "k_star = 1\n",
    "di = 1e3\n",
    "\n",
    "for i in eachindex(f)\n",
    "    for j in eachindex(c_e)\n",
    "        for k in eachindex(m_0)\n",
    "            # print(\"i\", i,\"j\",j,\"k\",k)\n",
    "            di_new = norm(Moments(f[i], c_e[j], m_0[k]) - mom)\n",
    "            if di_new < di\n",
    "                di = di_new\n",
    "                i_star = i\n",
    "                j_star = j\n",
    "                k_star = k\n",
    "            end  \n",
    "        end\n",
    "    end\n",
    "end\n",
    "\n",
    "print(di)\n",
    "print(\"i\",i_star,\"j\", j_star,\"k\", k_star)\n",
    "print(\"f:\", f[i_star],\" c_e:\", c_e[j_star],\" m_0:\", m_0[k_star])"
   ]
  },
  {
   "cell_type": "code",
   "execution_count": 15,
   "metadata": {},
   "outputs": [
    {
     "data": {
      "text/plain": [
       "5-element Array{Float64,1}:\n",
       " 0.5711072985254567\n",
       " 0.38122507650932025\n",
       " 0.31800055643141983\n",
       " 0.2167022164518223\n",
       " 0.18196234814059167"
      ]
     },
     "execution_count": 15,
     "metadata": {},
     "output_type": "execute_result"
    }
   ],
   "source": [
    "# Survival rate in data\n",
    "mom"
   ]
  },
  {
   "cell_type": "code",
   "execution_count": 22,
   "metadata": {},
   "outputs": [
    {
     "data": {
      "text/plain": [
       "5-element Array{Float64,1}:\n",
       " 0.5724862431215624\n",
       " 0.42261920179885304\n",
       " 0.3063399829038334\n",
       " 0.2176539824942518\n",
       " 0.15218358046088845"
      ]
     },
     "execution_count": 22,
     "metadata": {},
     "output_type": "execute_result"
    }
   ],
   "source": [
    "# Survival rate in model\n",
    "α = Moments(f[i_star], c_e[j_star], m_0[k_star])"
   ]
  },
  {
   "cell_type": "code",
   "execution_count": 19,
   "metadata": {},
   "outputs": [
    {
     "data": {
      "text/plain": [
       "8.344987480293055"
      ]
     },
     "execution_count": 19,
     "metadata": {},
     "output_type": "execute_result"
    }
   ],
   "source": [
    "# Average firm age in data\n",
    "sum(mom)*5"
   ]
  },
  {
   "cell_type": "code",
   "execution_count": 18,
   "metadata": {},
   "outputs": [
    {
     "data": {
      "text/plain": [
       "8.356414953896946"
      ]
     },
     "execution_count": 18,
     "metadata": {},
     "output_type": "execute_result"
    }
   ],
   "source": [
    "# Average firm age in model\n",
    "sum(Moments(α))*5"
   ]
  },
  {
   "cell_type": "code",
   "execution_count": 20,
   "metadata": {},
   "outputs": [
    {
     "data": {
      "text/plain": [
       "0.599162073257468"
      ]
     },
     "execution_count": 20,
     "metadata": {},
     "output_type": "execute_result"
    }
   ],
   "source": [
    "# Turnover rate in data: Entry/All firms i.e. λ/μ(S)\n",
    "1/(sum(mom))"
   ]
  },
  {
   "cell_type": "code",
   "execution_count": 23,
   "metadata": {},
   "outputs": [
    {
     "data": {
      "text/plain": [
       "0.5983427136619504"
      ]
     },
     "execution_count": 23,
     "metadata": {},
     "output_type": "execute_result"
    }
   ],
   "source": [
    "# Turnover rate in model: Entry/All firms i.e. λ/μ(S)\n",
    "1/sum(α)"
   ]
  },
  {
   "cell_type": "code",
   "execution_count": 27,
   "metadata": {},
   "outputs": [],
   "source": [
    " # Initial distribution\n",
    "    G = cdf(LogNormal(m_0[k_star],σ_0),s)\n",
    "    g = zeros(N)\n",
    "    g[1] = G[1]\n",
    "\n",
    "    for i in 2:N\n",
    "        g[i] = G[i] - G[i-1]\n",
    "    end\n",
    "    g=round.(g/sum(g),digits=4);\n",
    "\n",
    "    \n",
    "    price = eqm_price(P, s, c_e[j_star], g, f[i_star])\n",
    "    # Exit rule\n",
    "    k = exit_s(price,s, P, f[i_star])\n",
    "    s_star = s[k+1]\n",
    "    \n",
    "    P_tilde = zeros(N,N)\n",
    "    # g_tilde = zeros(N)\n",
    "    for i in k+1:N\n",
    "        P_tilde[i,:] = P[i,:]\n",
    "        # g_tilde[i] = g[i]\n",
    "    end\n",
    "    \n",
    "    # Invariant distribution\n",
    "    μ=inv(I-P_tilde')*g\n",
    "bar_μ =  μ/sum(μ);\n",
    "\n"
   ]
  },
  {
   "cell_type": "code",
   "execution_count": 32,
   "metadata": {},
   "outputs": [
    {
     "data": {
      "image/svg+xml": [
       "<?xml version=\"1.0\" encoding=\"utf-8\"?>\n",
       "<svg xmlns=\"http://www.w3.org/2000/svg\" xmlns:xlink=\"http://www.w3.org/1999/xlink\" width=\"600\" height=\"400\" viewBox=\"0 0 2400 1600\">\n",
       "<defs>\n",
       "  <clipPath id=\"clip830\">\n",
       "    <rect x=\"0\" y=\"0\" width=\"2400\" height=\"1600\"/>\n",
       "  </clipPath>\n",
       "</defs>\n",
       "<path clip-path=\"url(#clip830)\" d=\"\n",
       "M0 1600 L2400 1600 L2400 0 L0 0  Z\n",
       "  \" fill=\"#ffffff\" fill-rule=\"evenodd\" fill-opacity=\"1\"/>\n",
       "<defs>\n",
       "  <clipPath id=\"clip831\">\n",
       "    <rect x=\"480\" y=\"0\" width=\"1681\" height=\"1600\"/>\n",
       "  </clipPath>\n",
       "</defs>\n",
       "<path clip-path=\"url(#clip830)\" d=\"\n",
       "M238.616 1423.18 L2352.76 1423.18 L2352.76 47.2441 L238.616 47.2441  Z\n",
       "  \" fill=\"#ffffff\" fill-rule=\"evenodd\" fill-opacity=\"1\"/>\n",
       "<defs>\n",
       "  <clipPath id=\"clip832\">\n",
       "    <rect x=\"238\" y=\"47\" width=\"2115\" height=\"1377\"/>\n",
       "  </clipPath>\n",
       "</defs>\n",
       "<polyline clip-path=\"url(#clip832)\" style=\"stroke:#000000; stroke-width:2; stroke-opacity:0.1; fill:none\" points=\"\n",
       "  514.421,1423.18 514.421,47.2441 \n",
       "  \"/>\n",
       "<polyline clip-path=\"url(#clip832)\" style=\"stroke:#000000; stroke-width:2; stroke-opacity:0.1; fill:none\" points=\"\n",
       "  881.21,1423.18 881.21,47.2441 \n",
       "  \"/>\n",
       "<polyline clip-path=\"url(#clip832)\" style=\"stroke:#000000; stroke-width:2; stroke-opacity:0.1; fill:none\" points=\"\n",
       "  1248,1423.18 1248,47.2441 \n",
       "  \"/>\n",
       "<polyline clip-path=\"url(#clip832)\" style=\"stroke:#000000; stroke-width:2; stroke-opacity:0.1; fill:none\" points=\"\n",
       "  1614.79,1423.18 1614.79,47.2441 \n",
       "  \"/>\n",
       "<polyline clip-path=\"url(#clip832)\" style=\"stroke:#000000; stroke-width:2; stroke-opacity:0.1; fill:none\" points=\"\n",
       "  1981.58,1423.18 1981.58,47.2441 \n",
       "  \"/>\n",
       "<polyline clip-path=\"url(#clip832)\" style=\"stroke:#000000; stroke-width:2; stroke-opacity:0.1; fill:none\" points=\"\n",
       "  2348.36,1423.18 2348.36,47.2441 \n",
       "  \"/>\n",
       "<polyline clip-path=\"url(#clip830)\" style=\"stroke:#000000; stroke-width:4; stroke-opacity:1; fill:none\" points=\"\n",
       "  238.616,1423.18 2352.76,1423.18 \n",
       "  \"/>\n",
       "<polyline clip-path=\"url(#clip830)\" style=\"stroke:#000000; stroke-width:4; stroke-opacity:1; fill:none\" points=\"\n",
       "  514.421,1423.18 514.421,1406.67 \n",
       "  \"/>\n",
       "<polyline clip-path=\"url(#clip830)\" style=\"stroke:#000000; stroke-width:4; stroke-opacity:1; fill:none\" points=\"\n",
       "  881.21,1423.18 881.21,1406.67 \n",
       "  \"/>\n",
       "<polyline clip-path=\"url(#clip830)\" style=\"stroke:#000000; stroke-width:4; stroke-opacity:1; fill:none\" points=\"\n",
       "  1248,1423.18 1248,1406.67 \n",
       "  \"/>\n",
       "<polyline clip-path=\"url(#clip830)\" style=\"stroke:#000000; stroke-width:4; stroke-opacity:1; fill:none\" points=\"\n",
       "  1614.79,1423.18 1614.79,1406.67 \n",
       "  \"/>\n",
       "<polyline clip-path=\"url(#clip830)\" style=\"stroke:#000000; stroke-width:4; stroke-opacity:1; fill:none\" points=\"\n",
       "  1981.58,1423.18 1981.58,1406.67 \n",
       "  \"/>\n",
       "<polyline clip-path=\"url(#clip830)\" style=\"stroke:#000000; stroke-width:4; stroke-opacity:1; fill:none\" points=\"\n",
       "  2348.36,1423.18 2348.36,1406.67 \n",
       "  \"/>\n",
       "<path clip-path=\"url(#clip830)\" d=\"M 0 0 M486.817 1479.92 L494.456 1479.92 L494.456 1453.55 L486.146 1455.22 L486.146 1450.96 L494.41 1449.29 L499.086 1449.29 L499.086 1479.92 L506.724 1479.92 L506.724 1483.85 L486.817 1483.85 L486.817 1479.92 Z\" fill=\"#000000\" fill-rule=\"evenodd\" fill-opacity=\"1\" /><path clip-path=\"url(#clip830)\" d=\"M 0 0 M511.794 1477.97 L516.678 1477.97 L516.678 1483.85 L511.794 1483.85 L511.794 1477.97 Z\" fill=\"#000000\" fill-rule=\"evenodd\" fill-opacity=\"1\" /><path clip-path=\"url(#clip830)\" d=\"M 0 0 M521.794 1449.29 L540.15 1449.29 L540.15 1453.23 L526.076 1453.23 L526.076 1461.7 Q527.095 1461.35 528.113 1461.19 Q529.132 1461 530.15 1461 Q535.937 1461 539.317 1464.18 Q542.696 1467.35 542.696 1472.76 Q542.696 1478.34 539.224 1481.44 Q535.752 1484.52 529.433 1484.52 Q527.257 1484.52 524.988 1484.15 Q522.743 1483.78 520.335 1483.04 L520.335 1478.34 Q522.419 1479.48 524.641 1480.03 Q526.863 1480.59 529.34 1480.59 Q533.345 1480.59 535.683 1478.48 Q538.021 1476.38 538.021 1472.76 Q538.021 1469.15 535.683 1467.05 Q533.345 1464.94 529.34 1464.94 Q527.465 1464.94 525.59 1465.36 Q523.738 1465.77 521.794 1466.65 L521.794 1449.29 Z\" fill=\"#000000\" fill-rule=\"evenodd\" fill-opacity=\"1\" /><path clip-path=\"url(#clip830)\" d=\"M 0 0 M857.379 1479.92 L873.698 1479.92 L873.698 1483.85 L851.754 1483.85 L851.754 1479.92 Q854.416 1477.16 858.999 1472.53 Q863.606 1467.88 864.786 1466.54 Q867.032 1464.01 867.911 1462.28 Q868.814 1460.52 868.814 1458.83 Q868.814 1456.07 866.87 1454.34 Q864.948 1452.6 861.846 1452.6 Q859.647 1452.6 857.194 1453.37 Q854.763 1454.13 851.985 1455.68 L851.985 1450.96 Q854.809 1449.82 857.263 1449.25 Q859.717 1448.67 861.754 1448.67 Q867.124 1448.67 870.319 1451.35 Q873.513 1454.04 873.513 1458.53 Q873.513 1460.66 872.703 1462.58 Q871.916 1464.48 869.809 1467.07 Q869.231 1467.74 866.129 1470.96 Q863.027 1474.15 857.379 1479.92 Z\" fill=\"#000000\" fill-rule=\"evenodd\" fill-opacity=\"1\" /><path clip-path=\"url(#clip830)\" d=\"M 0 0 M878.768 1477.97 L883.652 1477.97 L883.652 1483.85 L878.768 1483.85 L878.768 1477.97 Z\" fill=\"#000000\" fill-rule=\"evenodd\" fill-opacity=\"1\" /><path clip-path=\"url(#clip830)\" d=\"M 0 0 M898.721 1452.37 Q895.11 1452.37 893.281 1455.94 Q891.476 1459.48 891.476 1466.61 Q891.476 1473.71 893.281 1477.28 Q895.11 1480.82 898.721 1480.82 Q902.355 1480.82 904.161 1477.28 Q905.99 1473.71 905.99 1466.61 Q905.99 1459.48 904.161 1455.94 Q902.355 1452.37 898.721 1452.37 M898.721 1448.67 Q904.531 1448.67 907.587 1453.27 Q910.666 1457.86 910.666 1466.61 Q910.666 1475.33 907.587 1479.94 Q904.531 1484.52 898.721 1484.52 Q892.911 1484.52 889.832 1479.94 Q886.777 1475.33 886.777 1466.61 Q886.777 1457.86 889.832 1453.27 Q892.911 1448.67 898.721 1448.67 Z\" fill=\"#000000\" fill-rule=\"evenodd\" fill-opacity=\"1\" /><path clip-path=\"url(#clip830)\" d=\"M 0 0 M1224.67 1479.92 L1240.98 1479.92 L1240.98 1483.85 L1219.04 1483.85 L1219.04 1479.92 Q1221.7 1477.16 1226.29 1472.53 Q1230.89 1467.88 1232.07 1466.54 Q1234.32 1464.01 1235.2 1462.28 Q1236.1 1460.52 1236.1 1458.83 Q1236.1 1456.07 1234.16 1454.34 Q1232.23 1452.6 1229.13 1452.6 Q1226.93 1452.6 1224.48 1453.37 Q1222.05 1454.13 1219.27 1455.68 L1219.27 1450.96 Q1222.1 1449.82 1224.55 1449.25 Q1227 1448.67 1229.04 1448.67 Q1234.41 1448.67 1237.6 1451.35 Q1240.8 1454.04 1240.8 1458.53 Q1240.8 1460.66 1239.99 1462.58 Q1239.2 1464.48 1237.1 1467.07 Q1236.52 1467.74 1233.42 1470.96 Q1230.31 1474.15 1224.67 1479.92 Z\" fill=\"#000000\" fill-rule=\"evenodd\" fill-opacity=\"1\" /><path clip-path=\"url(#clip830)\" d=\"M 0 0 M1246.05 1477.97 L1250.94 1477.97 L1250.94 1483.85 L1246.05 1483.85 L1246.05 1477.97 Z\" fill=\"#000000\" fill-rule=\"evenodd\" fill-opacity=\"1\" /><path clip-path=\"url(#clip830)\" d=\"M 0 0 M1256.05 1449.29 L1274.41 1449.29 L1274.41 1453.23 L1260.34 1453.23 L1260.34 1461.7 Q1261.35 1461.35 1262.37 1461.19 Q1263.39 1461 1264.41 1461 Q1270.2 1461 1273.58 1464.18 Q1276.96 1467.35 1276.96 1472.76 Q1276.96 1478.34 1273.48 1481.44 Q1270.01 1484.52 1263.69 1484.52 Q1261.52 1484.52 1259.25 1484.15 Q1257 1483.78 1254.6 1483.04 L1254.6 1478.34 Q1256.68 1479.48 1258.9 1480.03 Q1261.12 1480.59 1263.6 1480.59 Q1267.6 1480.59 1269.94 1478.48 Q1272.28 1476.38 1272.28 1472.76 Q1272.28 1469.15 1269.94 1467.05 Q1267.6 1464.94 1263.6 1464.94 Q1261.73 1464.94 1259.85 1465.36 Q1258 1465.77 1256.05 1466.65 L1256.05 1449.29 Z\" fill=\"#000000\" fill-rule=\"evenodd\" fill-opacity=\"1\" /><path clip-path=\"url(#clip830)\" d=\"M 0 0 M1600.55 1465.22 Q1603.91 1465.94 1605.78 1468.2 Q1607.68 1470.47 1607.68 1473.81 Q1607.68 1478.92 1604.16 1481.72 Q1600.64 1484.52 1594.16 1484.52 Q1591.99 1484.52 1589.67 1484.08 Q1587.38 1483.67 1584.93 1482.81 L1584.93 1478.3 Q1586.87 1479.43 1589.19 1480.01 Q1591.5 1480.59 1594.02 1480.59 Q1598.42 1480.59 1600.71 1478.85 Q1603.03 1477.12 1603.03 1473.81 Q1603.03 1470.75 1600.87 1469.04 Q1598.75 1467.3 1594.93 1467.3 L1590.9 1467.3 L1590.9 1463.46 L1595.11 1463.46 Q1598.56 1463.46 1600.39 1462.09 Q1602.22 1460.7 1602.22 1458.11 Q1602.22 1455.45 1600.32 1454.04 Q1598.44 1452.6 1594.93 1452.6 Q1593 1452.6 1590.81 1453.02 Q1588.61 1453.44 1585.97 1454.31 L1585.97 1450.15 Q1588.63 1449.41 1590.94 1449.04 Q1593.28 1448.67 1595.34 1448.67 Q1600.67 1448.67 1603.77 1451.1 Q1606.87 1453.5 1606.87 1457.63 Q1606.87 1460.5 1605.23 1462.49 Q1603.58 1464.45 1600.55 1465.22 Z\" fill=\"#000000\" fill-rule=\"evenodd\" fill-opacity=\"1\" /><path clip-path=\"url(#clip830)\" d=\"M 0 0 M1612.75 1477.97 L1617.63 1477.97 L1617.63 1483.85 L1612.75 1483.85 L1612.75 1477.97 Z\" fill=\"#000000\" fill-rule=\"evenodd\" fill-opacity=\"1\" /><path clip-path=\"url(#clip830)\" d=\"M 0 0 M1632.7 1452.37 Q1629.09 1452.37 1627.26 1455.94 Q1625.46 1459.48 1625.46 1466.61 Q1625.46 1473.71 1627.26 1477.28 Q1629.09 1480.82 1632.7 1480.82 Q1636.34 1480.82 1638.14 1477.28 Q1639.97 1473.71 1639.97 1466.61 Q1639.97 1459.48 1638.14 1455.94 Q1636.34 1452.37 1632.7 1452.37 M1632.7 1448.67 Q1638.51 1448.67 1641.57 1453.27 Q1644.65 1457.86 1644.65 1466.61 Q1644.65 1475.33 1641.57 1479.94 Q1638.51 1484.52 1632.7 1484.52 Q1626.89 1484.52 1623.81 1479.94 Q1620.76 1475.33 1620.76 1466.61 Q1620.76 1457.86 1623.81 1453.27 Q1626.89 1448.67 1632.7 1448.67 Z\" fill=\"#000000\" fill-rule=\"evenodd\" fill-opacity=\"1\" /><path clip-path=\"url(#clip830)\" d=\"M 0 0 M1967.84 1465.22 Q1971.19 1465.94 1973.07 1468.2 Q1974.97 1470.47 1974.97 1473.81 Q1974.97 1478.92 1971.45 1481.72 Q1967.93 1484.52 1961.45 1484.52 Q1959.27 1484.52 1956.96 1484.08 Q1954.67 1483.67 1952.21 1482.81 L1952.21 1478.3 Q1954.16 1479.43 1956.47 1480.01 Q1958.79 1480.59 1961.31 1480.59 Q1965.71 1480.59 1968 1478.85 Q1970.31 1477.12 1970.31 1473.81 Q1970.31 1470.75 1968.16 1469.04 Q1966.03 1467.3 1962.21 1467.3 L1958.18 1467.3 L1958.18 1463.46 L1962.4 1463.46 Q1965.85 1463.46 1967.68 1462.09 Q1969.5 1460.7 1969.5 1458.11 Q1969.5 1455.45 1967.61 1454.04 Q1965.73 1452.6 1962.21 1452.6 Q1960.29 1452.6 1958.09 1453.02 Q1955.89 1453.44 1953.25 1454.31 L1953.25 1450.15 Q1955.92 1449.41 1958.23 1449.04 Q1960.57 1448.67 1962.63 1448.67 Q1967.95 1448.67 1971.05 1451.1 Q1974.16 1453.5 1974.16 1457.63 Q1974.16 1460.5 1972.51 1462.49 Q1970.87 1464.45 1967.84 1465.22 Z\" fill=\"#000000\" fill-rule=\"evenodd\" fill-opacity=\"1\" /><path clip-path=\"url(#clip830)\" d=\"M 0 0 M1980.04 1477.97 L1984.92 1477.97 L1984.92 1483.85 L1980.04 1483.85 L1980.04 1477.97 Z\" fill=\"#000000\" fill-rule=\"evenodd\" fill-opacity=\"1\" /><path clip-path=\"url(#clip830)\" d=\"M 0 0 M1990.04 1449.29 L2008.39 1449.29 L2008.39 1453.23 L1994.32 1453.23 L1994.32 1461.7 Q1995.34 1461.35 1996.36 1461.19 Q1997.37 1461 1998.39 1461 Q2004.18 1461 2007.56 1464.18 Q2010.94 1467.35 2010.94 1472.76 Q2010.94 1478.34 2007.47 1481.44 Q2003.99 1484.52 1997.67 1484.52 Q1995.5 1484.52 1993.23 1484.15 Q1990.99 1483.78 1988.58 1483.04 L1988.58 1478.34 Q1990.66 1479.48 1992.88 1480.03 Q1995.11 1480.59 1997.58 1480.59 Q2001.59 1480.59 2003.92 1478.48 Q2006.26 1476.38 2006.26 1472.76 Q2006.26 1469.15 2003.92 1467.05 Q2001.59 1464.94 1997.58 1464.94 Q1995.71 1464.94 1993.83 1465.36 Q1991.98 1465.77 1990.04 1466.65 L1990.04 1449.29 Z\" fill=\"#000000\" fill-rule=\"evenodd\" fill-opacity=\"1\" /><path clip-path=\"url(#clip830)\" d=\"M 0 0 M2332.89 1453.37 L2321.08 1471.81 L2332.89 1471.81 L2332.89 1453.37 M2331.66 1449.29 L2337.54 1449.29 L2337.54 1471.81 L2342.47 1471.81 L2342.47 1475.7 L2337.54 1475.7 L2337.54 1483.85 L2332.89 1483.85 L2332.89 1475.7 L2317.29 1475.7 L2317.29 1471.19 L2331.66 1449.29 Z\" fill=\"#000000\" fill-rule=\"evenodd\" fill-opacity=\"1\" /><path clip-path=\"url(#clip830)\" d=\"M 0 0 M2347.54 1477.97 L2352.43 1477.97 L2352.43 1483.85 L2347.54 1483.85 L2347.54 1477.97 Z\" fill=\"#000000\" fill-rule=\"evenodd\" fill-opacity=\"1\" /><path clip-path=\"url(#clip830)\" d=\"M 0 0 M2367.5 1452.37 Q2363.88 1452.37 2362.06 1455.94 Q2360.25 1459.48 2360.25 1466.61 Q2360.25 1473.71 2362.06 1477.28 Q2363.88 1480.82 2367.5 1480.82 Q2371.13 1480.82 2372.94 1477.28 Q2374.76 1473.71 2374.76 1466.61 Q2374.76 1459.48 2372.94 1455.94 Q2371.13 1452.37 2367.5 1452.37 M2367.5 1448.67 Q2373.31 1448.67 2376.36 1453.27 Q2379.44 1457.86 2379.44 1466.61 Q2379.44 1475.33 2376.36 1479.94 Q2373.31 1484.52 2367.5 1484.52 Q2361.69 1484.52 2358.61 1479.94 Q2355.55 1475.33 2355.55 1466.61 Q2355.55 1457.86 2358.61 1453.27 Q2361.69 1448.67 2367.5 1448.67 Z\" fill=\"#000000\" fill-rule=\"evenodd\" fill-opacity=\"1\" /><path clip-path=\"url(#clip830)\" d=\"M 0 0 M1132.55 1525.81 L1132.55 1543.66 L1140.63 1543.66 Q1145.12 1543.66 1147.57 1541.34 Q1150.02 1539.02 1150.02 1534.72 Q1150.02 1530.45 1147.57 1528.13 Q1145.12 1525.81 1140.63 1525.81 L1132.55 1525.81 M1126.12 1520.52 L1140.63 1520.52 Q1148.62 1520.52 1152.7 1524.15 Q1156.8 1527.75 1156.8 1534.72 Q1156.8 1541.75 1152.7 1545.35 Q1148.62 1548.95 1140.63 1548.95 L1132.55 1548.95 L1132.55 1568.04 L1126.12 1568.04 L1126.12 1520.52 Z\" fill=\"#000000\" fill-rule=\"evenodd\" fill-opacity=\"1\" /><path clip-path=\"url(#clip830)\" d=\"M 0 0 M1182.46 1537.87 Q1181.47 1537.3 1180.29 1537.04 Q1179.15 1536.76 1177.75 1536.76 Q1172.78 1536.76 1170.11 1540 Q1167.46 1543.22 1167.46 1549.27 L1167.46 1568.04 L1161.58 1568.04 L1161.58 1532.4 L1167.46 1532.4 L1167.46 1537.93 Q1169.31 1534.69 1172.27 1533.13 Q1175.23 1531.54 1179.46 1531.54 Q1180.07 1531.54 1180.8 1531.63 Q1181.53 1531.7 1182.42 1531.85 L1182.46 1537.87 Z\" fill=\"#000000\" fill-rule=\"evenodd\" fill-opacity=\"1\" /><path clip-path=\"url(#clip830)\" d=\"M 0 0 M1200.98 1536.5 Q1196.27 1536.5 1193.53 1540.19 Q1190.8 1543.85 1190.8 1550.25 Q1190.8 1556.65 1193.5 1560.34 Q1196.24 1564 1200.98 1564 Q1205.66 1564 1208.4 1560.31 Q1211.13 1556.62 1211.13 1550.25 Q1211.13 1543.92 1208.4 1540.23 Q1205.66 1536.5 1200.98 1536.5 M1200.98 1531.54 Q1208.62 1531.54 1212.98 1536.5 Q1217.34 1541.47 1217.34 1550.25 Q1217.34 1559 1212.98 1564 Q1208.62 1568.97 1200.98 1568.97 Q1193.31 1568.97 1188.95 1564 Q1184.62 1559 1184.62 1550.25 Q1184.62 1541.47 1188.95 1536.5 Q1193.31 1531.54 1200.98 1531.54 Z\" fill=\"#000000\" fill-rule=\"evenodd\" fill-opacity=\"1\" /><path clip-path=\"url(#clip830)\" d=\"M 0 0 M1246.94 1537.81 L1246.94 1518.52 L1252.8 1518.52 L1252.8 1568.04 L1246.94 1568.04 L1246.94 1562.7 Q1245.09 1565.88 1242.26 1567.44 Q1239.46 1568.97 1235.51 1568.97 Q1229.05 1568.97 1224.98 1563.81 Q1220.94 1558.65 1220.94 1550.25 Q1220.94 1541.85 1224.98 1536.69 Q1229.05 1531.54 1235.51 1531.54 Q1239.46 1531.54 1242.26 1533.1 Q1245.09 1534.62 1246.94 1537.81 M1226.98 1550.25 Q1226.98 1556.71 1229.63 1560.4 Q1232.3 1564.07 1236.95 1564.07 Q1241.59 1564.07 1244.27 1560.4 Q1246.94 1556.71 1246.94 1550.25 Q1246.94 1543.79 1244.27 1540.13 Q1241.59 1536.44 1236.95 1536.44 Q1232.3 1536.44 1229.63 1540.13 Q1226.98 1543.79 1226.98 1550.25 Z\" fill=\"#000000\" fill-rule=\"evenodd\" fill-opacity=\"1\" /><path clip-path=\"url(#clip830)\" d=\"M 0 0 M1258.34 1553.98 L1258.34 1532.4 L1264.19 1532.4 L1264.19 1553.75 Q1264.19 1558.81 1266.17 1561.36 Q1268.14 1563.87 1272.09 1563.87 Q1276.83 1563.87 1279.56 1560.85 Q1282.33 1557.83 1282.33 1552.61 L1282.33 1532.4 L1288.19 1532.4 L1288.19 1568.04 L1282.33 1568.04 L1282.33 1562.57 Q1280.2 1565.82 1277.37 1567.41 Q1274.57 1568.97 1270.84 1568.97 Q1264.7 1568.97 1261.52 1565.15 Q1258.34 1561.33 1258.34 1553.98 M1273.07 1531.54 L1273.07 1531.54 Z\" fill=\"#000000\" fill-rule=\"evenodd\" fill-opacity=\"1\" /><path clip-path=\"url(#clip830)\" d=\"M 0 0 M1319.99 1533.76 L1319.99 1539.24 Q1317.5 1537.87 1314.99 1537.2 Q1312.51 1536.5 1309.96 1536.5 Q1304.26 1536.5 1301.11 1540.13 Q1297.96 1543.73 1297.96 1550.25 Q1297.96 1556.78 1301.11 1560.4 Q1304.26 1564 1309.96 1564 Q1312.51 1564 1314.99 1563.33 Q1317.5 1562.63 1319.99 1561.26 L1319.99 1566.68 Q1317.54 1567.82 1314.89 1568.39 Q1312.28 1568.97 1309.32 1568.97 Q1301.27 1568.97 1296.53 1563.91 Q1291.79 1558.85 1291.79 1550.25 Q1291.79 1541.53 1296.56 1536.53 Q1301.37 1531.54 1309.71 1531.54 Q1312.41 1531.54 1314.99 1532.11 Q1317.57 1532.65 1319.99 1533.76 Z\" fill=\"#000000\" fill-rule=\"evenodd\" fill-opacity=\"1\" /><path clip-path=\"url(#clip830)\" d=\"M 0 0 M1331.92 1522.27 L1331.92 1532.4 L1343.99 1532.4 L1343.99 1536.95 L1331.92 1536.95 L1331.92 1556.3 Q1331.92 1560.66 1333.1 1561.9 Q1334.31 1563.14 1337.97 1563.14 L1343.99 1563.14 L1343.99 1568.04 L1337.97 1568.04 Q1331.19 1568.04 1328.61 1565.53 Q1326.03 1562.98 1326.03 1556.3 L1326.03 1536.95 L1321.74 1536.95 L1321.74 1532.4 L1326.03 1532.4 L1326.03 1522.27 L1331.92 1522.27 Z\" fill=\"#000000\" fill-rule=\"evenodd\" fill-opacity=\"1\" /><path clip-path=\"url(#clip830)\" d=\"M 0 0 M1350.13 1532.4 L1355.99 1532.4 L1355.99 1568.04 L1350.13 1568.04 L1350.13 1532.4 M1350.13 1518.52 L1355.99 1518.52 L1355.99 1525.93 L1350.13 1525.93 L1350.13 1518.52 Z\" fill=\"#000000\" fill-rule=\"evenodd\" fill-opacity=\"1\" /><path clip-path=\"url(#clip830)\" d=\"M 0 0 M1357.93 1532.4 L1364.13 1532.4 L1375.27 1562.31 L1386.41 1532.4 L1392.62 1532.4 L1379.25 1568.04 L1371.29 1568.04 L1357.93 1532.4 Z\" fill=\"#000000\" fill-rule=\"evenodd\" fill-opacity=\"1\" /><path clip-path=\"url(#clip830)\" d=\"M 0 0 M1398.76 1532.4 L1404.62 1532.4 L1404.62 1568.04 L1398.76 1568.04 L1398.76 1532.4 M1398.76 1518.52 L1404.62 1518.52 L1404.62 1525.93 L1398.76 1525.93 L1398.76 1518.52 Z\" fill=\"#000000\" fill-rule=\"evenodd\" fill-opacity=\"1\" /><path clip-path=\"url(#clip830)\" d=\"M 0 0 M1416.55 1522.27 L1416.55 1532.4 L1428.62 1532.4 L1428.62 1536.95 L1416.55 1536.95 L1416.55 1556.3 Q1416.55 1560.66 1417.73 1561.9 Q1418.94 1563.14 1422.6 1563.14 L1428.62 1563.14 L1428.62 1568.04 L1422.6 1568.04 Q1415.82 1568.04 1413.24 1565.53 Q1410.67 1562.98 1410.67 1556.3 L1410.67 1536.95 L1406.37 1536.95 L1406.37 1532.4 L1410.67 1532.4 L1410.67 1522.27 L1416.55 1522.27 Z\" fill=\"#000000\" fill-rule=\"evenodd\" fill-opacity=\"1\" /><path clip-path=\"url(#clip830)\" d=\"M 0 0 M1449.59 1571.35 Q1447.11 1577.72 1444.75 1579.66 Q1442.4 1581.6 1438.45 1581.6 L1433.77 1581.6 L1433.77 1576.7 L1437.21 1576.7 Q1439.63 1576.7 1440.97 1575.56 Q1442.3 1574.41 1443.93 1570.14 L1444.98 1567.47 L1430.56 1532.4 L1436.77 1532.4 L1447.91 1560.28 L1459.05 1532.4 L1465.25 1532.4 L1449.59 1571.35 Z\" fill=\"#000000\" fill-rule=\"evenodd\" fill-opacity=\"1\" /><polyline clip-path=\"url(#clip832)\" style=\"stroke:#000000; stroke-width:2; stroke-opacity:0.1; fill:none\" points=\"\n",
       "  238.616,1384.24 2352.76,1384.24 \n",
       "  \"/>\n",
       "<polyline clip-path=\"url(#clip832)\" style=\"stroke:#000000; stroke-width:2; stroke-opacity:0.1; fill:none\" points=\"\n",
       "  238.616,1136.66 2352.76,1136.66 \n",
       "  \"/>\n",
       "<polyline clip-path=\"url(#clip832)\" style=\"stroke:#000000; stroke-width:2; stroke-opacity:0.1; fill:none\" points=\"\n",
       "  238.616,889.091 2352.76,889.091 \n",
       "  \"/>\n",
       "<polyline clip-path=\"url(#clip832)\" style=\"stroke:#000000; stroke-width:2; stroke-opacity:0.1; fill:none\" points=\"\n",
       "  238.616,641.517 2352.76,641.517 \n",
       "  \"/>\n",
       "<polyline clip-path=\"url(#clip832)\" style=\"stroke:#000000; stroke-width:2; stroke-opacity:0.1; fill:none\" points=\"\n",
       "  238.616,393.943 2352.76,393.943 \n",
       "  \"/>\n",
       "<polyline clip-path=\"url(#clip832)\" style=\"stroke:#000000; stroke-width:2; stroke-opacity:0.1; fill:none\" points=\"\n",
       "  238.616,146.369 2352.76,146.369 \n",
       "  \"/>\n",
       "<polyline clip-path=\"url(#clip830)\" style=\"stroke:#000000; stroke-width:4; stroke-opacity:1; fill:none\" points=\"\n",
       "  238.616,1423.18 238.616,47.2441 \n",
       "  \"/>\n",
       "<polyline clip-path=\"url(#clip830)\" style=\"stroke:#000000; stroke-width:4; stroke-opacity:1; fill:none\" points=\"\n",
       "  238.616,1384.24 263.986,1384.24 \n",
       "  \"/>\n",
       "<polyline clip-path=\"url(#clip830)\" style=\"stroke:#000000; stroke-width:4; stroke-opacity:1; fill:none\" points=\"\n",
       "  238.616,1136.66 263.986,1136.66 \n",
       "  \"/>\n",
       "<polyline clip-path=\"url(#clip830)\" style=\"stroke:#000000; stroke-width:4; stroke-opacity:1; fill:none\" points=\"\n",
       "  238.616,889.091 263.986,889.091 \n",
       "  \"/>\n",
       "<polyline clip-path=\"url(#clip830)\" style=\"stroke:#000000; stroke-width:4; stroke-opacity:1; fill:none\" points=\"\n",
       "  238.616,641.517 263.986,641.517 \n",
       "  \"/>\n",
       "<polyline clip-path=\"url(#clip830)\" style=\"stroke:#000000; stroke-width:4; stroke-opacity:1; fill:none\" points=\"\n",
       "  238.616,393.943 263.986,393.943 \n",
       "  \"/>\n",
       "<polyline clip-path=\"url(#clip830)\" style=\"stroke:#000000; stroke-width:4; stroke-opacity:1; fill:none\" points=\"\n",
       "  238.616,146.369 263.986,146.369 \n",
       "  \"/>\n",
       "<path clip-path=\"url(#clip830)\" d=\"M 0 0 M126.691 1370.04 Q123.08 1370.04 121.251 1373.6 Q119.445 1377.14 119.445 1384.27 Q119.445 1391.38 121.251 1394.94 Q123.08 1398.49 126.691 1398.49 Q130.325 1398.49 132.13 1394.94 Q133.959 1391.38 133.959 1384.27 Q133.959 1377.14 132.13 1373.6 Q130.325 1370.04 126.691 1370.04 M126.691 1366.33 Q132.501 1366.33 135.556 1370.94 Q138.635 1375.52 138.635 1384.27 Q138.635 1393 135.556 1397.61 Q132.501 1402.19 126.691 1402.19 Q120.88 1402.19 117.802 1397.61 Q114.746 1393 114.746 1384.27 Q114.746 1375.52 117.802 1370.94 Q120.88 1366.33 126.691 1366.33 Z\" fill=\"#000000\" fill-rule=\"evenodd\" fill-opacity=\"1\" /><path clip-path=\"url(#clip830)\" d=\"M 0 0 M143.704 1395.64 L148.589 1395.64 L148.589 1401.52 L143.704 1401.52 L143.704 1395.64 Z\" fill=\"#000000\" fill-rule=\"evenodd\" fill-opacity=\"1\" /><path clip-path=\"url(#clip830)\" d=\"M 0 0 M163.658 1370.04 Q160.047 1370.04 158.218 1373.6 Q156.413 1377.14 156.413 1384.27 Q156.413 1391.38 158.218 1394.94 Q160.047 1398.49 163.658 1398.49 Q167.292 1398.49 169.098 1394.94 Q170.927 1391.38 170.927 1384.27 Q170.927 1377.14 169.098 1373.6 Q167.292 1370.04 163.658 1370.04 M163.658 1366.33 Q169.468 1366.33 172.524 1370.94 Q175.602 1375.52 175.602 1384.27 Q175.602 1393 172.524 1397.61 Q169.468 1402.19 163.658 1402.19 Q157.848 1402.19 154.769 1397.61 Q151.714 1393 151.714 1384.27 Q151.714 1375.52 154.769 1370.94 Q157.848 1366.33 163.658 1366.33 Z\" fill=\"#000000\" fill-rule=\"evenodd\" fill-opacity=\"1\" /><path clip-path=\"url(#clip830)\" d=\"M 0 0 M190.672 1370.04 Q187.061 1370.04 185.232 1373.6 Q183.426 1377.14 183.426 1384.27 Q183.426 1391.38 185.232 1394.94 Q187.061 1398.49 190.672 1398.49 Q194.306 1398.49 196.112 1394.94 Q197.94 1391.38 197.94 1384.27 Q197.94 1377.14 196.112 1373.6 Q194.306 1370.04 190.672 1370.04 M190.672 1366.33 Q196.482 1366.33 199.537 1370.94 Q202.616 1375.52 202.616 1384.27 Q202.616 1393 199.537 1397.61 Q196.482 1402.19 190.672 1402.19 Q184.862 1402.19 181.783 1397.61 Q178.727 1393 178.727 1384.27 Q178.727 1375.52 181.783 1370.94 Q184.862 1366.33 190.672 1366.33 Z\" fill=\"#000000\" fill-rule=\"evenodd\" fill-opacity=\"1\" /><path clip-path=\"url(#clip830)\" d=\"M 0 0 M127.917 1122.46 Q124.306 1122.46 122.478 1126.03 Q120.672 1129.57 120.672 1136.7 Q120.672 1143.81 122.478 1147.37 Q124.306 1150.91 127.917 1150.91 Q131.552 1150.91 133.357 1147.37 Q135.186 1143.81 135.186 1136.7 Q135.186 1129.57 133.357 1126.03 Q131.552 1122.46 127.917 1122.46 M127.917 1118.76 Q133.728 1118.76 136.783 1123.37 Q139.862 1127.95 139.862 1136.7 Q139.862 1145.43 136.783 1150.03 Q133.728 1154.62 127.917 1154.62 Q122.107 1154.62 119.029 1150.03 Q115.973 1145.43 115.973 1136.7 Q115.973 1127.95 119.029 1123.37 Q122.107 1118.76 127.917 1118.76 Z\" fill=\"#000000\" fill-rule=\"evenodd\" fill-opacity=\"1\" /><path clip-path=\"url(#clip830)\" d=\"M 0 0 M144.931 1148.06 L149.816 1148.06 L149.816 1153.94 L144.931 1153.94 L144.931 1148.06 Z\" fill=\"#000000\" fill-rule=\"evenodd\" fill-opacity=\"1\" /><path clip-path=\"url(#clip830)\" d=\"M 0 0 M164.885 1122.46 Q161.274 1122.46 159.445 1126.03 Q157.64 1129.57 157.64 1136.7 Q157.64 1143.81 159.445 1147.37 Q161.274 1150.91 164.885 1150.91 Q168.519 1150.91 170.325 1147.37 Q172.153 1143.81 172.153 1136.7 Q172.153 1129.57 170.325 1126.03 Q168.519 1122.46 164.885 1122.46 M164.885 1118.76 Q170.695 1118.76 173.751 1123.37 Q176.829 1127.95 176.829 1136.7 Q176.829 1145.43 173.751 1150.03 Q170.695 1154.62 164.885 1154.62 Q159.075 1154.62 155.996 1150.03 Q152.941 1145.43 152.941 1136.7 Q152.941 1127.95 155.996 1123.37 Q159.075 1118.76 164.885 1118.76 Z\" fill=\"#000000\" fill-rule=\"evenodd\" fill-opacity=\"1\" /><path clip-path=\"url(#clip830)\" d=\"M 0 0 M182.709 1150.01 L190.348 1150.01 L190.348 1123.64 L182.038 1125.31 L182.038 1121.05 L190.301 1119.38 L194.977 1119.38 L194.977 1150.01 L202.616 1150.01 L202.616 1153.94 L182.709 1153.94 L182.709 1150.01 Z\" fill=\"#000000\" fill-rule=\"evenodd\" fill-opacity=\"1\" /><path clip-path=\"url(#clip830)\" d=\"M 0 0 M128.288 874.889 Q124.677 874.889 122.848 878.454 Q121.043 881.996 121.043 889.125 Q121.043 896.232 122.848 899.797 Q124.677 903.338 128.288 903.338 Q131.922 903.338 133.728 899.797 Q135.556 896.232 135.556 889.125 Q135.556 881.996 133.728 878.454 Q131.922 874.889 128.288 874.889 M128.288 871.186 Q134.098 871.186 137.154 875.792 Q140.232 880.375 140.232 889.125 Q140.232 897.852 137.154 902.459 Q134.098 907.042 128.288 907.042 Q122.478 907.042 119.399 902.459 Q116.343 897.852 116.343 889.125 Q116.343 880.375 119.399 875.792 Q122.478 871.186 128.288 871.186 Z\" fill=\"#000000\" fill-rule=\"evenodd\" fill-opacity=\"1\" /><path clip-path=\"url(#clip830)\" d=\"M 0 0 M145.302 900.491 L150.186 900.491 L150.186 906.371 L145.302 906.371 L145.302 900.491 Z\" fill=\"#000000\" fill-rule=\"evenodd\" fill-opacity=\"1\" /><path clip-path=\"url(#clip830)\" d=\"M 0 0 M165.255 874.889 Q161.644 874.889 159.815 878.454 Q158.01 881.996 158.01 889.125 Q158.01 896.232 159.815 899.797 Q161.644 903.338 165.255 903.338 Q168.889 903.338 170.695 899.797 Q172.524 896.232 172.524 889.125 Q172.524 881.996 170.695 878.454 Q168.889 874.889 165.255 874.889 M165.255 871.186 Q171.065 871.186 174.121 875.792 Q177.2 880.375 177.2 889.125 Q177.2 897.852 174.121 902.459 Q171.065 907.042 165.255 907.042 Q159.445 907.042 156.366 902.459 Q153.311 897.852 153.311 889.125 Q153.311 880.375 156.366 875.792 Q159.445 871.186 165.255 871.186 Z\" fill=\"#000000\" fill-rule=\"evenodd\" fill-opacity=\"1\" /><path clip-path=\"url(#clip830)\" d=\"M 0 0 M186.297 902.436 L202.616 902.436 L202.616 906.371 L180.672 906.371 L180.672 902.436 Q183.334 899.681 187.917 895.051 Q192.524 890.399 193.704 889.056 Q195.95 886.533 196.829 884.797 Q197.732 883.037 197.732 881.348 Q197.732 878.593 195.787 876.857 Q193.866 875.121 190.764 875.121 Q188.565 875.121 186.112 875.885 Q183.681 876.649 180.903 878.2 L180.903 873.477 Q183.727 872.343 186.181 871.764 Q188.635 871.186 190.672 871.186 Q196.042 871.186 199.237 873.871 Q202.431 876.556 202.431 881.047 Q202.431 883.176 201.621 885.098 Q200.834 886.996 198.727 889.588 Q198.149 890.26 195.047 893.477 Q191.945 896.672 186.297 902.436 Z\" fill=\"#000000\" fill-rule=\"evenodd\" fill-opacity=\"1\" /><path clip-path=\"url(#clip830)\" d=\"M 0 0 M127.339 627.316 Q123.728 627.316 121.899 630.88 Q120.093 634.422 120.093 641.552 Q120.093 648.658 121.899 652.223 Q123.728 655.764 127.339 655.764 Q130.973 655.764 132.779 652.223 Q134.607 648.658 134.607 641.552 Q134.607 634.422 132.779 630.88 Q130.973 627.316 127.339 627.316 M127.339 623.612 Q133.149 623.612 136.204 628.218 Q139.283 632.802 139.283 641.552 Q139.283 650.278 136.204 654.885 Q133.149 659.468 127.339 659.468 Q121.529 659.468 118.45 654.885 Q115.394 650.278 115.394 641.552 Q115.394 632.802 118.45 628.218 Q121.529 623.612 127.339 623.612 Z\" fill=\"#000000\" fill-rule=\"evenodd\" fill-opacity=\"1\" /><path clip-path=\"url(#clip830)\" d=\"M 0 0 M144.353 652.917 L149.237 652.917 L149.237 658.797 L144.353 658.797 L144.353 652.917 Z\" fill=\"#000000\" fill-rule=\"evenodd\" fill-opacity=\"1\" /><path clip-path=\"url(#clip830)\" d=\"M 0 0 M164.306 627.316 Q160.695 627.316 158.866 630.88 Q157.061 634.422 157.061 641.552 Q157.061 648.658 158.866 652.223 Q160.695 655.764 164.306 655.764 Q167.94 655.764 169.746 652.223 Q171.575 648.658 171.575 641.552 Q171.575 634.422 169.746 630.88 Q167.94 627.316 164.306 627.316 M164.306 623.612 Q170.116 623.612 173.172 628.218 Q176.251 632.802 176.251 641.552 Q176.251 650.278 173.172 654.885 Q170.116 659.468 164.306 659.468 Q158.496 659.468 155.417 654.885 Q152.362 650.278 152.362 641.552 Q152.362 632.802 155.417 628.218 Q158.496 623.612 164.306 623.612 Z\" fill=\"#000000\" fill-rule=\"evenodd\" fill-opacity=\"1\" /><path clip-path=\"url(#clip830)\" d=\"M 0 0 M195.487 640.163 Q198.843 640.88 200.718 643.149 Q202.616 645.417 202.616 648.751 Q202.616 653.866 199.098 656.667 Q195.579 659.468 189.098 659.468 Q186.922 659.468 184.607 659.028 Q182.315 658.612 179.862 657.755 L179.862 653.241 Q181.806 654.376 184.121 654.954 Q186.436 655.533 188.959 655.533 Q193.357 655.533 195.649 653.797 Q197.963 652.061 197.963 648.751 Q197.963 645.695 195.811 643.982 Q193.681 642.246 189.862 642.246 L185.834 642.246 L185.834 638.403 L190.047 638.403 Q193.496 638.403 195.325 637.038 Q197.153 635.649 197.153 633.056 Q197.153 630.394 195.255 628.982 Q193.38 627.547 189.862 627.547 Q187.94 627.547 185.741 627.964 Q183.542 628.38 180.903 629.26 L180.903 625.093 Q183.565 624.353 185.88 623.982 Q188.218 623.612 190.278 623.612 Q195.602 623.612 198.704 626.042 Q201.806 628.45 201.806 632.57 Q201.806 635.441 200.162 637.431 Q198.519 639.399 195.487 640.163 Z\" fill=\"#000000\" fill-rule=\"evenodd\" fill-opacity=\"1\" /><path clip-path=\"url(#clip830)\" d=\"M 0 0 M126.205 379.742 Q122.593 379.742 120.765 383.307 Q118.959 386.848 118.959 393.978 Q118.959 401.084 120.765 404.649 Q122.593 408.191 126.205 408.191 Q129.839 408.191 131.644 404.649 Q133.473 401.084 133.473 393.978 Q133.473 386.848 131.644 383.307 Q129.839 379.742 126.205 379.742 M126.205 376.038 Q132.015 376.038 135.07 380.645 Q138.149 385.228 138.149 393.978 Q138.149 402.705 135.07 407.311 Q132.015 411.894 126.205 411.894 Q120.394 411.894 117.316 407.311 Q114.26 402.705 114.26 393.978 Q114.26 385.228 117.316 380.645 Q120.394 376.038 126.205 376.038 Z\" fill=\"#000000\" fill-rule=\"evenodd\" fill-opacity=\"1\" /><path clip-path=\"url(#clip830)\" d=\"M 0 0 M143.218 405.343 L148.103 405.343 L148.103 411.223 L143.218 411.223 L143.218 405.343 Z\" fill=\"#000000\" fill-rule=\"evenodd\" fill-opacity=\"1\" /><path clip-path=\"url(#clip830)\" d=\"M 0 0 M163.172 379.742 Q159.561 379.742 157.732 383.307 Q155.927 386.848 155.927 393.978 Q155.927 401.084 157.732 404.649 Q159.561 408.191 163.172 408.191 Q166.806 408.191 168.612 404.649 Q170.44 401.084 170.44 393.978 Q170.44 386.848 168.612 383.307 Q166.806 379.742 163.172 379.742 M163.172 376.038 Q168.982 376.038 172.038 380.645 Q175.116 385.228 175.116 393.978 Q175.116 402.705 172.038 407.311 Q168.982 411.894 163.172 411.894 Q157.362 411.894 154.283 407.311 Q151.228 402.705 151.228 393.978 Q151.228 385.228 154.283 380.645 Q157.362 376.038 163.172 376.038 Z\" fill=\"#000000\" fill-rule=\"evenodd\" fill-opacity=\"1\" /><path clip-path=\"url(#clip830)\" d=\"M 0 0 M193.033 380.737 L181.227 399.186 L193.033 399.186 L193.033 380.737 M191.806 376.663 L197.686 376.663 L197.686 399.186 L202.616 399.186 L202.616 403.075 L197.686 403.075 L197.686 411.223 L193.033 411.223 L193.033 403.075 L177.431 403.075 L177.431 398.561 L191.806 376.663 Z\" fill=\"#000000\" fill-rule=\"evenodd\" fill-opacity=\"1\" /><path clip-path=\"url(#clip830)\" d=\"M 0 0 M127.686 132.168 Q124.075 132.168 122.246 135.733 Q120.441 139.274 120.441 146.404 Q120.441 153.51 122.246 157.075 Q124.075 160.617 127.686 160.617 Q131.32 160.617 133.126 157.075 Q134.954 153.51 134.954 146.404 Q134.954 139.274 133.126 135.733 Q131.32 132.168 127.686 132.168 M127.686 128.464 Q133.496 128.464 136.552 133.071 Q139.63 137.654 139.63 146.404 Q139.63 155.131 136.552 159.737 Q133.496 164.321 127.686 164.321 Q121.876 164.321 118.797 159.737 Q115.742 155.131 115.742 146.404 Q115.742 137.654 118.797 133.071 Q121.876 128.464 127.686 128.464 Z\" fill=\"#000000\" fill-rule=\"evenodd\" fill-opacity=\"1\" /><path clip-path=\"url(#clip830)\" d=\"M 0 0 M144.7 157.77 L149.584 157.77 L149.584 163.649 L144.7 163.649 L144.7 157.77 Z\" fill=\"#000000\" fill-rule=\"evenodd\" fill-opacity=\"1\" /><path clip-path=\"url(#clip830)\" d=\"M 0 0 M164.653 132.168 Q161.042 132.168 159.214 135.733 Q157.408 139.274 157.408 146.404 Q157.408 153.51 159.214 157.075 Q161.042 160.617 164.653 160.617 Q168.288 160.617 170.093 157.075 Q171.922 153.51 171.922 146.404 Q171.922 139.274 170.093 135.733 Q168.288 132.168 164.653 132.168 M164.653 128.464 Q170.464 128.464 173.519 133.071 Q176.598 137.654 176.598 146.404 Q176.598 155.131 173.519 159.737 Q170.464 164.321 164.653 164.321 Q158.843 164.321 155.765 159.737 Q152.709 155.131 152.709 146.404 Q152.709 137.654 155.765 133.071 Q158.843 128.464 164.653 128.464 Z\" fill=\"#000000\" fill-rule=\"evenodd\" fill-opacity=\"1\" /><path clip-path=\"url(#clip830)\" d=\"M 0 0 M181.713 129.089 L200.07 129.089 L200.07 133.024 L185.996 133.024 L185.996 141.497 Q187.014 141.149 188.033 140.987 Q189.051 140.802 190.07 140.802 Q195.857 140.802 199.237 143.973 Q202.616 147.145 202.616 152.561 Q202.616 158.14 199.144 161.242 Q195.672 164.321 189.352 164.321 Q187.176 164.321 184.908 163.95 Q182.663 163.58 180.255 162.839 L180.255 158.14 Q182.338 159.274 184.561 159.83 Q186.783 160.385 189.26 160.385 Q193.264 160.385 195.602 158.279 Q197.94 156.172 197.94 152.561 Q197.94 148.95 195.602 146.844 Q193.264 144.737 189.26 144.737 Q187.385 144.737 185.51 145.154 Q183.658 145.571 181.713 146.45 L181.713 129.089 Z\" fill=\"#000000\" fill-rule=\"evenodd\" fill-opacity=\"1\" /><path clip-path=\"url(#clip830)\" d=\"M 0 0 M16.4842 917.032 L16.4842 910.603 L64.0042 910.603 L64.0042 917.032 L16.4842 917.032 Z\" fill=\"#000000\" fill-rule=\"evenodd\" fill-opacity=\"1\" /><path clip-path=\"url(#clip830)\" d=\"M 0 0 M42.4881 874.828 L64.0042 874.828 L64.0042 880.684 L42.679 880.684 Q37.6183 880.684 35.1038 882.658 Q32.5894 884.631 32.5894 888.578 Q32.5894 893.32 35.6131 896.057 Q38.6368 898.795 43.8567 898.795 L64.0042 898.795 L64.0042 904.683 L28.3562 904.683 L28.3562 898.795 L33.8944 898.795 Q30.6797 896.694 29.0883 893.861 Q27.4968 890.997 27.4968 887.273 Q27.4968 881.13 31.3163 877.979 Q35.1038 874.828 42.4881 874.828 Z\" fill=\"#000000\" fill-rule=\"evenodd\" fill-opacity=\"1\" /><path clip-path=\"url(#clip830)\" d=\"M 0 0 M28.3562 872.886 L28.3562 866.68 L58.275 855.54 L28.3562 844.4 L28.3562 838.193 L64.0042 851.561 L64.0042 859.518 L28.3562 872.886 Z\" fill=\"#000000\" fill-rule=\"evenodd\" fill-opacity=\"1\" /><path clip-path=\"url(#clip830)\" d=\"M 0 0 M46.0847 815.85 Q46.0847 822.947 47.7079 825.685 Q49.3312 828.422 53.2461 828.422 Q56.3653 828.422 58.2114 826.385 Q60.0256 824.316 60.0256 820.783 Q60.0256 815.913 56.5881 812.985 Q53.1188 810.025 47.3897 810.025 L46.0847 810.025 L46.0847 815.85 M43.6657 804.168 L64.0042 804.168 L64.0042 810.025 L58.5933 810.025 Q61.8398 812.03 63.3994 815.022 Q64.9272 818.014 64.9272 822.343 Q64.9272 827.817 61.8716 831.064 Q58.7843 834.278 53.6281 834.278 Q47.6125 834.278 44.5569 830.268 Q41.5014 826.226 41.5014 818.237 L41.5014 810.025 L40.9285 810.025 Q36.8862 810.025 34.6901 812.699 Q32.4621 815.34 32.4621 820.146 Q32.4621 823.202 33.1941 826.098 Q33.9262 828.995 35.3903 831.668 L29.9795 831.668 Q28.7381 828.454 28.1334 825.43 Q27.4968 822.406 27.4968 819.542 Q27.4968 811.807 31.5072 807.988 Q35.5176 804.168 43.6657 804.168 Z\" fill=\"#000000\" fill-rule=\"evenodd\" fill-opacity=\"1\" /><path clip-path=\"url(#clip830)\" d=\"M 0 0 M33.8307 777.369 Q33.2578 778.356 33.0032 779.533 Q32.7167 780.679 32.7167 782.079 Q32.7167 787.045 35.9632 789.718 Q39.1779 792.36 45.2253 792.36 L64.0042 792.36 L64.0042 798.248 L28.3562 798.248 L28.3562 792.36 L33.8944 792.36 Q30.6479 790.514 29.0883 787.554 Q27.4968 784.594 27.4968 780.361 Q27.4968 779.756 27.5923 779.024 Q27.656 778.292 27.8151 777.401 L33.8307 777.369 Z\" fill=\"#000000\" fill-rule=\"evenodd\" fill-opacity=\"1\" /><path clip-path=\"url(#clip830)\" d=\"M 0 0 M28.3562 771.226 L28.3562 765.37 L64.0042 765.37 L64.0042 771.226 L28.3562 771.226 M14.479 771.226 L14.479 765.37 L21.895 765.37 L21.895 771.226 L14.479 771.226 Z\" fill=\"#000000\" fill-rule=\"evenodd\" fill-opacity=\"1\" /><path clip-path=\"url(#clip830)\" d=\"M 0 0 M46.0847 743.026 Q46.0847 750.124 47.7079 752.861 Q49.3312 755.598 53.2461 755.598 Q56.3653 755.598 58.2114 753.561 Q60.0256 751.492 60.0256 747.959 Q60.0256 743.09 56.5881 740.161 Q53.1188 737.201 47.3897 737.201 L46.0847 737.201 L46.0847 743.026 M43.6657 731.345 L64.0042 731.345 L64.0042 737.201 L58.5933 737.201 Q61.8398 739.206 63.3994 742.198 Q64.9272 745.19 64.9272 749.519 Q64.9272 754.993 61.8716 758.24 Q58.7843 761.455 53.6281 761.455 Q47.6125 761.455 44.5569 757.444 Q41.5014 753.402 41.5014 745.413 L41.5014 737.201 L40.9285 737.201 Q36.8862 737.201 34.6901 739.875 Q32.4621 742.517 32.4621 747.323 Q32.4621 750.378 33.1941 753.275 Q33.9262 756.171 35.3903 758.845 L29.9795 758.845 Q28.7381 755.63 28.1334 752.606 Q27.4968 749.583 27.4968 746.718 Q27.4968 738.984 31.5072 735.164 Q35.5176 731.345 43.6657 731.345 Z\" fill=\"#000000\" fill-rule=\"evenodd\" fill-opacity=\"1\" /><path clip-path=\"url(#clip830)\" d=\"M 0 0 M42.4881 695.57 L64.0042 695.57 L64.0042 701.426 L42.679 701.426 Q37.6183 701.426 35.1038 703.399 Q32.5894 705.373 32.5894 709.319 Q32.5894 714.062 35.6131 716.799 Q38.6368 719.536 43.8567 719.536 L64.0042 719.536 L64.0042 725.425 L28.3562 725.425 L28.3562 719.536 L33.8944 719.536 Q30.6797 717.436 29.0883 714.603 Q27.4968 711.738 27.4968 708.014 Q27.4968 701.872 31.3163 698.721 Q35.1038 695.57 42.4881 695.57 Z\" fill=\"#000000\" fill-rule=\"evenodd\" fill-opacity=\"1\" /><path clip-path=\"url(#clip830)\" d=\"M 0 0 M18.2347 683.634 L28.3562 683.634 L28.3562 671.571 L32.9077 671.571 L32.9077 683.634 L52.2594 683.634 Q56.6199 683.634 57.8613 682.456 Q59.1026 681.247 59.1026 677.586 L59.1026 671.571 L64.0042 671.571 L64.0042 677.586 Q64.0042 684.366 61.4897 686.944 Q58.9434 689.522 52.2594 689.522 L32.9077 689.522 L32.9077 693.819 L28.3562 693.819 L28.3562 689.522 L18.2347 689.522 L18.2347 683.634 Z\" fill=\"#000000\" fill-rule=\"evenodd\" fill-opacity=\"1\" /><path clip-path=\"url(#clip830)\" d=\"M 0 0 M58.657 639.042 L77.5631 639.042 L77.5631 644.93 L28.3562 644.93 L28.3562 639.042 L33.7671 639.042 Q30.5842 637.196 29.0564 634.395 Q27.4968 631.562 27.4968 627.647 Q27.4968 621.154 32.6531 617.112 Q37.8093 613.038 46.212 613.038 Q54.6147 613.038 59.771 617.112 Q64.9272 621.154 64.9272 627.647 Q64.9272 631.562 63.3994 634.395 Q61.8398 637.196 58.657 639.042 M46.212 619.117 Q39.7508 619.117 36.0905 621.791 Q32.3984 624.433 32.3984 629.08 Q32.3984 633.727 36.0905 636.4 Q39.7508 639.042 46.212 639.042 Q52.6732 639.042 56.3653 636.4 Q60.0256 633.727 60.0256 629.08 Q60.0256 624.433 56.3653 621.791 Q52.6732 619.117 46.212 619.117 Z\" fill=\"#000000\" fill-rule=\"evenodd\" fill-opacity=\"1\" /><path clip-path=\"url(#clip830)\" d=\"M 0 0 M33.7671 583.438 L14.479 583.438 L14.479 577.581 L64.0042 577.581 L64.0042 583.438 L58.657 583.438 Q61.8398 585.284 63.3994 588.116 Q64.9272 590.917 64.9272 594.864 Q64.9272 601.325 59.771 605.399 Q54.6147 609.442 46.212 609.442 Q37.8093 609.442 32.6531 605.399 Q27.4968 601.325 27.4968 594.864 Q27.4968 590.917 29.0564 588.116 Q30.5842 585.284 33.7671 583.438 M46.212 603.394 Q52.6732 603.394 56.3653 600.752 Q60.0256 598.079 60.0256 593.432 Q60.0256 588.785 56.3653 586.111 Q52.6732 583.438 46.212 583.438 Q39.7508 583.438 36.0905 586.111 Q32.3984 588.785 32.3984 593.432 Q32.3984 598.079 36.0905 600.752 Q39.7508 603.394 46.212 603.394 Z\" fill=\"#000000\" fill-rule=\"evenodd\" fill-opacity=\"1\" /><path clip-path=\"url(#clip830)\" d=\"M 0 0 M14.479 553.391 L19.3487 553.391 L19.3487 558.993 Q19.3487 562.144 20.6219 563.386 Q21.895 564.595 25.2052 564.595 L28.3562 564.595 L28.3562 554.951 L32.9077 554.951 L32.9077 564.595 L64.0042 564.595 L64.0042 570.483 L32.9077 570.483 L32.9077 576.085 L28.3562 576.085 L28.3562 570.483 L25.8736 570.483 Q19.9216 570.483 17.2162 567.714 Q14.479 564.945 14.479 558.93 L14.479 553.391 Z\" fill=\"#000000\" fill-rule=\"evenodd\" fill-opacity=\"1\" /><polyline clip-path=\"url(#clip832)\" style=\"stroke:#009af9; stroke-width:4; stroke-opacity:1; fill:none\" points=\"\n",
       "  298.45,1384.24 309.057,1384.24 319.791,1384.24 330.653,1384.24 341.646,1384.24 352.771,1384.24 364.029,1384.24 375.422,1384.24 386.951,1384.24 398.619,1384.24 \n",
       "  410.427,1384.24 422.377,1384.24 434.47,1384.24 446.708,1384.24 459.092,1384.24 471.625,1384.24 484.309,1384.24 497.145,1384.24 510.134,1384.24 523.279,1384.24 \n",
       "  536.582,1384.24 550.045,1384.24 563.669,1384.24 577.456,1384.24 591.409,1384.24 605.529,1383.41 619.818,1383.41 634.279,1383.41 648.913,1382.59 663.723,1381.76 \n",
       "  678.71,1380.93 693.878,1380.11 709.226,1378.46 724.76,1376.8 740.479,1374.32 756.387,1371.01 772.485,1367.68 788.777,1363.5 805.264,1357.6 821.949,1350.76 \n",
       "  838.834,1342.85 855.921,1332.02 873.214,1320.44 890.713,1305.11 908.423,1286.93 926.345,1264 944.482,1234.93 962.837,1198.02 981.411,1153.01 1000.21,1096.31 \n",
       "  1019.23,1027.93 1038.48,946.026 1057.96,852.254 1077.68,747.092 1097.63,635.782 1117.82,520.822 1138.26,408.253 1158.93,305.486 1179.86,217.333 1201.04,148.648 \n",
       "  1222.47,104.597 1244.16,86.1857 1266.11,93.474 1288.32,124.082 1310.8,176.836 1333.54,245.613 1356.56,328.057 1379.86,418.555 1403.44,512.671 1427.3,608.172 \n",
       "  1451.44,700.982 1475.88,790.147 1500.6,872.831 1525.63,949.186 1550.95,1017.3 1576.58,1078.07 1602.51,1130.97 1628.76,1176.44 1655.32,1215.87 1682.2,1249.02 \n",
       "  1709.4,1276.5 1736.93,1298.9 1764.79,1317.58 1792.98,1333.03 1821.51,1344.87 1850.39,1354.29 1879.6,1361.63 1909.17,1367.15 1939.1,1371.9 1969.38,1375.22 \n",
       "  2000.03,1377.27 2031.04,1379.8 2062.43,1381.25 2094.19,1381.69 2126.33,1382.82 2158.86,1383.03 2191.78,1383.17 2225.09,1384.09 2258.8,1384.14 2292.92,1384.18 \n",
       "  \n",
       "  \"/>\n",
       "</svg>\n"
      ]
     },
     "execution_count": 32,
     "metadata": {},
     "output_type": "execute_result"
    }
   ],
   "source": [
    "# Invariant distribution of productivity\n",
    "plot1 = plot(s[1:100],bar_μ[1:100],legend = false)\n",
    "xlabel!(\"Productivity\")\n",
    "ylabel!(\"Invariant pdf\")\n",
    "#savefig(plot1,\"plot1.png\")"
   ]
  },
  {
   "cell_type": "code",
   "execution_count": 33,
   "metadata": {},
   "outputs": [
    {
     "data": {
      "image/svg+xml": [
       "<?xml version=\"1.0\" encoding=\"utf-8\"?>\n",
       "<svg xmlns=\"http://www.w3.org/2000/svg\" xmlns:xlink=\"http://www.w3.org/1999/xlink\" width=\"600\" height=\"400\" viewBox=\"0 0 2400 1600\">\n",
       "<defs>\n",
       "  <clipPath id=\"clip870\">\n",
       "    <rect x=\"0\" y=\"0\" width=\"2400\" height=\"1600\"/>\n",
       "  </clipPath>\n",
       "</defs>\n",
       "<path clip-path=\"url(#clip870)\" d=\"\n",
       "M0 1600 L2400 1600 L2400 0 L0 0  Z\n",
       "  \" fill=\"#ffffff\" fill-rule=\"evenodd\" fill-opacity=\"1\"/>\n",
       "<defs>\n",
       "  <clipPath id=\"clip871\">\n",
       "    <rect x=\"480\" y=\"0\" width=\"1681\" height=\"1600\"/>\n",
       "  </clipPath>\n",
       "</defs>\n",
       "<path clip-path=\"url(#clip870)\" d=\"\n",
       "M238.616 1423.18 L2352.76 1423.18 L2352.76 47.2441 L238.616 47.2441  Z\n",
       "  \" fill=\"#ffffff\" fill-rule=\"evenodd\" fill-opacity=\"1\"/>\n",
       "<defs>\n",
       "  <clipPath id=\"clip872\">\n",
       "    <rect x=\"238\" y=\"47\" width=\"2115\" height=\"1377\"/>\n",
       "  </clipPath>\n",
       "</defs>\n",
       "<polyline clip-path=\"url(#clip872)\" style=\"stroke:#000000; stroke-width:2; stroke-opacity:0.1; fill:none\" points=\"\n",
       "  292.978,1423.18 292.978,47.2441 \n",
       "  \"/>\n",
       "<polyline clip-path=\"url(#clip872)\" style=\"stroke:#000000; stroke-width:2; stroke-opacity:0.1; fill:none\" points=\"\n",
       "  823.615,1423.18 823.615,47.2441 \n",
       "  \"/>\n",
       "<polyline clip-path=\"url(#clip872)\" style=\"stroke:#000000; stroke-width:2; stroke-opacity:0.1; fill:none\" points=\"\n",
       "  1354.25,1423.18 1354.25,47.2441 \n",
       "  \"/>\n",
       "<polyline clip-path=\"url(#clip872)\" style=\"stroke:#000000; stroke-width:2; stroke-opacity:0.1; fill:none\" points=\"\n",
       "  1884.89,1423.18 1884.89,47.2441 \n",
       "  \"/>\n",
       "<polyline clip-path=\"url(#clip870)\" style=\"stroke:#000000; stroke-width:4; stroke-opacity:1; fill:none\" points=\"\n",
       "  238.616,1423.18 2352.76,1423.18 \n",
       "  \"/>\n",
       "<polyline clip-path=\"url(#clip870)\" style=\"stroke:#000000; stroke-width:4; stroke-opacity:1; fill:none\" points=\"\n",
       "  292.978,1423.18 292.978,1406.67 \n",
       "  \"/>\n",
       "<polyline clip-path=\"url(#clip870)\" style=\"stroke:#000000; stroke-width:4; stroke-opacity:1; fill:none\" points=\"\n",
       "  823.615,1423.18 823.615,1406.67 \n",
       "  \"/>\n",
       "<polyline clip-path=\"url(#clip870)\" style=\"stroke:#000000; stroke-width:4; stroke-opacity:1; fill:none\" points=\"\n",
       "  1354.25,1423.18 1354.25,1406.67 \n",
       "  \"/>\n",
       "<polyline clip-path=\"url(#clip870)\" style=\"stroke:#000000; stroke-width:4; stroke-opacity:1; fill:none\" points=\"\n",
       "  1884.89,1423.18 1884.89,1406.67 \n",
       "  \"/>\n",
       "<path clip-path=\"url(#clip870)\" d=\"M 0 0 M292.978 1452.37 Q289.367 1452.37 287.539 1455.94 Q285.733 1459.48 285.733 1466.61 Q285.733 1473.71 287.539 1477.28 Q289.367 1480.82 292.978 1480.82 Q296.613 1480.82 298.418 1477.28 Q300.247 1473.71 300.247 1466.61 Q300.247 1459.48 298.418 1455.94 Q296.613 1452.37 292.978 1452.37 M292.978 1448.67 Q298.789 1448.67 301.844 1453.27 Q304.923 1457.86 304.923 1466.61 Q304.923 1475.33 301.844 1479.94 Q298.789 1484.52 292.978 1484.52 Q287.168 1484.52 284.09 1479.94 Q281.034 1475.33 281.034 1466.61 Q281.034 1457.86 284.09 1453.27 Q287.168 1448.67 292.978 1448.67 Z\" fill=\"#000000\" fill-rule=\"evenodd\" fill-opacity=\"1\" /><path clip-path=\"url(#clip870)\" d=\"M 0 0 M786.984 1479.92 L794.623 1479.92 L794.623 1453.55 L786.312 1455.22 L786.312 1450.96 L794.576 1449.29 L799.252 1449.29 L799.252 1479.92 L806.891 1479.92 L806.891 1483.85 L786.984 1483.85 L786.984 1479.92 Z\" fill=\"#000000\" fill-rule=\"evenodd\" fill-opacity=\"1\" /><path clip-path=\"url(#clip870)\" d=\"M 0 0 M821.96 1452.37 Q818.349 1452.37 816.521 1455.94 Q814.715 1459.48 814.715 1466.61 Q814.715 1473.71 816.521 1477.28 Q818.349 1480.82 821.96 1480.82 Q825.595 1480.82 827.4 1477.28 Q829.229 1473.71 829.229 1466.61 Q829.229 1459.48 827.4 1455.94 Q825.595 1452.37 821.96 1452.37 M821.96 1448.67 Q827.77 1448.67 830.826 1453.27 Q833.905 1457.86 833.905 1466.61 Q833.905 1475.33 830.826 1479.94 Q827.77 1484.52 821.96 1484.52 Q816.15 1484.52 813.071 1479.94 Q810.016 1475.33 810.016 1466.61 Q810.016 1457.86 813.071 1453.27 Q816.15 1448.67 821.96 1448.67 Z\" fill=\"#000000\" fill-rule=\"evenodd\" fill-opacity=\"1\" /><path clip-path=\"url(#clip870)\" d=\"M 0 0 M848.974 1452.37 Q845.363 1452.37 843.534 1455.94 Q841.729 1459.48 841.729 1466.61 Q841.729 1473.71 843.534 1477.28 Q845.363 1480.82 848.974 1480.82 Q852.608 1480.82 854.414 1477.28 Q856.243 1473.71 856.243 1466.61 Q856.243 1459.48 854.414 1455.94 Q852.608 1452.37 848.974 1452.37 M848.974 1448.67 Q854.784 1448.67 857.84 1453.27 Q860.918 1457.86 860.918 1466.61 Q860.918 1475.33 857.84 1479.94 Q854.784 1484.52 848.974 1484.52 Q843.164 1484.52 840.085 1479.94 Q837.03 1475.33 837.03 1466.61 Q837.03 1457.86 840.085 1453.27 Q843.164 1448.67 848.974 1448.67 Z\" fill=\"#000000\" fill-rule=\"evenodd\" fill-opacity=\"1\" /><path clip-path=\"url(#clip870)\" d=\"M 0 0 M1321.89 1479.92 L1338.21 1479.92 L1338.21 1483.85 L1316.27 1483.85 L1316.27 1479.92 Q1318.93 1477.16 1323.51 1472.53 Q1328.12 1467.88 1329.3 1466.54 Q1331.54 1464.01 1332.42 1462.28 Q1333.33 1460.52 1333.33 1458.83 Q1333.33 1456.07 1331.38 1454.34 Q1329.46 1452.6 1326.36 1452.6 Q1324.16 1452.6 1321.71 1453.37 Q1319.28 1454.13 1316.5 1455.68 L1316.5 1450.96 Q1319.32 1449.82 1321.78 1449.25 Q1324.23 1448.67 1326.27 1448.67 Q1331.64 1448.67 1334.83 1451.35 Q1338.03 1454.04 1338.03 1458.53 Q1338.03 1460.66 1337.22 1462.58 Q1336.43 1464.48 1334.32 1467.07 Q1333.74 1467.74 1330.64 1470.96 Q1327.54 1474.15 1321.89 1479.92 Z\" fill=\"#000000\" fill-rule=\"evenodd\" fill-opacity=\"1\" /><path clip-path=\"url(#clip870)\" d=\"M 0 0 M1353.28 1452.37 Q1349.67 1452.37 1347.84 1455.94 Q1346.03 1459.48 1346.03 1466.61 Q1346.03 1473.71 1347.84 1477.28 Q1349.67 1480.82 1353.28 1480.82 Q1356.91 1480.82 1358.72 1477.28 Q1360.55 1473.71 1360.55 1466.61 Q1360.55 1459.48 1358.72 1455.94 Q1356.91 1452.37 1353.28 1452.37 M1353.28 1448.67 Q1359.09 1448.67 1362.15 1453.27 Q1365.22 1457.86 1365.22 1466.61 Q1365.22 1475.33 1362.15 1479.94 Q1359.09 1484.52 1353.28 1484.52 Q1347.47 1484.52 1344.39 1479.94 Q1341.34 1475.33 1341.34 1466.61 Q1341.34 1457.86 1344.39 1453.27 Q1347.47 1448.67 1353.28 1448.67 Z\" fill=\"#000000\" fill-rule=\"evenodd\" fill-opacity=\"1\" /><path clip-path=\"url(#clip870)\" d=\"M 0 0 M1380.29 1452.37 Q1376.68 1452.37 1374.85 1455.94 Q1373.05 1459.48 1373.05 1466.61 Q1373.05 1473.71 1374.85 1477.28 Q1376.68 1480.82 1380.29 1480.82 Q1383.93 1480.82 1385.73 1477.28 Q1387.56 1473.71 1387.56 1466.61 Q1387.56 1459.48 1385.73 1455.94 Q1383.93 1452.37 1380.29 1452.37 M1380.29 1448.67 Q1386.1 1448.67 1389.16 1453.27 Q1392.24 1457.86 1392.24 1466.61 Q1392.24 1475.33 1389.16 1479.94 Q1386.1 1484.52 1380.29 1484.52 Q1374.48 1484.52 1371.41 1479.94 Q1368.35 1475.33 1368.35 1466.61 Q1368.35 1457.86 1371.41 1453.27 Q1374.48 1448.67 1380.29 1448.67 Z\" fill=\"#000000\" fill-rule=\"evenodd\" fill-opacity=\"1\" /><path clip-path=\"url(#clip870)\" d=\"M 0 0 M1862.12 1465.22 Q1865.48 1465.94 1867.35 1468.2 Q1869.25 1470.47 1869.25 1473.81 Q1869.25 1478.92 1865.73 1481.72 Q1862.22 1484.52 1855.73 1484.52 Q1853.56 1484.52 1851.24 1484.08 Q1848.95 1483.67 1846.5 1482.81 L1846.5 1478.3 Q1848.44 1479.43 1850.76 1480.01 Q1853.07 1480.59 1855.6 1480.59 Q1859.99 1480.59 1862.29 1478.85 Q1864.6 1477.12 1864.6 1473.81 Q1864.6 1470.75 1862.45 1469.04 Q1860.32 1467.3 1856.5 1467.3 L1852.47 1467.3 L1852.47 1463.46 L1856.68 1463.46 Q1860.13 1463.46 1861.96 1462.09 Q1863.79 1460.7 1863.79 1458.11 Q1863.79 1455.45 1861.89 1454.04 Q1860.02 1452.6 1856.5 1452.6 Q1854.58 1452.6 1852.38 1453.02 Q1850.18 1453.44 1847.54 1454.31 L1847.54 1450.15 Q1850.2 1449.41 1852.52 1449.04 Q1854.85 1448.67 1856.92 1448.67 Q1862.24 1448.67 1865.34 1451.1 Q1868.44 1453.5 1868.44 1457.63 Q1868.44 1460.5 1866.8 1462.49 Q1865.16 1464.45 1862.12 1465.22 Z\" fill=\"#000000\" fill-rule=\"evenodd\" fill-opacity=\"1\" /><path clip-path=\"url(#clip870)\" d=\"M 0 0 M1884.32 1452.37 Q1880.71 1452.37 1878.88 1455.94 Q1877.08 1459.48 1877.08 1466.61 Q1877.08 1473.71 1878.88 1477.28 Q1880.71 1480.82 1884.32 1480.82 Q1887.96 1480.82 1889.76 1477.28 Q1891.59 1473.71 1891.59 1466.61 Q1891.59 1459.48 1889.76 1455.94 Q1887.96 1452.37 1884.32 1452.37 M1884.32 1448.67 Q1890.13 1448.67 1893.19 1453.27 Q1896.27 1457.86 1896.27 1466.61 Q1896.27 1475.33 1893.19 1479.94 Q1890.13 1484.52 1884.32 1484.52 Q1878.51 1484.52 1875.43 1479.94 Q1872.38 1475.33 1872.38 1466.61 Q1872.38 1457.86 1875.43 1453.27 Q1878.51 1448.67 1884.32 1448.67 Z\" fill=\"#000000\" fill-rule=\"evenodd\" fill-opacity=\"1\" /><path clip-path=\"url(#clip870)\" d=\"M 0 0 M1911.34 1452.37 Q1907.73 1452.37 1905.9 1455.94 Q1904.09 1459.48 1904.09 1466.61 Q1904.09 1473.71 1905.9 1477.28 Q1907.73 1480.82 1911.34 1480.82 Q1914.97 1480.82 1916.78 1477.28 Q1918.6 1473.71 1918.6 1466.61 Q1918.6 1459.48 1916.78 1455.94 Q1914.97 1452.37 1911.34 1452.37 M1911.34 1448.67 Q1917.15 1448.67 1920.2 1453.27 Q1923.28 1457.86 1923.28 1466.61 Q1923.28 1475.33 1920.2 1479.94 Q1917.15 1484.52 1911.34 1484.52 Q1905.53 1484.52 1902.45 1479.94 Q1899.39 1475.33 1899.39 1466.61 Q1899.39 1457.86 1902.45 1453.27 Q1905.53 1448.67 1911.34 1448.67 Z\" fill=\"#000000\" fill-rule=\"evenodd\" fill-opacity=\"1\" /><path clip-path=\"url(#clip870)\" d=\"M 0 0 M1217.42 1524.88 Q1210.42 1524.88 1206.28 1530.1 Q1202.17 1535.32 1202.17 1544.33 Q1202.17 1553.31 1206.28 1558.53 Q1210.42 1563.75 1217.42 1563.75 Q1224.42 1563.75 1228.5 1558.53 Q1232.6 1553.31 1232.6 1544.33 Q1232.6 1535.32 1228.5 1530.1 Q1224.42 1524.88 1217.42 1524.88 M1217.42 1519.66 Q1227.41 1519.66 1233.4 1526.38 Q1239.38 1533.06 1239.38 1544.33 Q1239.38 1555.57 1233.4 1562.28 Q1227.41 1568.97 1217.42 1568.97 Q1207.39 1568.97 1201.38 1562.28 Q1195.39 1555.6 1195.39 1544.33 Q1195.39 1533.06 1201.38 1526.38 Q1207.39 1519.66 1217.42 1519.66 Z\" fill=\"#000000\" fill-rule=\"evenodd\" fill-opacity=\"1\" /><path clip-path=\"url(#clip870)\" d=\"M 0 0 M1244.92 1553.98 L1244.92 1532.4 L1250.78 1532.4 L1250.78 1553.75 Q1250.78 1558.81 1252.75 1561.36 Q1254.72 1563.87 1258.67 1563.87 Q1263.41 1563.87 1266.15 1560.85 Q1268.92 1557.83 1268.92 1552.61 L1268.92 1532.4 L1274.77 1532.4 L1274.77 1568.04 L1268.92 1568.04 L1268.92 1562.57 Q1266.79 1565.82 1263.95 1567.41 Q1261.15 1568.97 1257.43 1568.97 Q1251.29 1568.97 1248.1 1565.15 Q1244.92 1561.33 1244.92 1553.98 M1259.66 1531.54 L1259.66 1531.54 Z\" fill=\"#000000\" fill-rule=\"evenodd\" fill-opacity=\"1\" /><path clip-path=\"url(#clip870)\" d=\"M 0 0 M1286.71 1522.27 L1286.71 1532.4 L1298.77 1532.4 L1298.77 1536.95 L1286.71 1536.95 L1286.71 1556.3 Q1286.71 1560.66 1287.89 1561.9 Q1289.1 1563.14 1292.76 1563.14 L1298.77 1563.14 L1298.77 1568.04 L1292.76 1568.04 Q1285.98 1568.04 1283.4 1565.53 Q1280.82 1562.98 1280.82 1556.3 L1280.82 1536.95 L1276.53 1536.95 L1276.53 1532.4 L1280.82 1532.4 L1280.82 1522.27 L1286.71 1522.27 Z\" fill=\"#000000\" fill-rule=\"evenodd\" fill-opacity=\"1\" /><path clip-path=\"url(#clip870)\" d=\"M 0 0 M1310.58 1562.7 L1310.58 1581.6 L1304.69 1581.6 L1304.69 1532.4 L1310.58 1532.4 L1310.58 1537.81 Q1312.43 1534.62 1315.23 1533.1 Q1318.06 1531.54 1321.98 1531.54 Q1328.47 1531.54 1332.51 1536.69 Q1336.59 1541.85 1336.59 1550.25 Q1336.59 1558.65 1332.51 1563.81 Q1328.47 1568.97 1321.98 1568.97 Q1318.06 1568.97 1315.23 1567.44 Q1312.43 1565.88 1310.58 1562.7 M1330.51 1550.25 Q1330.51 1543.79 1327.83 1540.13 Q1325.19 1536.44 1320.54 1536.44 Q1315.9 1536.44 1313.22 1540.13 Q1310.58 1543.79 1310.58 1550.25 Q1310.58 1556.71 1313.22 1560.4 Q1315.9 1564.07 1320.54 1564.07 Q1325.19 1564.07 1327.83 1560.4 Q1330.51 1556.71 1330.51 1550.25 Z\" fill=\"#000000\" fill-rule=\"evenodd\" fill-opacity=\"1\" /><path clip-path=\"url(#clip870)\" d=\"M 0 0 M1342.12 1553.98 L1342.12 1532.4 L1347.98 1532.4 L1347.98 1553.75 Q1347.98 1558.81 1349.95 1561.36 Q1351.93 1563.87 1355.87 1563.87 Q1360.62 1563.87 1363.35 1560.85 Q1366.12 1557.83 1366.12 1552.61 L1366.12 1532.4 L1371.98 1532.4 L1371.98 1568.04 L1366.12 1568.04 L1366.12 1562.57 Q1363.99 1565.82 1361.16 1567.41 Q1358.36 1568.97 1354.63 1568.97 Q1348.49 1568.97 1345.31 1565.15 Q1342.12 1561.33 1342.12 1553.98 M1356.86 1531.54 L1356.86 1531.54 Z\" fill=\"#000000\" fill-rule=\"evenodd\" fill-opacity=\"1\" /><path clip-path=\"url(#clip870)\" d=\"M 0 0 M1383.91 1522.27 L1383.91 1532.4 L1395.98 1532.4 L1395.98 1536.95 L1383.91 1536.95 L1383.91 1556.3 Q1383.91 1560.66 1385.09 1561.9 Q1386.3 1563.14 1389.96 1563.14 L1395.98 1563.14 L1395.98 1568.04 L1389.96 1568.04 Q1383.18 1568.04 1380.6 1565.53 Q1378.03 1562.98 1378.03 1556.3 L1378.03 1536.95 L1373.73 1536.95 L1373.73 1532.4 L1378.03 1532.4 L1378.03 1522.27 L1383.91 1522.27 Z\" fill=\"#000000\" fill-rule=\"evenodd\" fill-opacity=\"1\" /><polyline clip-path=\"url(#clip872)\" style=\"stroke:#000000; stroke-width:2; stroke-opacity:0.1; fill:none\" points=\"\n",
       "  238.616,1384.24 2352.76,1384.24 \n",
       "  \"/>\n",
       "<polyline clip-path=\"url(#clip872)\" style=\"stroke:#000000; stroke-width:2; stroke-opacity:0.1; fill:none\" points=\"\n",
       "  238.616,1136.66 2352.76,1136.66 \n",
       "  \"/>\n",
       "<polyline clip-path=\"url(#clip872)\" style=\"stroke:#000000; stroke-width:2; stroke-opacity:0.1; fill:none\" points=\"\n",
       "  238.616,889.091 2352.76,889.091 \n",
       "  \"/>\n",
       "<polyline clip-path=\"url(#clip872)\" style=\"stroke:#000000; stroke-width:2; stroke-opacity:0.1; fill:none\" points=\"\n",
       "  238.616,641.517 2352.76,641.517 \n",
       "  \"/>\n",
       "<polyline clip-path=\"url(#clip872)\" style=\"stroke:#000000; stroke-width:2; stroke-opacity:0.1; fill:none\" points=\"\n",
       "  238.616,393.943 2352.76,393.943 \n",
       "  \"/>\n",
       "<polyline clip-path=\"url(#clip872)\" style=\"stroke:#000000; stroke-width:2; stroke-opacity:0.1; fill:none\" points=\"\n",
       "  238.616,146.369 2352.76,146.369 \n",
       "  \"/>\n",
       "<polyline clip-path=\"url(#clip870)\" style=\"stroke:#000000; stroke-width:4; stroke-opacity:1; fill:none\" points=\"\n",
       "  238.616,1423.18 238.616,47.2441 \n",
       "  \"/>\n",
       "<polyline clip-path=\"url(#clip870)\" style=\"stroke:#000000; stroke-width:4; stroke-opacity:1; fill:none\" points=\"\n",
       "  238.616,1384.24 263.986,1384.24 \n",
       "  \"/>\n",
       "<polyline clip-path=\"url(#clip870)\" style=\"stroke:#000000; stroke-width:4; stroke-opacity:1; fill:none\" points=\"\n",
       "  238.616,1136.66 263.986,1136.66 \n",
       "  \"/>\n",
       "<polyline clip-path=\"url(#clip870)\" style=\"stroke:#000000; stroke-width:4; stroke-opacity:1; fill:none\" points=\"\n",
       "  238.616,889.091 263.986,889.091 \n",
       "  \"/>\n",
       "<polyline clip-path=\"url(#clip870)\" style=\"stroke:#000000; stroke-width:4; stroke-opacity:1; fill:none\" points=\"\n",
       "  238.616,641.517 263.986,641.517 \n",
       "  \"/>\n",
       "<polyline clip-path=\"url(#clip870)\" style=\"stroke:#000000; stroke-width:4; stroke-opacity:1; fill:none\" points=\"\n",
       "  238.616,393.943 263.986,393.943 \n",
       "  \"/>\n",
       "<polyline clip-path=\"url(#clip870)\" style=\"stroke:#000000; stroke-width:4; stroke-opacity:1; fill:none\" points=\"\n",
       "  238.616,146.369 263.986,146.369 \n",
       "  \"/>\n",
       "<path clip-path=\"url(#clip870)\" d=\"M 0 0 M126.691 1370.04 Q123.08 1370.04 121.251 1373.6 Q119.445 1377.14 119.445 1384.27 Q119.445 1391.38 121.251 1394.94 Q123.08 1398.49 126.691 1398.49 Q130.325 1398.49 132.13 1394.94 Q133.959 1391.38 133.959 1384.27 Q133.959 1377.14 132.13 1373.6 Q130.325 1370.04 126.691 1370.04 M126.691 1366.33 Q132.501 1366.33 135.556 1370.94 Q138.635 1375.52 138.635 1384.27 Q138.635 1393 135.556 1397.61 Q132.501 1402.19 126.691 1402.19 Q120.88 1402.19 117.802 1397.61 Q114.746 1393 114.746 1384.27 Q114.746 1375.52 117.802 1370.94 Q120.88 1366.33 126.691 1366.33 Z\" fill=\"#000000\" fill-rule=\"evenodd\" fill-opacity=\"1\" /><path clip-path=\"url(#clip870)\" d=\"M 0 0 M143.704 1395.64 L148.589 1395.64 L148.589 1401.52 L143.704 1401.52 L143.704 1395.64 Z\" fill=\"#000000\" fill-rule=\"evenodd\" fill-opacity=\"1\" /><path clip-path=\"url(#clip870)\" d=\"M 0 0 M163.658 1370.04 Q160.047 1370.04 158.218 1373.6 Q156.413 1377.14 156.413 1384.27 Q156.413 1391.38 158.218 1394.94 Q160.047 1398.49 163.658 1398.49 Q167.292 1398.49 169.098 1394.94 Q170.927 1391.38 170.927 1384.27 Q170.927 1377.14 169.098 1373.6 Q167.292 1370.04 163.658 1370.04 M163.658 1366.33 Q169.468 1366.33 172.524 1370.94 Q175.602 1375.52 175.602 1384.27 Q175.602 1393 172.524 1397.61 Q169.468 1402.19 163.658 1402.19 Q157.848 1402.19 154.769 1397.61 Q151.714 1393 151.714 1384.27 Q151.714 1375.52 154.769 1370.94 Q157.848 1366.33 163.658 1366.33 Z\" fill=\"#000000\" fill-rule=\"evenodd\" fill-opacity=\"1\" /><path clip-path=\"url(#clip870)\" d=\"M 0 0 M190.672 1370.04 Q187.061 1370.04 185.232 1373.6 Q183.426 1377.14 183.426 1384.27 Q183.426 1391.38 185.232 1394.94 Q187.061 1398.49 190.672 1398.49 Q194.306 1398.49 196.112 1394.94 Q197.94 1391.38 197.94 1384.27 Q197.94 1377.14 196.112 1373.6 Q194.306 1370.04 190.672 1370.04 M190.672 1366.33 Q196.482 1366.33 199.537 1370.94 Q202.616 1375.52 202.616 1384.27 Q202.616 1393 199.537 1397.61 Q196.482 1402.19 190.672 1402.19 Q184.862 1402.19 181.783 1397.61 Q178.727 1393 178.727 1384.27 Q178.727 1375.52 181.783 1370.94 Q184.862 1366.33 190.672 1366.33 Z\" fill=\"#000000\" fill-rule=\"evenodd\" fill-opacity=\"1\" /><path clip-path=\"url(#clip870)\" d=\"M 0 0 M127.917 1122.46 Q124.306 1122.46 122.478 1126.03 Q120.672 1129.57 120.672 1136.7 Q120.672 1143.81 122.478 1147.37 Q124.306 1150.91 127.917 1150.91 Q131.552 1150.91 133.357 1147.37 Q135.186 1143.81 135.186 1136.7 Q135.186 1129.57 133.357 1126.03 Q131.552 1122.46 127.917 1122.46 M127.917 1118.76 Q133.728 1118.76 136.783 1123.37 Q139.862 1127.95 139.862 1136.7 Q139.862 1145.43 136.783 1150.03 Q133.728 1154.62 127.917 1154.62 Q122.107 1154.62 119.029 1150.03 Q115.973 1145.43 115.973 1136.7 Q115.973 1127.95 119.029 1123.37 Q122.107 1118.76 127.917 1118.76 Z\" fill=\"#000000\" fill-rule=\"evenodd\" fill-opacity=\"1\" /><path clip-path=\"url(#clip870)\" d=\"M 0 0 M144.931 1148.06 L149.816 1148.06 L149.816 1153.94 L144.931 1153.94 L144.931 1148.06 Z\" fill=\"#000000\" fill-rule=\"evenodd\" fill-opacity=\"1\" /><path clip-path=\"url(#clip870)\" d=\"M 0 0 M164.885 1122.46 Q161.274 1122.46 159.445 1126.03 Q157.64 1129.57 157.64 1136.7 Q157.64 1143.81 159.445 1147.37 Q161.274 1150.91 164.885 1150.91 Q168.519 1150.91 170.325 1147.37 Q172.153 1143.81 172.153 1136.7 Q172.153 1129.57 170.325 1126.03 Q168.519 1122.46 164.885 1122.46 M164.885 1118.76 Q170.695 1118.76 173.751 1123.37 Q176.829 1127.95 176.829 1136.7 Q176.829 1145.43 173.751 1150.03 Q170.695 1154.62 164.885 1154.62 Q159.075 1154.62 155.996 1150.03 Q152.941 1145.43 152.941 1136.7 Q152.941 1127.95 155.996 1123.37 Q159.075 1118.76 164.885 1118.76 Z\" fill=\"#000000\" fill-rule=\"evenodd\" fill-opacity=\"1\" /><path clip-path=\"url(#clip870)\" d=\"M 0 0 M182.709 1150.01 L190.348 1150.01 L190.348 1123.64 L182.038 1125.31 L182.038 1121.05 L190.301 1119.38 L194.977 1119.38 L194.977 1150.01 L202.616 1150.01 L202.616 1153.94 L182.709 1153.94 L182.709 1150.01 Z\" fill=\"#000000\" fill-rule=\"evenodd\" fill-opacity=\"1\" /><path clip-path=\"url(#clip870)\" d=\"M 0 0 M128.288 874.889 Q124.677 874.889 122.848 878.454 Q121.043 881.996 121.043 889.125 Q121.043 896.232 122.848 899.797 Q124.677 903.338 128.288 903.338 Q131.922 903.338 133.728 899.797 Q135.556 896.232 135.556 889.125 Q135.556 881.996 133.728 878.454 Q131.922 874.889 128.288 874.889 M128.288 871.186 Q134.098 871.186 137.154 875.792 Q140.232 880.375 140.232 889.125 Q140.232 897.852 137.154 902.459 Q134.098 907.042 128.288 907.042 Q122.478 907.042 119.399 902.459 Q116.343 897.852 116.343 889.125 Q116.343 880.375 119.399 875.792 Q122.478 871.186 128.288 871.186 Z\" fill=\"#000000\" fill-rule=\"evenodd\" fill-opacity=\"1\" /><path clip-path=\"url(#clip870)\" d=\"M 0 0 M145.302 900.491 L150.186 900.491 L150.186 906.371 L145.302 906.371 L145.302 900.491 Z\" fill=\"#000000\" fill-rule=\"evenodd\" fill-opacity=\"1\" /><path clip-path=\"url(#clip870)\" d=\"M 0 0 M165.255 874.889 Q161.644 874.889 159.815 878.454 Q158.01 881.996 158.01 889.125 Q158.01 896.232 159.815 899.797 Q161.644 903.338 165.255 903.338 Q168.889 903.338 170.695 899.797 Q172.524 896.232 172.524 889.125 Q172.524 881.996 170.695 878.454 Q168.889 874.889 165.255 874.889 M165.255 871.186 Q171.065 871.186 174.121 875.792 Q177.2 880.375 177.2 889.125 Q177.2 897.852 174.121 902.459 Q171.065 907.042 165.255 907.042 Q159.445 907.042 156.366 902.459 Q153.311 897.852 153.311 889.125 Q153.311 880.375 156.366 875.792 Q159.445 871.186 165.255 871.186 Z\" fill=\"#000000\" fill-rule=\"evenodd\" fill-opacity=\"1\" /><path clip-path=\"url(#clip870)\" d=\"M 0 0 M186.297 902.436 L202.616 902.436 L202.616 906.371 L180.672 906.371 L180.672 902.436 Q183.334 899.681 187.917 895.051 Q192.524 890.399 193.704 889.056 Q195.95 886.533 196.829 884.797 Q197.732 883.037 197.732 881.348 Q197.732 878.593 195.787 876.857 Q193.866 875.121 190.764 875.121 Q188.565 875.121 186.112 875.885 Q183.681 876.649 180.903 878.2 L180.903 873.477 Q183.727 872.343 186.181 871.764 Q188.635 871.186 190.672 871.186 Q196.042 871.186 199.237 873.871 Q202.431 876.556 202.431 881.047 Q202.431 883.176 201.621 885.098 Q200.834 886.996 198.727 889.588 Q198.149 890.26 195.047 893.477 Q191.945 896.672 186.297 902.436 Z\" fill=\"#000000\" fill-rule=\"evenodd\" fill-opacity=\"1\" /><path clip-path=\"url(#clip870)\" d=\"M 0 0 M127.339 627.316 Q123.728 627.316 121.899 630.88 Q120.093 634.422 120.093 641.552 Q120.093 648.658 121.899 652.223 Q123.728 655.764 127.339 655.764 Q130.973 655.764 132.779 652.223 Q134.607 648.658 134.607 641.552 Q134.607 634.422 132.779 630.88 Q130.973 627.316 127.339 627.316 M127.339 623.612 Q133.149 623.612 136.204 628.218 Q139.283 632.802 139.283 641.552 Q139.283 650.278 136.204 654.885 Q133.149 659.468 127.339 659.468 Q121.529 659.468 118.45 654.885 Q115.394 650.278 115.394 641.552 Q115.394 632.802 118.45 628.218 Q121.529 623.612 127.339 623.612 Z\" fill=\"#000000\" fill-rule=\"evenodd\" fill-opacity=\"1\" /><path clip-path=\"url(#clip870)\" d=\"M 0 0 M144.353 652.917 L149.237 652.917 L149.237 658.797 L144.353 658.797 L144.353 652.917 Z\" fill=\"#000000\" fill-rule=\"evenodd\" fill-opacity=\"1\" /><path clip-path=\"url(#clip870)\" d=\"M 0 0 M164.306 627.316 Q160.695 627.316 158.866 630.88 Q157.061 634.422 157.061 641.552 Q157.061 648.658 158.866 652.223 Q160.695 655.764 164.306 655.764 Q167.94 655.764 169.746 652.223 Q171.575 648.658 171.575 641.552 Q171.575 634.422 169.746 630.88 Q167.94 627.316 164.306 627.316 M164.306 623.612 Q170.116 623.612 173.172 628.218 Q176.251 632.802 176.251 641.552 Q176.251 650.278 173.172 654.885 Q170.116 659.468 164.306 659.468 Q158.496 659.468 155.417 654.885 Q152.362 650.278 152.362 641.552 Q152.362 632.802 155.417 628.218 Q158.496 623.612 164.306 623.612 Z\" fill=\"#000000\" fill-rule=\"evenodd\" fill-opacity=\"1\" /><path clip-path=\"url(#clip870)\" d=\"M 0 0 M195.487 640.163 Q198.843 640.88 200.718 643.149 Q202.616 645.417 202.616 648.751 Q202.616 653.866 199.098 656.667 Q195.579 659.468 189.098 659.468 Q186.922 659.468 184.607 659.028 Q182.315 658.612 179.862 657.755 L179.862 653.241 Q181.806 654.376 184.121 654.954 Q186.436 655.533 188.959 655.533 Q193.357 655.533 195.649 653.797 Q197.963 652.061 197.963 648.751 Q197.963 645.695 195.811 643.982 Q193.681 642.246 189.862 642.246 L185.834 642.246 L185.834 638.403 L190.047 638.403 Q193.496 638.403 195.325 637.038 Q197.153 635.649 197.153 633.056 Q197.153 630.394 195.255 628.982 Q193.38 627.547 189.862 627.547 Q187.94 627.547 185.741 627.964 Q183.542 628.38 180.903 629.26 L180.903 625.093 Q183.565 624.353 185.88 623.982 Q188.218 623.612 190.278 623.612 Q195.602 623.612 198.704 626.042 Q201.806 628.45 201.806 632.57 Q201.806 635.441 200.162 637.431 Q198.519 639.399 195.487 640.163 Z\" fill=\"#000000\" fill-rule=\"evenodd\" fill-opacity=\"1\" /><path clip-path=\"url(#clip870)\" d=\"M 0 0 M126.205 379.742 Q122.593 379.742 120.765 383.307 Q118.959 386.848 118.959 393.978 Q118.959 401.084 120.765 404.649 Q122.593 408.191 126.205 408.191 Q129.839 408.191 131.644 404.649 Q133.473 401.084 133.473 393.978 Q133.473 386.848 131.644 383.307 Q129.839 379.742 126.205 379.742 M126.205 376.038 Q132.015 376.038 135.07 380.645 Q138.149 385.228 138.149 393.978 Q138.149 402.705 135.07 407.311 Q132.015 411.894 126.205 411.894 Q120.394 411.894 117.316 407.311 Q114.26 402.705 114.26 393.978 Q114.26 385.228 117.316 380.645 Q120.394 376.038 126.205 376.038 Z\" fill=\"#000000\" fill-rule=\"evenodd\" fill-opacity=\"1\" /><path clip-path=\"url(#clip870)\" d=\"M 0 0 M143.218 405.343 L148.103 405.343 L148.103 411.223 L143.218 411.223 L143.218 405.343 Z\" fill=\"#000000\" fill-rule=\"evenodd\" fill-opacity=\"1\" /><path clip-path=\"url(#clip870)\" d=\"M 0 0 M163.172 379.742 Q159.561 379.742 157.732 383.307 Q155.927 386.848 155.927 393.978 Q155.927 401.084 157.732 404.649 Q159.561 408.191 163.172 408.191 Q166.806 408.191 168.612 404.649 Q170.44 401.084 170.44 393.978 Q170.44 386.848 168.612 383.307 Q166.806 379.742 163.172 379.742 M163.172 376.038 Q168.982 376.038 172.038 380.645 Q175.116 385.228 175.116 393.978 Q175.116 402.705 172.038 407.311 Q168.982 411.894 163.172 411.894 Q157.362 411.894 154.283 407.311 Q151.228 402.705 151.228 393.978 Q151.228 385.228 154.283 380.645 Q157.362 376.038 163.172 376.038 Z\" fill=\"#000000\" fill-rule=\"evenodd\" fill-opacity=\"1\" /><path clip-path=\"url(#clip870)\" d=\"M 0 0 M193.033 380.737 L181.227 399.186 L193.033 399.186 L193.033 380.737 M191.806 376.663 L197.686 376.663 L197.686 399.186 L202.616 399.186 L202.616 403.075 L197.686 403.075 L197.686 411.223 L193.033 411.223 L193.033 403.075 L177.431 403.075 L177.431 398.561 L191.806 376.663 Z\" fill=\"#000000\" fill-rule=\"evenodd\" fill-opacity=\"1\" /><path clip-path=\"url(#clip870)\" d=\"M 0 0 M127.686 132.168 Q124.075 132.168 122.246 135.733 Q120.441 139.274 120.441 146.404 Q120.441 153.51 122.246 157.075 Q124.075 160.617 127.686 160.617 Q131.32 160.617 133.126 157.075 Q134.954 153.51 134.954 146.404 Q134.954 139.274 133.126 135.733 Q131.32 132.168 127.686 132.168 M127.686 128.464 Q133.496 128.464 136.552 133.071 Q139.63 137.654 139.63 146.404 Q139.63 155.131 136.552 159.737 Q133.496 164.321 127.686 164.321 Q121.876 164.321 118.797 159.737 Q115.742 155.131 115.742 146.404 Q115.742 137.654 118.797 133.071 Q121.876 128.464 127.686 128.464 Z\" fill=\"#000000\" fill-rule=\"evenodd\" fill-opacity=\"1\" /><path clip-path=\"url(#clip870)\" d=\"M 0 0 M144.7 157.77 L149.584 157.77 L149.584 163.649 L144.7 163.649 L144.7 157.77 Z\" fill=\"#000000\" fill-rule=\"evenodd\" fill-opacity=\"1\" /><path clip-path=\"url(#clip870)\" d=\"M 0 0 M164.653 132.168 Q161.042 132.168 159.214 135.733 Q157.408 139.274 157.408 146.404 Q157.408 153.51 159.214 157.075 Q161.042 160.617 164.653 160.617 Q168.288 160.617 170.093 157.075 Q171.922 153.51 171.922 146.404 Q171.922 139.274 170.093 135.733 Q168.288 132.168 164.653 132.168 M164.653 128.464 Q170.464 128.464 173.519 133.071 Q176.598 137.654 176.598 146.404 Q176.598 155.131 173.519 159.737 Q170.464 164.321 164.653 164.321 Q158.843 164.321 155.765 159.737 Q152.709 155.131 152.709 146.404 Q152.709 137.654 155.765 133.071 Q158.843 128.464 164.653 128.464 Z\" fill=\"#000000\" fill-rule=\"evenodd\" fill-opacity=\"1\" /><path clip-path=\"url(#clip870)\" d=\"M 0 0 M181.713 129.089 L200.07 129.089 L200.07 133.024 L185.996 133.024 L185.996 141.497 Q187.014 141.149 188.033 140.987 Q189.051 140.802 190.07 140.802 Q195.857 140.802 199.237 143.973 Q202.616 147.145 202.616 152.561 Q202.616 158.14 199.144 161.242 Q195.672 164.321 189.352 164.321 Q187.176 164.321 184.908 163.95 Q182.663 163.58 180.255 162.839 L180.255 158.14 Q182.338 159.274 184.561 159.83 Q186.783 160.385 189.26 160.385 Q193.264 160.385 195.602 158.279 Q197.94 156.172 197.94 152.561 Q197.94 148.95 195.602 146.844 Q193.264 144.737 189.26 144.737 Q187.385 144.737 185.51 145.154 Q183.658 145.571 181.713 146.45 L181.713 129.089 Z\" fill=\"#000000\" fill-rule=\"evenodd\" fill-opacity=\"1\" /><path clip-path=\"url(#clip870)\" d=\"M 0 0 M16.4842 917.032 L16.4842 910.603 L64.0042 910.603 L64.0042 917.032 L16.4842 917.032 Z\" fill=\"#000000\" fill-rule=\"evenodd\" fill-opacity=\"1\" /><path clip-path=\"url(#clip870)\" d=\"M 0 0 M42.4881 874.828 L64.0042 874.828 L64.0042 880.684 L42.679 880.684 Q37.6183 880.684 35.1038 882.658 Q32.5894 884.631 32.5894 888.578 Q32.5894 893.32 35.6131 896.057 Q38.6368 898.795 43.8567 898.795 L64.0042 898.795 L64.0042 904.683 L28.3562 904.683 L28.3562 898.795 L33.8944 898.795 Q30.6797 896.694 29.0883 893.861 Q27.4968 890.997 27.4968 887.273 Q27.4968 881.13 31.3163 877.979 Q35.1038 874.828 42.4881 874.828 Z\" fill=\"#000000\" fill-rule=\"evenodd\" fill-opacity=\"1\" /><path clip-path=\"url(#clip870)\" d=\"M 0 0 M28.3562 872.886 L28.3562 866.68 L58.275 855.54 L28.3562 844.4 L28.3562 838.193 L64.0042 851.561 L64.0042 859.518 L28.3562 872.886 Z\" fill=\"#000000\" fill-rule=\"evenodd\" fill-opacity=\"1\" /><path clip-path=\"url(#clip870)\" d=\"M 0 0 M46.0847 815.85 Q46.0847 822.947 47.7079 825.685 Q49.3312 828.422 53.2461 828.422 Q56.3653 828.422 58.2114 826.385 Q60.0256 824.316 60.0256 820.783 Q60.0256 815.913 56.5881 812.985 Q53.1188 810.025 47.3897 810.025 L46.0847 810.025 L46.0847 815.85 M43.6657 804.168 L64.0042 804.168 L64.0042 810.025 L58.5933 810.025 Q61.8398 812.03 63.3994 815.022 Q64.9272 818.014 64.9272 822.343 Q64.9272 827.817 61.8716 831.064 Q58.7843 834.278 53.6281 834.278 Q47.6125 834.278 44.5569 830.268 Q41.5014 826.226 41.5014 818.237 L41.5014 810.025 L40.9285 810.025 Q36.8862 810.025 34.6901 812.699 Q32.4621 815.34 32.4621 820.146 Q32.4621 823.202 33.1941 826.098 Q33.9262 828.995 35.3903 831.668 L29.9795 831.668 Q28.7381 828.454 28.1334 825.43 Q27.4968 822.406 27.4968 819.542 Q27.4968 811.807 31.5072 807.988 Q35.5176 804.168 43.6657 804.168 Z\" fill=\"#000000\" fill-rule=\"evenodd\" fill-opacity=\"1\" /><path clip-path=\"url(#clip870)\" d=\"M 0 0 M33.8307 777.369 Q33.2578 778.356 33.0032 779.533 Q32.7167 780.679 32.7167 782.079 Q32.7167 787.045 35.9632 789.718 Q39.1779 792.36 45.2253 792.36 L64.0042 792.36 L64.0042 798.248 L28.3562 798.248 L28.3562 792.36 L33.8944 792.36 Q30.6479 790.514 29.0883 787.554 Q27.4968 784.594 27.4968 780.361 Q27.4968 779.756 27.5923 779.024 Q27.656 778.292 27.8151 777.401 L33.8307 777.369 Z\" fill=\"#000000\" fill-rule=\"evenodd\" fill-opacity=\"1\" /><path clip-path=\"url(#clip870)\" d=\"M 0 0 M28.3562 771.226 L28.3562 765.37 L64.0042 765.37 L64.0042 771.226 L28.3562 771.226 M14.479 771.226 L14.479 765.37 L21.895 765.37 L21.895 771.226 L14.479 771.226 Z\" fill=\"#000000\" fill-rule=\"evenodd\" fill-opacity=\"1\" /><path clip-path=\"url(#clip870)\" d=\"M 0 0 M46.0847 743.026 Q46.0847 750.124 47.7079 752.861 Q49.3312 755.598 53.2461 755.598 Q56.3653 755.598 58.2114 753.561 Q60.0256 751.492 60.0256 747.959 Q60.0256 743.09 56.5881 740.161 Q53.1188 737.201 47.3897 737.201 L46.0847 737.201 L46.0847 743.026 M43.6657 731.345 L64.0042 731.345 L64.0042 737.201 L58.5933 737.201 Q61.8398 739.206 63.3994 742.198 Q64.9272 745.19 64.9272 749.519 Q64.9272 754.993 61.8716 758.24 Q58.7843 761.455 53.6281 761.455 Q47.6125 761.455 44.5569 757.444 Q41.5014 753.402 41.5014 745.413 L41.5014 737.201 L40.9285 737.201 Q36.8862 737.201 34.6901 739.875 Q32.4621 742.517 32.4621 747.323 Q32.4621 750.378 33.1941 753.275 Q33.9262 756.171 35.3903 758.845 L29.9795 758.845 Q28.7381 755.63 28.1334 752.606 Q27.4968 749.583 27.4968 746.718 Q27.4968 738.984 31.5072 735.164 Q35.5176 731.345 43.6657 731.345 Z\" fill=\"#000000\" fill-rule=\"evenodd\" fill-opacity=\"1\" /><path clip-path=\"url(#clip870)\" d=\"M 0 0 M42.4881 695.57 L64.0042 695.57 L64.0042 701.426 L42.679 701.426 Q37.6183 701.426 35.1038 703.399 Q32.5894 705.373 32.5894 709.319 Q32.5894 714.062 35.6131 716.799 Q38.6368 719.536 43.8567 719.536 L64.0042 719.536 L64.0042 725.425 L28.3562 725.425 L28.3562 719.536 L33.8944 719.536 Q30.6797 717.436 29.0883 714.603 Q27.4968 711.738 27.4968 708.014 Q27.4968 701.872 31.3163 698.721 Q35.1038 695.57 42.4881 695.57 Z\" fill=\"#000000\" fill-rule=\"evenodd\" fill-opacity=\"1\" /><path clip-path=\"url(#clip870)\" d=\"M 0 0 M18.2347 683.634 L28.3562 683.634 L28.3562 671.571 L32.9077 671.571 L32.9077 683.634 L52.2594 683.634 Q56.6199 683.634 57.8613 682.456 Q59.1026 681.247 59.1026 677.586 L59.1026 671.571 L64.0042 671.571 L64.0042 677.586 Q64.0042 684.366 61.4897 686.944 Q58.9434 689.522 52.2594 689.522 L32.9077 689.522 L32.9077 693.819 L28.3562 693.819 L28.3562 689.522 L18.2347 689.522 L18.2347 683.634 Z\" fill=\"#000000\" fill-rule=\"evenodd\" fill-opacity=\"1\" /><path clip-path=\"url(#clip870)\" d=\"M 0 0 M58.657 639.042 L77.5631 639.042 L77.5631 644.93 L28.3562 644.93 L28.3562 639.042 L33.7671 639.042 Q30.5842 637.196 29.0564 634.395 Q27.4968 631.562 27.4968 627.647 Q27.4968 621.154 32.6531 617.112 Q37.8093 613.038 46.212 613.038 Q54.6147 613.038 59.771 617.112 Q64.9272 621.154 64.9272 627.647 Q64.9272 631.562 63.3994 634.395 Q61.8398 637.196 58.657 639.042 M46.212 619.117 Q39.7508 619.117 36.0905 621.791 Q32.3984 624.433 32.3984 629.08 Q32.3984 633.727 36.0905 636.4 Q39.7508 639.042 46.212 639.042 Q52.6732 639.042 56.3653 636.4 Q60.0256 633.727 60.0256 629.08 Q60.0256 624.433 56.3653 621.791 Q52.6732 619.117 46.212 619.117 Z\" fill=\"#000000\" fill-rule=\"evenodd\" fill-opacity=\"1\" /><path clip-path=\"url(#clip870)\" d=\"M 0 0 M33.7671 583.438 L14.479 583.438 L14.479 577.581 L64.0042 577.581 L64.0042 583.438 L58.657 583.438 Q61.8398 585.284 63.3994 588.116 Q64.9272 590.917 64.9272 594.864 Q64.9272 601.325 59.771 605.399 Q54.6147 609.442 46.212 609.442 Q37.8093 609.442 32.6531 605.399 Q27.4968 601.325 27.4968 594.864 Q27.4968 590.917 29.0564 588.116 Q30.5842 585.284 33.7671 583.438 M46.212 603.394 Q52.6732 603.394 56.3653 600.752 Q60.0256 598.079 60.0256 593.432 Q60.0256 588.785 56.3653 586.111 Q52.6732 583.438 46.212 583.438 Q39.7508 583.438 36.0905 586.111 Q32.3984 588.785 32.3984 593.432 Q32.3984 598.079 36.0905 600.752 Q39.7508 603.394 46.212 603.394 Z\" fill=\"#000000\" fill-rule=\"evenodd\" fill-opacity=\"1\" /><path clip-path=\"url(#clip870)\" d=\"M 0 0 M14.479 553.391 L19.3487 553.391 L19.3487 558.993 Q19.3487 562.144 20.6219 563.386 Q21.895 564.595 25.2052 564.595 L28.3562 564.595 L28.3562 554.951 L32.9077 554.951 L32.9077 564.595 L64.0042 564.595 L64.0042 570.483 L32.9077 570.483 L32.9077 576.085 L28.3562 576.085 L28.3562 570.483 L25.8736 570.483 Q19.9216 570.483 17.2162 567.714 Q14.479 564.945 14.479 558.93 L14.479 553.391 Z\" fill=\"#000000\" fill-rule=\"evenodd\" fill-opacity=\"1\" /><polyline clip-path=\"url(#clip872)\" style=\"stroke:#009af9; stroke-width:4; stroke-opacity:1; fill:none\" points=\"\n",
       "  298.45,1384.24 298.786,1384.24 299.143,1384.24 299.522,1384.24 299.924,1384.24 300.35,1384.24 300.803,1384.24 301.284,1384.24 301.794,1384.24 302.335,1384.24 \n",
       "  302.91,1384.24 303.52,1384.24 304.167,1384.24 304.855,1384.24 305.584,1384.24 306.358,1384.24 307.18,1384.24 308.052,1384.24 308.978,1384.24 309.961,1384.24 \n",
       "  311.004,1384.24 312.111,1384.24 313.286,1384.24 314.534,1384.24 315.858,1384.24 317.263,1383.41 318.755,1383.41 320.338,1383.41 322.018,1382.59 323.802,1381.76 \n",
       "  325.695,1380.93 327.705,1380.11 329.838,1378.46 332.101,1376.8 334.504,1374.32 337.055,1371.01 339.762,1367.68 342.636,1363.5 345.686,1357.6 348.923,1350.76 \n",
       "  352.359,1342.85 356.007,1332.02 359.878,1320.44 363.987,1305.11 368.348,1286.93 372.977,1264 377.891,1234.93 383.107,1198.02 388.642,1153.01 394.518,1096.31 \n",
       "  400.755,1027.93 407.374,946.026 414.401,852.254 421.859,747.092 429.775,635.782 438.177,520.822 447.095,408.253 456.561,305.486 466.608,217.333 477.273,148.648 \n",
       "  488.592,104.597 500.607,86.1857 513.36,93.474 526.896,124.082 541.263,176.836 556.513,245.613 572.7,328.057 589.88,418.555 608.116,512.671 627.473,608.172 \n",
       "  648.017,700.982 669.824,790.147 692.971,872.831 717.538,949.186 743.615,1017.3 771.294,1078.07 800.672,1130.97 831.855,1176.44 864.954,1215.87 900.085,1249.02 \n",
       "  937.374,1276.5 976.953,1298.9 1018.96,1317.58 1063.55,1333.03 1110.88,1344.87 1161.12,1354.29 1214.44,1361.63 1271.04,1367.15 1331.11,1371.9 1394.88,1375.22 \n",
       "  1462.56,1377.27 1534.39,1379.8 1610.64,1381.25 1691.57,1381.69 1777.48,1382.82 1868.66,1383.03 1965.43,1383.17 2068.16,1384.09 2177.19,1384.14 2292.92,1384.18 \n",
       "  \n",
       "  \"/>\n",
       "</svg>\n"
      ]
     },
     "execution_count": 33,
     "metadata": {},
     "output_type": "execute_result"
    }
   ],
   "source": [
    "# Invariant distribution of firm size (in terms of output)\n",
    "\n",
    "q = (price*s).^(1/γ)\n",
    "plot2 = plot(q[1:100],bar_μ[1:100],legend = false) \n",
    "xlabel!(\"Output\")\n",
    "ylabel!(\"Invariant pdf\")\n",
    "#savefig(plot2,\"plot2.png\")"
   ]
  },
  {
   "cell_type": "code",
   "execution_count": null,
   "metadata": {},
   "outputs": [],
   "source": []
  }
 ],
 "metadata": {
  "kernelspec": {
   "display_name": "Julia 1.5.3",
   "language": "julia",
   "name": "julia-1.5"
  },
  "language_info": {
   "file_extension": ".jl",
   "mimetype": "application/julia",
   "name": "julia",
   "version": "1.5.3"
  }
 },
 "nbformat": 4,
 "nbformat_minor": 4
}
