{
 "cells": [
  {
   "cell_type": "code",
   "execution_count": 1,
   "metadata": {},
   "outputs": [],
   "source": [
    "using Random, Distributions\n",
    "using LinearAlgebra, Statistics\n",
    "using CSV, DataFrames\n",
    "using Plots"
   ]
  },
  {
   "cell_type": "code",
   "execution_count": 2,
   "metadata": {},
   "outputs": [
    {
     "data": {
      "text/html": [
       "<table class=\"data-frame\"><thead><tr><th></th><th>year</th><th>sector</th><th>fage</th><th>firms</th><th>estabs</th><th>emp</th><th>denom</th><th>estabs_entry</th></tr><tr><th></th><th>Int64</th><th>String</th><th>String</th><th>Int64</th><th>Int64</th><th>Int64</th><th>Int64</th><th>String</th></tr></thead><tbody><p>12 rows × 27 columns (omitted printing of 19 columns)</p><tr><th>1</th><td>2018</td><td>44-45</td><td>a) 0</td><td>43132</td><td>43449</td><td>193935</td><td>96968</td><td>43449</td></tr><tr><th>2</th><td>2018</td><td>44-45</td><td>b) 1</td><td>36043</td><td>36596</td><td>182127</td><td>185175</td><td>63</td></tr><tr><th>3</th><td>2018</td><td>44-45</td><td>c) 2</td><td>32769</td><td>33649</td><td>190511</td><td>192813</td><td>1189</td></tr><tr><th>4</th><td>2018</td><td>44-45</td><td>d) 3</td><td>28670</td><td>29817</td><td>188771</td><td>192942</td><td>1025</td></tr><tr><th>5</th><td>2018</td><td>44-45</td><td>e) 4</td><td>26064</td><td>27532</td><td>185633</td><td>187887</td><td>931</td></tr><tr><th>6</th><td>2018</td><td>44-45</td><td>f) 5</td><td>23174</td><td>24217</td><td>162477</td><td>165576</td><td>724</td></tr><tr><th>7</th><td>2018</td><td>44-45</td><td>g) 6 to 10</td><td>90776</td><td>97963</td><td>786885</td><td>802178</td><td>2477</td></tr><tr><th>8</th><td>2018</td><td>44-45</td><td>h) 11 to 15</td><td>74236</td><td>84918</td><td>763098</td><td>769537</td><td>1820</td></tr><tr><th>9</th><td>2018</td><td>44-45</td><td>i) 16 to 20</td><td>50111</td><td>63855</td><td>634190</td><td>644065</td><td>1500</td></tr><tr><th>10</th><td>2018</td><td>44-45</td><td>j) 21 to 25</td><td>41871</td><td>58039</td><td>829552</td><td>835156</td><td>1222</td></tr><tr><th>11</th><td>2018</td><td>44-45</td><td>k) 26+</td><td>82800</td><td>178698</td><td>3110897</td><td>3116104</td><td>3519</td></tr><tr><th>12</th><td>2018</td><td>44-45</td><td>l) Left Censored</td><td>49520</td><td>306038</td><td>8550769</td><td>8591602</td><td>8613</td></tr></tbody></table>"
      ],
      "text/latex": [
       "\\begin{tabular}{r|ccccccccc}\n",
       "\t& year & sector & fage & firms & estabs & emp & denom & estabs\\_entry & \\\\\n",
       "\t\\hline\n",
       "\t& Int64 & String & String & Int64 & Int64 & Int64 & Int64 & String & \\\\\n",
       "\t\\hline\n",
       "\t1 & 2018 & 44-45 & a) 0 & 43132 & 43449 & 193935 & 96968 & 43449 & $\\dots$ \\\\\n",
       "\t2 & 2018 & 44-45 & b) 1 & 36043 & 36596 & 182127 & 185175 & 63 & $\\dots$ \\\\\n",
       "\t3 & 2018 & 44-45 & c) 2 & 32769 & 33649 & 190511 & 192813 & 1189 & $\\dots$ \\\\\n",
       "\t4 & 2018 & 44-45 & d) 3 & 28670 & 29817 & 188771 & 192942 & 1025 & $\\dots$ \\\\\n",
       "\t5 & 2018 & 44-45 & e) 4 & 26064 & 27532 & 185633 & 187887 & 931 & $\\dots$ \\\\\n",
       "\t6 & 2018 & 44-45 & f) 5 & 23174 & 24217 & 162477 & 165576 & 724 & $\\dots$ \\\\\n",
       "\t7 & 2018 & 44-45 & g) 6 to 10 & 90776 & 97963 & 786885 & 802178 & 2477 & $\\dots$ \\\\\n",
       "\t8 & 2018 & 44-45 & h) 11 to 15 & 74236 & 84918 & 763098 & 769537 & 1820 & $\\dots$ \\\\\n",
       "\t9 & 2018 & 44-45 & i) 16 to 20 & 50111 & 63855 & 634190 & 644065 & 1500 & $\\dots$ \\\\\n",
       "\t10 & 2018 & 44-45 & j) 21 to 25 & 41871 & 58039 & 829552 & 835156 & 1222 & $\\dots$ \\\\\n",
       "\t11 & 2018 & 44-45 & k) 26+ & 82800 & 178698 & 3110897 & 3116104 & 3519 & $\\dots$ \\\\\n",
       "\t12 & 2018 & 44-45 & l) Left Censored & 49520 & 306038 & 8550769 & 8591602 & 8613 & $\\dots$ \\\\\n",
       "\\end{tabular}\n"
      ],
      "text/plain": [
       "\u001b[1m12×27 DataFrame\u001b[0m\n",
       "\u001b[1m Row \u001b[0m│\u001b[1m year  \u001b[0m\u001b[1m sector \u001b[0m\u001b[1m fage             \u001b[0m\u001b[1m firms \u001b[0m\u001b[1m estabs \u001b[0m\u001b[1m emp     \u001b[0m\u001b[1m denom   \u001b[0m\u001b[1m estab\u001b[0m ⋯\n",
       "\u001b[1m     \u001b[0m│\u001b[90m Int64 \u001b[0m\u001b[90m String \u001b[0m\u001b[90m String           \u001b[0m\u001b[90m Int64 \u001b[0m\u001b[90m Int64  \u001b[0m\u001b[90m Int64   \u001b[0m\u001b[90m Int64   \u001b[0m\u001b[90m Strin\u001b[0m ⋯\n",
       "─────┼──────────────────────────────────────────────────────────────────────────\n",
       "   1 │  2018  44-45   a) 0              43132   43449   193935    96968  43449 ⋯\n",
       "   2 │  2018  44-45   b) 1              36043   36596   182127   185175  63\n",
       "   3 │  2018  44-45   c) 2              32769   33649   190511   192813  1189\n",
       "   4 │  2018  44-45   d) 3              28670   29817   188771   192942  1025\n",
       "   5 │  2018  44-45   e) 4              26064   27532   185633   187887  931   ⋯\n",
       "   6 │  2018  44-45   f) 5              23174   24217   162477   165576  724\n",
       "   7 │  2018  44-45   g) 6 to 10        90776   97963   786885   802178  2477\n",
       "   8 │  2018  44-45   h) 11 to 15       74236   84918   763098   769537  1820\n",
       "   9 │  2018  44-45   i) 16 to 20       50111   63855   634190   644065  1500  ⋯\n",
       "  10 │  2018  44-45   j) 21 to 25       41871   58039   829552   835156  1222\n",
       "  11 │  2018  44-45   k) 26+            82800  178698  3110897  3116104  3519\n",
       "  12 │  2018  44-45   l) Left Censored  49520  306038  8550769  8591602  8613\n",
       "\u001b[36m                                                              20 columns omitted\u001b[0m"
      ]
     },
     "execution_count": 2,
     "metadata": {},
     "output_type": "execute_result"
    }
   ],
   "source": [
    "γ = 0.2\n",
    "β = 0.8 # 4% interest rate, 5 years\n",
    "\n",
    "df = DataFrame(CSV.File(\"/Users/yinyin/Documents/GitHub/Practice/firm_dynamics/bds2018_sector_fage.csv\",delim=','))\n",
    "d = filter([:year, :sector] => (year,sector) -> year==2018 && sector == \"44-45\" ,df)"
   ]
  },
  {
   "cell_type": "markdown",
   "metadata": {},
   "source": [
    "If we take variable cost to be wL and normalize w=1. Then log(VC)=log(L), meanwhile we have $$VC = \\frac{q^{1+\\gamma}}{(1+\\gamma)s}$$ \n",
    "so $$log(VC)= (1+\\gamma)log(q) - log(1+\\gamma) - log(s) $$,  \n",
    "\n",
    "Also, note that firms' optimal decision of $q$ is $q = (p*s)^(1/γ)$, so we have $log(q)= \\frac{1}{\\gamma}(log(p)+log(s))$, so we have\n",
    "\n",
    "$$ log(L) = \\frac{1+\\gamma}{\\gamma}(log(p)+log(s)) - log(1+\\gamma) - log(s) $$\n",
    "$$ log(L) = 1/\\gamma  log(s) + \\frac{1+\\gamma}{\\gamma}log(p) - log(1+\\gamma) $$\n",
    "$$ log(s) = \\gamma log(L) - (1+\\gamma)log(p) + \\gamma*log(1+\\gamma) $$\n",
    "\n",
    "Since we have $log(s_{t=1}) = \\rho log(s_{t}) + \\epsilon_{t}$, we have\n",
    "\n",
    "$$ \\gamma log(L_{t+1}) - (1+\\gamma)log(p) + \\gamma*log(1+\\gamma) = \\rho [\\gamma log(L_{t}) - (1+\\gamma)log(p) + \\gamma*log(1+\\gamma)]  + \\epsilon_{t+1}$$\n",
    "\n",
    "$$ log(L_{t+1}) = \\rho log(L_{t}) + A + \\frac{1}{\\gamma}\\epsilon_{t+1}  $$"
   ]
  },
  {
   "cell_type": "code",
   "execution_count": 3,
   "metadata": {},
   "outputs": [
    {
     "data": {
      "text/plain": [
       "StatsModels.TableRegressionModel{LinearModel{GLM.LmResp{Array{Float64,1}},GLM.DensePredChol{Float64,Cholesky{Float64,Array{Float64,2}}}},Array{Float64,2}}\n",
       "\n",
       "Y ~ 1 + X\n",
       "\n",
       "Coefficients:\n",
       "───────────────────────────────────────────────────────────────────────\n",
       "                Coef.  Std. Error     t  Pr(>|t|)  Lower 95%  Upper 95%\n",
       "───────────────────────────────────────────────────────────────────────\n",
       "(Intercept)  0.599082    0.417623  1.43    0.2469  -0.729981    1.92815\n",
       "X            0.865704    0.190756  4.54    0.0200   0.258635    1.47277\n",
       "───────────────────────────────────────────────────────────────────────"
      ]
     },
     "execution_count": 3,
     "metadata": {},
     "output_type": "execute_result"
    }
   ],
   "source": [
    "firms = zeros(6) # 6 age cohorts: entrants, 1-5, 6-10, 11-15, 16-20, 21-25\n",
    "emp = zeros(6)\n",
    "deaths = zeros(6)\n",
    "\n",
    "firms[1] = d.firms[1]*5\n",
    "emp[1] = d.emp[1]*5\n",
    "deaths[1] =0\n",
    "\n",
    "firms[2] = sum(d.firms[2:6])\n",
    "emp[2] = sum(d.emp[2:6])\n",
    "deaths[2] = sum(parse.(Int64, d.firmdeath_firms[2:6]))\n",
    "\n",
    "for i in 3:6\n",
    "    firms[i] = d.firms[4+i]\n",
    "    emp[i] = d.emp[4+i]\n",
    "    deaths[i] = parse(Int64, d.firmdeath_firms[4+i])\n",
    "end\n",
    "\n",
    "avg_emp = emp./(firms-deaths) # average employment for surviving firms\n",
    "lemp = log.(avg_emp)\n",
    "\n",
    "using GLM\n",
    "\n",
    "X = lemp[1:5]\n",
    "Y = lemp[2:6]\n",
    "\n",
    "# plot(X,Y)\n",
    "\n",
    "data = DataFrame(X=X,Y=Y)\n",
    "lm(@formula(Y ~ X), data)"
   ]
  },
  {
   "cell_type": "code",
   "execution_count": 4,
   "metadata": {},
   "outputs": [
    {
     "data": {
      "text/plain": [
       "0.08842190636328706"
      ]
     },
     "execution_count": 4,
     "metadata": {},
     "output_type": "execute_result"
    }
   ],
   "source": [
    "ρ = 0.866\n",
    "σ = γ*sqrt(var(lemp)*5/4*(1-ρ^2)) # = 0.06\n",
    "σ_0 = sqrt(σ^2/(1 - ρ^2)) # 0.12\n",
    "m = (0.6 - ρ *log(1+γ))*γ # assume p=1, m = 0.09\n",
    "\n",
    "# parameters left to calibrate: c_e, f, m_0"
   ]
  },
  {
   "cell_type": "code",
   "execution_count": 5,
   "metadata": {},
   "outputs": [],
   "source": [
    "# moments to match\n",
    "\n",
    "mom = zeros(5)\n",
    "for i in 1:5\n",
    "    mom[i] = (firms[i+1]-deaths[i+1])/firms[1]\n",
    "end\n",
    "\n",
    "# probability to survive till age 1, 2, 3: α_1,  α_3,  α_5"
   ]
  },
  {
   "cell_type": "code",
   "execution_count": 6,
   "metadata": {},
   "outputs": [
    {
     "data": {
      "text/plain": [
       "tauchen (generic function with 4 methods)"
      ]
     },
     "execution_count": 6,
     "metadata": {},
     "output_type": "execute_result"
    }
   ],
   "source": [
    "# Discretize AR(1) - Tauchen Method\n",
    "\n",
    "function tauchen(m, σ, ρ=0.866, n_std = 8, N = 120)\n",
    "    # Discretize space\n",
    "    m_s = m/(1-ρ)\n",
    "    σ_s = σ/sqrt(1-ρ^2)\n",
    "    s_min = m_s - n_std * σ_s/2\n",
    "    s_max = m_s + n_std * σ_s\n",
    "    log_s = range(s_min, s_max, length = N)\n",
    "    s = exp.(log_s)\n",
    "    d = log_s[2] - log_s[1]\n",
    "    d_half = d/2\n",
    "    \n",
    "    # Tranformation matrix\n",
    "    P = zeros(N,N)\n",
    "    for i in eachindex(log_s) \n",
    "        P[i,1] = cdf(Normal(0,1), (s_min + d_half -ρ*log_s[i]-m)/σ)\n",
    "        P[i,N] = 1 - cdf(Normal(0,1), (s_max - d_half -ρ*log_s[i]-m)/σ)\n",
    "        for j in 2:N-1\n",
    "            P[i,j] = cdf(Normal(0,1), (log_s[j] + d_half -ρ*log_s[i]-m)/σ) - cdf(Normal(0,1), (log_s[j]  - d_half -ρ*log_s[i]-m)/σ)\n",
    "        end    \n",
    "    end\n",
    "    return P,s\n",
    "end"
   ]
  },
  {
   "cell_type": "code",
   "execution_count": 7,
   "metadata": {},
   "outputs": [],
   "source": [
    "(P,s) = tauchen(m, σ);"
   ]
  },
  {
   "cell_type": "code",
   "execution_count": 8,
   "metadata": {},
   "outputs": [
    {
     "data": {
      "text/plain": [
       "findV (generic function with 5 methods)"
      ]
     },
     "execution_count": 8,
     "metadata": {},
     "output_type": "execute_result"
    }
   ],
   "source": [
    "# Find Value Function\n",
    "\n",
    "function findV(p, V0, P, s, f, γ=0.2, β=0.8, max_it = 1e4, tol=1e-8)\n",
    "    i = 1 \n",
    "    dist = 1e3\n",
    "    V = V0\n",
    "    N = length(s)\n",
    "    \n",
    "    # optimal q\n",
    "    q = (p*s).^(1/γ)\n",
    "    # profit function\n",
    "    profit = p*q - (q.^(1+γ))./((1+γ)*s)-f*ones(N)\n",
    "    \n",
    "    while (i < max_it) & (dist > tol)\n",
    "        V1 =  max.(0, profit + β * P'*V)\n",
    "        dist = norm(V1 - V)\n",
    "        V = V1\n",
    "        i += 1\n",
    "    end\n",
    "    \n",
    "    return V\n",
    "    \n",
    "end"
   ]
  },
  {
   "cell_type": "code",
   "execution_count": 9,
   "metadata": {},
   "outputs": [
    {
     "data": {
      "text/plain": [
       "fr_entry (generic function with 1 method)"
      ]
     },
     "execution_count": 9,
     "metadata": {},
     "output_type": "execute_result"
    }
   ],
   "source": [
    "function fr_entry(p, P, s, c_e, g, f)\n",
    "    V0 = zeros(N)\n",
    "    V = findV(p, V0, P, s, f)\n",
    "    return  β*g'*V - c_e\n",
    "end"
   ]
  },
  {
   "cell_type": "code",
   "execution_count": 10,
   "metadata": {},
   "outputs": [
    {
     "data": {
      "text/plain": [
       "eqm_price (generic function with 3 methods)"
      ]
     },
     "execution_count": 10,
     "metadata": {},
     "output_type": "execute_result"
    }
   ],
   "source": [
    "function eqm_price(P, s, c_e, g, f, max_it = 1e3, tol=1e-8)\n",
    "    p_max = 100\n",
    "    p_min = 0\n",
    "    v_e = 1e3\n",
    "    i = 0\n",
    "    \n",
    "    while (i < max_it) & (p_max - p_min > tol)\n",
    "        p = (p_max + p_min)/2\n",
    "        v_e = fr_entry(p, P, s, c_e, g, f)\n",
    "        if v_e > 0\n",
    "            p_max = p\n",
    "        else\n",
    "            p_min = p\n",
    "        end\n",
    "        i +=1\n",
    "    end\n",
    "    \n",
    "    return p_min\n",
    "end"
   ]
  },
  {
   "cell_type": "code",
   "execution_count": 11,
   "metadata": {},
   "outputs": [
    {
     "data": {
      "text/plain": [
       "exit_s (generic function with 1 method)"
      ]
     },
     "execution_count": 11,
     "metadata": {},
     "output_type": "execute_result"
    }
   ],
   "source": [
    "# Exit threshold\n",
    "\n",
    "function exit_s(p, s, P, f)\n",
    "    v = -1\n",
    "    # optimal q\n",
    "    q = (p*s).^(1/γ)\n",
    "    # profit function\n",
    "    profit = p*q - (q.^(1+γ))./((1+γ)*s)-f*ones(N)\n",
    "    \n",
    "    V0 = zeros(N)\n",
    "    V = profit + β*P'*findV(p, V0, P, s, f)\n",
    "    \n",
    "    return sum(V.<0)\n",
    "end"
   ]
  },
  {
   "cell_type": "code",
   "execution_count": 12,
   "metadata": {},
   "outputs": [
    {
     "data": {
      "text/plain": [
       "Moments (generic function with 1 method)"
      ]
     },
     "execution_count": 12,
     "metadata": {},
     "output_type": "execute_result"
    }
   ],
   "source": [
    "# moments \n",
    "\n",
    "N = length(s)\n",
    "\n",
    "function Moments(f, c_e, m_0)\n",
    "    \n",
    "    # Initial distribution\n",
    "    G = cdf(LogNormal(m_0,σ_0),s)\n",
    "    g = zeros(N)\n",
    "    g[1] = G[1]\n",
    "\n",
    "    for i in 2:N\n",
    "        g[i] = G[i] - G[i-1]\n",
    "    end\n",
    "    g=round.(g/sum(g),digits=4);\n",
    "\n",
    "    \n",
    "    price = eqm_price(P, s, c_e, g, f)\n",
    "    # Exit rule\n",
    "    k = exit_s(price,s, P, f)\n",
    "    s_star = s[k+1]\n",
    "    \n",
    "    P_tilde = zeros(N,N)\n",
    "    # g_tilde = zeros(N)\n",
    "    for i in k+1:N\n",
    "        P_tilde[i,:] = P[i,:]\n",
    "        # g_tilde[i] = g[i]\n",
    "    end\n",
    "    \n",
    "    # Invariant distribution\n",
    "    μ=inv(I-P_tilde')*g\n",
    "    \n",
    "    α = zeros(5)\n",
    "    MU = zeros(5,N)\n",
    "\n",
    "    for i in eachindex(α)\n",
    "        MU[i,:] = (P_tilde')^(i) * g\n",
    "        α[i] = sum(MU[i,:])/sum(g)\n",
    "    end\n",
    "\n",
    "    return α  \n",
    "end"
   ]
  },
  {
   "cell_type": "code",
   "execution_count": 13,
   "metadata": {},
   "outputs": [
    {
     "data": {
      "text/plain": [
       "0.1:0.1:1.5"
      ]
     },
     "execution_count": 13,
     "metadata": {},
     "output_type": "execute_result"
    }
   ],
   "source": [
    "c_e = 5:5:100\n",
    "f = 5:5:100\n",
    "m_0 = 0.1:0.1:1.5"
   ]
  },
  {
   "cell_type": "code",
   "execution_count": 14,
   "metadata": {},
   "outputs": [
    {
     "name": "stdout",
     "output_type": "stream",
     "text": [
      "0.05233569465286742i5j4k9f:25 c_e:20 m_0:0.9"
     ]
    }
   ],
   "source": [
    "i_star = 1\n",
    "j_star = 1\n",
    "k_star = 1\n",
    "di = 1e3\n",
    "\n",
    "for i in eachindex(f)\n",
    "    for j in eachindex(c_e)\n",
    "        for k in eachindex(m_0)\n",
    "            # print(\"i\", i,\"j\",j,\"k\",k)\n",
    "            di_new = norm(Moments(f[i], c_e[j], m_0[k]) - mom)\n",
    "            if di_new < di\n",
    "                di = di_new\n",
    "                i_star = i\n",
    "                j_star = j\n",
    "                k_star = k\n",
    "            end  \n",
    "        end\n",
    "    end\n",
    "end\n",
    "\n",
    "print(di)\n",
    "print(\"i\",i_star,\"j\", j_star,\"k\", k_star)\n",
    "print(\"f:\", f[i_star],\" c_e:\", c_e[j_star],\" m_0:\", m_0[k_star])"
   ]
  },
  {
   "cell_type": "code",
   "execution_count": 15,
   "metadata": {},
   "outputs": [
    {
     "data": {
      "text/plain": [
       "5-element Array{Float64,1}:\n",
       " 0.5711072985254567\n",
       " 0.38122507650932025\n",
       " 0.31800055643141983\n",
       " 0.2167022164518223\n",
       " 0.18196234814059167"
      ]
     },
     "execution_count": 15,
     "metadata": {},
     "output_type": "execute_result"
    }
   ],
   "source": [
    "mom"
   ]
  },
  {
   "cell_type": "code",
   "execution_count": 16,
   "metadata": {},
   "outputs": [
    {
     "data": {
      "text/plain": [
       "5-element Array{Float64,1}:\n",
       " 0.5724862431215624\n",
       " 0.42261920179885304\n",
       " 0.3063399829038334\n",
       " 0.2176539824942518\n",
       " 0.15218358046088845"
      ]
     },
     "execution_count": 16,
     "metadata": {},
     "output_type": "execute_result"
    }
   ],
   "source": [
    "Moments(f[i_star], c_e[j_star], m_0[k_star])"
   ]
  },
  {
   "cell_type": "code",
   "execution_count": null,
   "metadata": {},
   "outputs": [],
   "source": []
  },
  {
   "cell_type": "code",
   "execution_count": null,
   "metadata": {},
   "outputs": [],
   "source": []
  }
 ],
 "metadata": {
  "kernelspec": {
   "display_name": "Julia 1.5.3",
   "language": "julia",
   "name": "julia-1.5"
  },
  "language_info": {
   "file_extension": ".jl",
   "mimetype": "application/julia",
   "name": "julia",
   "version": "1.5.3"
  }
 },
 "nbformat": 4,
 "nbformat_minor": 4
}
